{
 "cells": [
  {
   "cell_type": "code",
   "execution_count": 5,
   "id": "211f354b-88f2-4801-9b7b-f020eb97c7c9",
   "metadata": {},
   "outputs": [],
   "source": [
    "import numpy as np\n",
    "from scipy import sparse\n",
    "import matplotlib.pyplot as plt\n",
    "import solid2 as solid\n",
    "import time\n",
    "from numba import jit"
   ]
  },
  {
   "cell_type": "markdown",
   "id": "b1acf87e-26f5-456e-958d-918d11033ab7",
   "metadata": {},
   "source": [
    "## Lattice"
   ]
  },
  {
   "cell_type": "markdown",
   "id": "98a96608-0a6f-4af9-a940-570a43680239",
   "metadata": {},
   "source": [
    "### Define a spherical quantum dot:"
   ]
  },
  {
   "cell_type": "code",
   "execution_count": 6,
   "id": "ebc2cf3e-e227-4fc7-a267-3cafe3328b49",
   "metadata": {},
   "outputs": [],
   "source": [
    "class InDot:\n",
    "    def __init__(self,R):\n",
    "        self.R = R\n",
    "    \n",
    "    def __call__(self, r):\n",
    "        return np.linalg.norm(r) < self.R"
   ]
  },
  {
   "cell_type": "code",
   "execution_count": 7,
   "id": "5548489d-4abd-4490-81bd-78c89268e602",
   "metadata": {},
   "outputs": [
    {
     "data": {
      "text/plain": [
       "587"
      ]
     },
     "execution_count": 7,
     "metadata": {},
     "output_type": "execute_result"
    }
   ],
   "source": [
    "a1 = np.array((0,1,1))\n",
    "a2 = np.array((1,0,1))\n",
    "a3 = np.array((1,1,0))\n",
    "dlat = np.array([[0,0,0],[1,0,0]])\n",
    "Ndot1 = 20\n",
    "Ndot2 = 20\n",
    "Ndot3 = 20\n",
    "indot = InDot(5.1)\n",
    "ddot = []\n",
    "for n1 in range(-Ndot1//2,Ndot1//2):\n",
    "    for n2 in range(-Ndot2//2,Ndot2//2):\n",
    "        for n3 in range(-Ndot3//2,Ndot3//2):\n",
    "            for alpha in range(len(dlat)):\n",
    "                r = n1*a1+n2*a2+n3*a3+dlat[alpha]\n",
    "                if indot(r):\n",
    "                    ddot.append(r)\n",
    "ddot = np.array(ddot)\n",
    "Ndot = len(ddot)\n",
    "Ndot"
   ]
  },
  {
   "cell_type": "code",
   "execution_count": 8,
   "id": "d0137fb8-2bf1-434e-9f44-61b1270d2eda",
   "metadata": {},
   "outputs": [
    {
     "data": {
      "text/plain": [
       "np.float64(1.0)"
      ]
     },
     "execution_count": 8,
     "metadata": {},
     "output_type": "execute_result"
    }
   ],
   "source": [
    "min_dist = 10.0\n",
    "for d1 in ddot:\n",
    "    for d2 in ddot:\n",
    "        dist = np.linalg.norm(d1-d2)\n",
    "        if 0 < dist < min_dist:\n",
    "            min_dist = dist\n",
    "min_dist"
   ]
  },
  {
   "cell_type": "code",
   "execution_count": 9,
   "id": "f7e002a7-3f78-46c3-ac55-6ea8632c246c",
   "metadata": {},
   "outputs": [
    {
     "data": {
      "text/plain": [
       "'/Users/mlawler/Code/qdotarrays/solid_out.scad'"
      ]
     },
     "execution_count": 9,
     "metadata": {},
     "output_type": "execute_result"
    }
   ],
   "source": [
    "model = solid.sphere(0.0)\n",
    "scale = 10  # Larger scale will use more facets. \n",
    "for d in ddot:\n",
    "    if d.sum() % 2 == 0:\n",
    "        c = (112/256,128/256,144/256)  # Pb color: blueish-grey\n",
    "    else:\n",
    "        c = (150/256,0,0)  # Selenium color: deep red\n",
    "    model += solid.sphere(scale*0.5).\\\n",
    "        color(c).\\\n",
    "        translate(scale*d)\n",
    "model.save_as_scad()"
   ]
  },
  {
   "cell_type": "markdown",
   "id": "7d718bc3-0fd6-4fa1-ab3d-6346817f7c7c",
   "metadata": {},
   "source": [
    "### Define a square lattice of quantum dots"
   ]
  },
  {
   "cell_type": "code",
   "execution_count": 12,
   "id": "1ae392a6-70b1-4d42-82e5-9d8a45142b70",
   "metadata": {},
   "outputs": [],
   "source": [
    "a_dot = 11.0\n",
    "a1_dot = np.array((a_dot,0,0))\n",
    "a2_dot = np.array((0,a_dot,0))\n",
    "D = np.array(ddot)  ## makes a copy of ddot\n",
    "Dtype = np.array([D[alpha].sum()%2 for alpha in range(len(D))])"
   ]
  },
  {
   "cell_type": "code",
   "execution_count": 13,
   "id": "a5da6e13-3cff-48eb-a914-f9f79bed5327",
   "metadata": {},
   "outputs": [
    {
     "data": {
      "text/plain": [
       "np.float64(1.0)"
      ]
     },
     "execution_count": 13,
     "metadata": {},
     "output_type": "execute_result"
    }
   ],
   "source": [
    "min_dist = 10.0\n",
    "for alpha in range(len(D)):\n",
    "    for beta in range(len(D)):\n",
    "        dist = np.linalg.norm(D[alpha] - a1_dot+D[beta])\n",
    "        min_dist = min(dist,min_dist)\n",
    "min_dist"
   ]
  },
  {
   "cell_type": "code",
   "execution_count": 14,
   "id": "3ee32fa8-abc0-4562-a25b-ce9ecae0c6f1",
   "metadata": {},
   "outputs": [
    {
     "name": "stdout",
     "output_type": "stream",
     "text": [
      "2988\n"
     ]
    }
   ],
   "source": [
    "count = 0\n",
    "for d1 in D:\n",
    "    for d2 in D:\n",
    "        if 0.0 < np.linalg.norm(d2-d1) < 1.01:\n",
    "            count += 1\n",
    "print(count)"
   ]
  },
  {
   "cell_type": "code",
   "execution_count": 15,
   "id": "ba2fdf9e-4455-477c-b7a4-baab21f44b80",
   "metadata": {},
   "outputs": [],
   "source": [
    "@jit\n",
    "def site2index(n1,n2,alpha,N1,N2):\n",
    "    return n1+n2*N1+alpha*N1*N2\n",
    "@jit\n",
    "def index2site(i,N1,N2):\n",
    "    n1 = i%N1\n",
    "    n2 = (i//N1)%N2\n",
    "    alpha = (i//(N1*N2))\n",
    "    return (n1,n2,alpha)"
   ]
  },
  {
   "cell_type": "code",
   "execution_count": 16,
   "id": "d8b32456-a882-48b6-a040-cf8dd8f77eb5",
   "metadata": {},
   "outputs": [
    {
     "data": {
      "text/plain": [
       "'/Users/mlawler/Code/qdotarrays/solid_out.scad'"
      ]
     },
     "execution_count": 16,
     "metadata": {},
     "output_type": "execute_result"
    }
   ],
   "source": [
    "N1 = 1\n",
    "N2 = 1\n",
    "model = solid.sphere(0.0)\n",
    "scale = 10  # Larger scale will use more facets. \n",
    "for i in range(N1*N2*len(D)):\n",
    "    n1,n2,alpha = index2site(i,N1,N2)\n",
    "    r = n1*a1_dot+n2*a2_dot+D[alpha]\n",
    "    \n",
    "    if Dtype[alpha] == 0:\n",
    "        c = (112/256,128/256,144/256)  # Pb color: blueish-grey\n",
    "    else:\n",
    "        c = (150/256,0,0)  # Selenium color: deep red\n",
    "    model += solid.sphere(scale*0.5).\\\n",
    "        color(c).\\\n",
    "        translate(scale*r)\n",
    "model.save_as_scad()"
   ]
  },
  {
   "cell_type": "code",
   "execution_count": 17,
   "id": "7c617917-0736-4f12-983e-17a9a9e4e718",
   "metadata": {
    "scrolled": true,
    "tags": []
   },
   "outputs": [
    {
     "name": "stdout",
     "output_type": "stream",
     "text": [
      "(0, 0, 0)  is not symmetric!\n",
      "(0, 0, 1)  is not symmetric!\n",
      "(0, 0, 2)  is not symmetric!\n",
      "(0, 0, 3)  is not symmetric!\n",
      "(0, 0, 4)  is not symmetric!\n",
      "(0, 0, 5)  is not symmetric!\n",
      "(0, 0, 6)  is not symmetric!\n",
      "(0, 0, 7)  is not symmetric!\n",
      "(0, 0, 8)  is not symmetric!\n",
      "(0, 0, 9)  is not symmetric!\n",
      "(0, 0, 10)  is not symmetric!\n",
      "(0, 0, 11)  is not symmetric!\n",
      "(0, 0, 12)  is not symmetric!\n",
      "(0, 0, 13)  is not symmetric!\n",
      "(0, 0, 14)  is not symmetric!\n",
      "(0, 0, 15)  is not symmetric!\n",
      "(0, 0, 16)  is not symmetric!\n",
      "(0, 0, 17)  is not symmetric!\n",
      "(0, 0, 18)  is not symmetric!\n",
      "(0, 0, 19)  is not symmetric!\n",
      "(0, 0, 20)  is not symmetric!\n",
      "(0, 0, 21)  is not symmetric!\n",
      "(0, 0, 22)  is not symmetric!\n",
      "(0, 0, 23)  is not symmetric!\n",
      "(0, 0, 24)  is not symmetric!\n",
      "(0, 0, 25)  is not symmetric!\n",
      "(0, 0, 26)  is not symmetric!\n",
      "(0, 0, 27)  is not symmetric!\n",
      "(0, 0, 28)  is not symmetric!\n",
      "(0, 0, 29)  is not symmetric!\n",
      "(0, 0, 30)  is not symmetric!\n",
      "(0, 0, 31)  is not symmetric!\n",
      "(0, 0, 32)  is not symmetric!\n",
      "(0, 0, 33)  is not symmetric!\n",
      "(0, 0, 34)  is not symmetric!\n",
      "(0, 0, 35)  is not symmetric!\n",
      "(0, 0, 36)  is not symmetric!\n",
      "(0, 0, 37)  is not symmetric!\n",
      "(0, 0, 38)  is not symmetric!\n",
      "(0, 0, 39)  is not symmetric!\n",
      "(0, 0, 40)  is not symmetric!\n",
      "(0, 0, 41)  is not symmetric!\n",
      "(0, 0, 42)  is not symmetric!\n",
      "(0, 0, 43)  is not symmetric!\n",
      "(0, 0, 44)  is not symmetric!\n",
      "(0, 0, 45)  is not symmetric!\n",
      "(0, 0, 46)  is not symmetric!\n",
      "(0, 0, 47)  is not symmetric!\n",
      "(0, 0, 48)  is not symmetric!\n",
      "(0, 0, 49)  is not symmetric!\n",
      "(0, 0, 50)  is not symmetric!\n",
      "(0, 0, 51)  is not symmetric!\n",
      "(0, 0, 52)  is not symmetric!\n",
      "(0, 0, 53)  is not symmetric!\n",
      "(0, 0, 54)  is not symmetric!\n",
      "(0, 0, 55)  is not symmetric!\n",
      "(0, 0, 56)  is not symmetric!\n",
      "(0, 0, 57)  is not symmetric!\n",
      "(0, 0, 58)  is not symmetric!\n",
      "(0, 0, 59)  is not symmetric!\n",
      "(0, 0, 60)  is not symmetric!\n",
      "(0, 0, 61)  is not symmetric!\n",
      "(0, 0, 62)  is not symmetric!\n",
      "(0, 0, 63)  is not symmetric!\n",
      "(0, 0, 64)  is not symmetric!\n",
      "(0, 0, 65)  is not symmetric!\n",
      "(0, 0, 66)  is not symmetric!\n",
      "(0, 0, 67)  is not symmetric!\n",
      "(0, 0, 68)  is not symmetric!\n",
      "(0, 0, 69)  is not symmetric!\n",
      "(0, 0, 70)  is not symmetric!\n",
      "(0, 0, 71)  is not symmetric!\n",
      "(0, 0, 72)  is not symmetric!\n",
      "(0, 0, 73)  is not symmetric!\n",
      "(0, 0, 74)  is not symmetric!\n",
      "(0, 0, 75)  is not symmetric!\n",
      "(0, 0, 76)  is not symmetric!\n",
      "(0, 0, 77)  is not symmetric!\n",
      "(0, 0, 78)  is not symmetric!\n",
      "(0, 0, 79)  is not symmetric!\n",
      "(0, 0, 80)  is not symmetric!\n",
      "(0, 0, 81)  is not symmetric!\n",
      "(0, 0, 82)  is not symmetric!\n",
      "(0, 0, 83)  is not symmetric!\n",
      "(0, 0, 84)  is not symmetric!\n",
      "(0, 0, 85)  is not symmetric!\n",
      "(0, 0, 86)  is not symmetric!\n",
      "(0, 0, 87)  is not symmetric!\n",
      "(0, 0, 88)  is not symmetric!\n",
      "(0, 0, 89)  is not symmetric!\n",
      "(0, 0, 90)  is not symmetric!\n",
      "(0, 0, 91)  is not symmetric!\n",
      "(0, 0, 92)  is not symmetric!\n",
      "(0, 0, 93)  is not symmetric!\n",
      "(0, 0, 94)  is not symmetric!\n",
      "(0, 0, 95)  is not symmetric!\n",
      "(0, 0, 96)  is not symmetric!\n",
      "(0, 0, 97)  is not symmetric!\n",
      "(0, 0, 98)  is not symmetric!\n",
      "(0, 0, 99)  is not symmetric!\n",
      "(0, 0, 100)  is not symmetric!\n",
      "(0, 0, 101)  is not symmetric!\n",
      "(0, 0, 102)  is not symmetric!\n",
      "(0, 0, 103)  is not symmetric!\n",
      "(0, 0, 104)  is not symmetric!\n",
      "(0, 0, 105)  is not symmetric!\n",
      "(0, 0, 106)  is not symmetric!\n",
      "(0, 0, 107)  is not symmetric!\n",
      "(0, 0, 108)  is not symmetric!\n",
      "(0, 0, 109)  is not symmetric!\n",
      "(0, 0, 110)  is not symmetric!\n",
      "(0, 0, 111)  is not symmetric!\n",
      "(0, 0, 112)  is not symmetric!\n",
      "(0, 0, 113)  is not symmetric!\n",
      "(0, 0, 114)  is not symmetric!\n",
      "(0, 0, 115)  is not symmetric!\n",
      "(0, 0, 116)  is not symmetric!\n",
      "(0, 0, 117)  is not symmetric!\n",
      "(0, 0, 118)  is not symmetric!\n",
      "(0, 0, 119)  is not symmetric!\n",
      "(0, 0, 120)  is not symmetric!\n",
      "(0, 0, 121)  is not symmetric!\n",
      "(0, 0, 122)  is not symmetric!\n",
      "(0, 0, 123)  is not symmetric!\n",
      "(0, 0, 124)  is not symmetric!\n",
      "(0, 0, 125)  is not symmetric!\n",
      "(0, 0, 126)  is not symmetric!\n",
      "(0, 0, 127)  is not symmetric!\n",
      "(0, 0, 128)  is not symmetric!\n",
      "(0, 0, 129)  is not symmetric!\n",
      "(0, 0, 130)  is not symmetric!\n",
      "(0, 0, 131)  is not symmetric!\n",
      "(0, 0, 132)  is not symmetric!\n",
      "(0, 0, 133)  is not symmetric!\n",
      "(0, 0, 134)  is not symmetric!\n",
      "(0, 0, 135)  is not symmetric!\n",
      "(0, 0, 136)  is not symmetric!\n",
      "(0, 0, 137)  is not symmetric!\n",
      "(0, 0, 138)  is not symmetric!\n",
      "(0, 0, 139)  is not symmetric!\n",
      "(0, 0, 140)  is not symmetric!\n",
      "(0, 0, 141)  is not symmetric!\n",
      "(0, 0, 142)  is not symmetric!\n",
      "(0, 0, 143)  is not symmetric!\n",
      "(0, 0, 144)  is not symmetric!\n",
      "(0, 0, 145)  is not symmetric!\n",
      "(0, 0, 146)  is not symmetric!\n",
      "(0, 0, 147)  is not symmetric!\n",
      "(0, 0, 148)  is not symmetric!\n",
      "(0, 0, 149)  is not symmetric!\n",
      "(0, 0, 150)  is not symmetric!\n",
      "(0, 0, 151)  is not symmetric!\n",
      "(0, 0, 152)  is not symmetric!\n",
      "(0, 0, 153)  is not symmetric!\n",
      "(0, 0, 154)  is not symmetric!\n",
      "(0, 0, 155)  is not symmetric!\n",
      "(0, 0, 156)  is not symmetric!\n",
      "(0, 0, 157)  is not symmetric!\n",
      "(0, 0, 158)  is not symmetric!\n",
      "(0, 0, 159)  is not symmetric!\n",
      "(0, 0, 160)  is not symmetric!\n",
      "(0, 0, 161)  is not symmetric!\n",
      "(0, 0, 162)  is not symmetric!\n",
      "(0, 0, 163)  is not symmetric!\n",
      "(0, 0, 164)  is not symmetric!\n",
      "(0, 0, 165)  is not symmetric!\n",
      "(0, 0, 166)  is not symmetric!\n",
      "(0, 0, 167)  is not symmetric!\n",
      "(0, 0, 168)  is not symmetric!\n",
      "(0, 0, 169)  is not symmetric!\n",
      "(0, 0, 170)  is not symmetric!\n",
      "(0, 0, 171)  is not symmetric!\n",
      "(0, 0, 172)  is not symmetric!\n",
      "(0, 0, 173)  is not symmetric!\n",
      "(0, 0, 174)  is not symmetric!\n",
      "(0, 0, 175)  is not symmetric!\n",
      "(0, 0, 176)  is not symmetric!\n",
      "(0, 0, 177)  is not symmetric!\n",
      "(0, 0, 178)  is not symmetric!\n",
      "(0, 0, 179)  is not symmetric!\n",
      "(0, 0, 180)  is not symmetric!\n",
      "(0, 0, 181)  is not symmetric!\n",
      "(0, 0, 182)  is not symmetric!\n",
      "(0, 0, 183)  is not symmetric!\n",
      "(0, 0, 184)  is not symmetric!\n",
      "(0, 0, 185)  is not symmetric!\n",
      "(0, 0, 186)  is not symmetric!\n",
      "(0, 0, 187)  is not symmetric!\n",
      "(0, 0, 188)  is not symmetric!\n",
      "(0, 0, 189)  is not symmetric!\n",
      "(0, 0, 190)  is not symmetric!\n",
      "(0, 0, 191)  is not symmetric!\n",
      "(0, 0, 192)  is not symmetric!\n",
      "(0, 0, 193)  is not symmetric!\n",
      "(0, 0, 194)  is not symmetric!\n",
      "(0, 0, 195)  is not symmetric!\n",
      "(0, 0, 196)  is not symmetric!\n",
      "(0, 0, 197)  is not symmetric!\n",
      "(0, 0, 198)  is not symmetric!\n",
      "(0, 0, 199)  is not symmetric!\n",
      "(0, 0, 200)  is not symmetric!\n",
      "(0, 0, 201)  is not symmetric!\n",
      "(0, 0, 202)  is not symmetric!\n",
      "(0, 0, 203)  is not symmetric!\n",
      "(0, 0, 204)  is not symmetric!\n",
      "(0, 0, 205)  is not symmetric!\n",
      "(0, 0, 206)  is not symmetric!\n",
      "(0, 0, 207)  is not symmetric!\n",
      "(0, 0, 208)  is not symmetric!\n",
      "(0, 0, 209)  is not symmetric!\n",
      "(0, 0, 210)  is not symmetric!\n",
      "(0, 0, 211)  is not symmetric!\n",
      "(0, 0, 212)  is not symmetric!\n",
      "(0, 0, 213)  is not symmetric!\n",
      "(0, 0, 214)  is not symmetric!\n",
      "(0, 0, 215)  is not symmetric!\n",
      "(0, 0, 216)  is not symmetric!\n",
      "(0, 0, 217)  is not symmetric!\n",
      "(0, 0, 218)  is not symmetric!\n",
      "(0, 0, 219)  is not symmetric!\n",
      "(0, 0, 220)  is not symmetric!\n",
      "(0, 0, 221)  is not symmetric!\n",
      "(0, 0, 222)  is not symmetric!\n",
      "(0, 0, 223)  is not symmetric!\n",
      "(0, 0, 224)  is not symmetric!\n",
      "(0, 0, 225)  is not symmetric!\n",
      "(0, 0, 226)  is not symmetric!\n",
      "(0, 0, 227)  is not symmetric!\n",
      "(0, 0, 228)  is not symmetric!\n",
      "(0, 0, 229)  is not symmetric!\n",
      "(0, 0, 230)  is not symmetric!\n",
      "(0, 0, 231)  is not symmetric!\n",
      "(0, 0, 232)  is not symmetric!\n",
      "(0, 0, 233)  is not symmetric!\n",
      "(0, 0, 234)  is not symmetric!\n",
      "(0, 0, 235)  is not symmetric!\n",
      "(0, 0, 236)  is not symmetric!\n",
      "(0, 0, 237)  is not symmetric!\n",
      "(0, 0, 238)  is not symmetric!\n",
      "(0, 0, 239)  is not symmetric!\n",
      "(0, 0, 240)  is not symmetric!\n",
      "(0, 0, 241)  is not symmetric!\n",
      "(0, 0, 242)  is not symmetric!\n",
      "(0, 0, 243)  is not symmetric!\n",
      "(0, 0, 244)  is not symmetric!\n",
      "(0, 0, 245)  is not symmetric!\n",
      "(0, 0, 246)  is not symmetric!\n",
      "(0, 0, 247)  is not symmetric!\n",
      "(0, 0, 248)  is not symmetric!\n",
      "(0, 0, 249)  is not symmetric!\n",
      "(0, 0, 250)  is not symmetric!\n",
      "(0, 0, 251)  is not symmetric!\n",
      "(0, 0, 252)  is not symmetric!\n",
      "(0, 0, 253)  is not symmetric!\n",
      "(0, 0, 254)  is not symmetric!\n",
      "(0, 0, 255)  is not symmetric!\n",
      "(0, 0, 256)  is not symmetric!\n",
      "(0, 0, 257)  is not symmetric!\n",
      "(0, 0, 258)  is not symmetric!\n",
      "(0, 0, 259)  is not symmetric!\n",
      "(0, 0, 260)  is not symmetric!\n",
      "(0, 0, 261)  is not symmetric!\n",
      "(0, 0, 262)  is not symmetric!\n",
      "(0, 0, 263)  is not symmetric!\n",
      "(0, 0, 264)  is not symmetric!\n",
      "(0, 0, 265)  is not symmetric!\n",
      "(0, 0, 266)  is not symmetric!\n",
      "(0, 0, 267)  is not symmetric!\n",
      "(0, 0, 268)  is not symmetric!\n",
      "(0, 0, 269)  is not symmetric!\n",
      "(0, 0, 270)  is not symmetric!\n",
      "(0, 0, 271)  is not symmetric!\n",
      "(0, 0, 272)  is not symmetric!\n",
      "(0, 0, 273)  is not symmetric!\n",
      "(0, 0, 274)  is not symmetric!\n",
      "(0, 0, 275)  is not symmetric!\n",
      "(0, 0, 276)  is not symmetric!\n",
      "(0, 0, 277)  is not symmetric!\n",
      "(0, 0, 278)  is not symmetric!\n",
      "(0, 0, 279)  is not symmetric!\n",
      "(0, 0, 280)  is not symmetric!\n",
      "(0, 0, 281)  is not symmetric!\n",
      "(0, 0, 282)  is not symmetric!\n",
      "(0, 0, 283)  is not symmetric!\n",
      "(0, 0, 284)  is not symmetric!\n",
      "(0, 0, 285)  is not symmetric!\n",
      "(0, 0, 286)  is not symmetric!\n",
      "(0, 0, 287)  is not symmetric!\n",
      "(0, 0, 288)  is not symmetric!\n",
      "(0, 0, 289)  is not symmetric!\n",
      "(0, 0, 290)  is not symmetric!\n",
      "(0, 0, 291)  is not symmetric!\n",
      "(0, 0, 292)  is not symmetric!\n",
      "(0, 0, 293)  is not symmetric!\n",
      "(0, 0, 294)  is not symmetric!\n",
      "(0, 0, 295)  is not symmetric!\n",
      "(0, 0, 296)  is not symmetric!\n",
      "(0, 0, 297)  is not symmetric!\n",
      "(0, 0, 298)  is not symmetric!\n",
      "(0, 0, 299)  is not symmetric!\n",
      "(0, 0, 300)  is not symmetric!\n",
      "(0, 0, 301)  is not symmetric!\n",
      "(0, 0, 302)  is not symmetric!\n",
      "(0, 0, 303)  is not symmetric!\n",
      "(0, 0, 304)  is not symmetric!\n",
      "(0, 0, 305)  is not symmetric!\n",
      "(0, 0, 306)  is not symmetric!\n",
      "(0, 0, 307)  is not symmetric!\n",
      "(0, 0, 308)  is not symmetric!\n",
      "(0, 0, 309)  is not symmetric!\n",
      "(0, 0, 310)  is not symmetric!\n",
      "(0, 0, 311)  is not symmetric!\n",
      "(0, 0, 312)  is not symmetric!\n",
      "(0, 0, 313)  is not symmetric!\n",
      "(0, 0, 314)  is not symmetric!\n",
      "(0, 0, 315)  is not symmetric!\n",
      "(0, 0, 316)  is not symmetric!\n",
      "(0, 0, 317)  is not symmetric!\n",
      "(0, 0, 318)  is not symmetric!\n",
      "(0, 0, 319)  is not symmetric!\n",
      "(0, 0, 320)  is not symmetric!\n",
      "(0, 0, 321)  is not symmetric!\n",
      "(0, 0, 322)  is not symmetric!\n",
      "(0, 0, 323)  is not symmetric!\n",
      "(0, 0, 324)  is not symmetric!\n",
      "(0, 0, 325)  is not symmetric!\n",
      "(0, 0, 326)  is not symmetric!\n",
      "(0, 0, 327)  is not symmetric!\n",
      "(0, 0, 328)  is not symmetric!\n",
      "(0, 0, 329)  is not symmetric!\n",
      "(0, 0, 330)  is not symmetric!\n",
      "(0, 0, 331)  is not symmetric!\n",
      "(0, 0, 332)  is not symmetric!\n",
      "(0, 0, 333)  is not symmetric!\n",
      "(0, 0, 334)  is not symmetric!\n",
      "(0, 0, 335)  is not symmetric!\n",
      "(0, 0, 336)  is not symmetric!\n",
      "(0, 0, 337)  is not symmetric!\n",
      "(0, 0, 338)  is not symmetric!\n",
      "(0, 0, 339)  is not symmetric!\n",
      "(0, 0, 340)  is not symmetric!\n",
      "(0, 0, 341)  is not symmetric!\n",
      "(0, 0, 342)  is not symmetric!\n",
      "(0, 0, 343)  is not symmetric!\n",
      "(0, 0, 344)  is not symmetric!\n",
      "(0, 0, 345)  is not symmetric!\n",
      "(0, 0, 346)  is not symmetric!\n",
      "(0, 0, 347)  is not symmetric!\n",
      "(0, 0, 348)  is not symmetric!\n",
      "(0, 0, 349)  is not symmetric!\n",
      "(0, 0, 350)  is not symmetric!\n",
      "(0, 0, 351)  is not symmetric!\n",
      "(0, 0, 352)  is not symmetric!\n",
      "(0, 0, 353)  is not symmetric!\n",
      "(0, 0, 354)  is not symmetric!\n",
      "(0, 0, 355)  is not symmetric!\n",
      "(0, 0, 356)  is not symmetric!\n",
      "(0, 0, 357)  is not symmetric!\n",
      "(0, 0, 358)  is not symmetric!\n",
      "(0, 0, 359)  is not symmetric!\n",
      "(0, 0, 360)  is not symmetric!\n",
      "(0, 0, 361)  is not symmetric!\n",
      "(0, 0, 362)  is not symmetric!\n",
      "(0, 0, 363)  is not symmetric!\n",
      "(0, 0, 364)  is not symmetric!\n",
      "(0, 0, 365)  is not symmetric!\n",
      "(0, 0, 366)  is not symmetric!\n",
      "(0, 0, 367)  is not symmetric!\n",
      "(0, 0, 368)  is not symmetric!\n",
      "(0, 0, 369)  is not symmetric!\n",
      "(0, 0, 370)  is not symmetric!\n",
      "(0, 0, 371)  is not symmetric!\n",
      "(0, 0, 372)  is not symmetric!\n",
      "(0, 0, 373)  is not symmetric!\n",
      "(0, 0, 374)  is not symmetric!\n",
      "(0, 0, 375)  is not symmetric!\n",
      "(0, 0, 376)  is not symmetric!\n",
      "(0, 0, 377)  is not symmetric!\n",
      "(0, 0, 378)  is not symmetric!\n",
      "(0, 0, 379)  is not symmetric!\n",
      "(0, 0, 380)  is not symmetric!\n",
      "(0, 0, 381)  is not symmetric!\n",
      "(0, 0, 382)  is not symmetric!\n",
      "(0, 0, 383)  is not symmetric!\n",
      "(0, 0, 384)  is not symmetric!\n",
      "(0, 0, 385)  is not symmetric!\n",
      "(0, 0, 386)  is not symmetric!\n",
      "(0, 0, 387)  is not symmetric!\n",
      "(0, 0, 388)  is not symmetric!\n",
      "(0, 0, 389)  is not symmetric!\n",
      "(0, 0, 390)  is not symmetric!\n",
      "(0, 0, 391)  is not symmetric!\n",
      "(0, 0, 392)  is not symmetric!\n",
      "(0, 0, 393)  is not symmetric!\n",
      "(0, 0, 394)  is not symmetric!\n",
      "(0, 0, 395)  is not symmetric!\n",
      "(0, 0, 396)  is not symmetric!\n",
      "(0, 0, 397)  is not symmetric!\n",
      "(0, 0, 398)  is not symmetric!\n",
      "(0, 0, 399)  is not symmetric!\n",
      "(0, 0, 400)  is not symmetric!\n",
      "(0, 0, 401)  is not symmetric!\n",
      "(0, 0, 402)  is not symmetric!\n",
      "(0, 0, 403)  is not symmetric!\n",
      "(0, 0, 404)  is not symmetric!\n",
      "(0, 0, 405)  is not symmetric!\n",
      "(0, 0, 406)  is not symmetric!\n",
      "(0, 0, 407)  is not symmetric!\n",
      "(0, 0, 408)  is not symmetric!\n",
      "(0, 0, 409)  is not symmetric!\n",
      "(0, 0, 410)  is not symmetric!\n",
      "(0, 0, 411)  is not symmetric!\n",
      "(0, 0, 412)  is not symmetric!\n",
      "(0, 0, 413)  is not symmetric!\n",
      "(0, 0, 414)  is not symmetric!\n",
      "(0, 0, 415)  is not symmetric!\n",
      "(0, 0, 416)  is not symmetric!\n",
      "(0, 0, 417)  is not symmetric!\n",
      "(0, 0, 418)  is not symmetric!\n",
      "(0, 0, 419)  is not symmetric!\n",
      "(0, 0, 420)  is not symmetric!\n",
      "(0, 0, 421)  is not symmetric!\n",
      "(0, 0, 422)  is not symmetric!\n",
      "(0, 0, 423)  is not symmetric!\n",
      "(0, 0, 424)  is not symmetric!\n",
      "(0, 0, 425)  is not symmetric!\n",
      "(0, 0, 426)  is not symmetric!\n",
      "(0, 0, 427)  is not symmetric!\n",
      "(0, 0, 428)  is not symmetric!\n",
      "(0, 0, 429)  is not symmetric!\n",
      "(0, 0, 430)  is not symmetric!\n",
      "(0, 0, 431)  is not symmetric!\n",
      "(0, 0, 432)  is not symmetric!\n",
      "(0, 0, 433)  is not symmetric!\n",
      "(0, 0, 434)  is not symmetric!\n",
      "(0, 0, 435)  is not symmetric!\n",
      "(0, 0, 436)  is not symmetric!\n",
      "(0, 0, 437)  is not symmetric!\n",
      "(0, 0, 438)  is not symmetric!\n",
      "(0, 0, 439)  is not symmetric!\n",
      "(0, 0, 440)  is not symmetric!\n",
      "(0, 0, 441)  is not symmetric!\n",
      "(0, 0, 442)  is not symmetric!\n",
      "(0, 0, 443)  is not symmetric!\n",
      "(0, 0, 444)  is not symmetric!\n",
      "(0, 0, 445)  is not symmetric!\n",
      "(0, 0, 446)  is not symmetric!\n",
      "(0, 0, 447)  is not symmetric!\n",
      "(0, 0, 448)  is not symmetric!\n",
      "(0, 0, 449)  is not symmetric!\n",
      "(0, 0, 450)  is not symmetric!\n",
      "(0, 0, 451)  is not symmetric!\n",
      "(0, 0, 452)  is not symmetric!\n",
      "(0, 0, 453)  is not symmetric!\n",
      "(0, 0, 454)  is not symmetric!\n",
      "(0, 0, 455)  is not symmetric!\n",
      "(0, 0, 456)  is not symmetric!\n",
      "(0, 0, 457)  is not symmetric!\n",
      "(0, 0, 458)  is not symmetric!\n",
      "(0, 0, 459)  is not symmetric!\n",
      "(0, 0, 460)  is not symmetric!\n",
      "(0, 0, 461)  is not symmetric!\n",
      "(0, 0, 462)  is not symmetric!\n",
      "(0, 0, 463)  is not symmetric!\n",
      "(0, 0, 464)  is not symmetric!\n",
      "(0, 0, 465)  is not symmetric!\n",
      "(0, 0, 466)  is not symmetric!\n",
      "(0, 0, 467)  is not symmetric!\n",
      "(0, 0, 468)  is not symmetric!\n",
      "(0, 0, 469)  is not symmetric!\n",
      "(0, 0, 470)  is not symmetric!\n",
      "(0, 0, 471)  is not symmetric!\n",
      "(0, 0, 472)  is not symmetric!\n",
      "(0, 0, 473)  is not symmetric!\n",
      "(0, 0, 474)  is not symmetric!\n",
      "(0, 0, 475)  is not symmetric!\n",
      "(0, 0, 476)  is not symmetric!\n",
      "(0, 0, 477)  is not symmetric!\n",
      "(0, 0, 478)  is not symmetric!\n",
      "(0, 0, 479)  is not symmetric!\n",
      "(0, 0, 480)  is not symmetric!\n",
      "(0, 0, 481)  is not symmetric!\n",
      "(0, 0, 482)  is not symmetric!\n",
      "(0, 0, 483)  is not symmetric!\n",
      "(0, 0, 484)  is not symmetric!\n",
      "(0, 0, 485)  is not symmetric!\n",
      "(0, 0, 486)  is not symmetric!\n",
      "(0, 0, 487)  is not symmetric!\n",
      "(0, 0, 488)  is not symmetric!\n",
      "(0, 0, 489)  is not symmetric!\n",
      "(0, 0, 490)  is not symmetric!\n",
      "(0, 0, 491)  is not symmetric!\n",
      "(0, 0, 492)  is not symmetric!\n",
      "(0, 0, 493)  is not symmetric!\n",
      "(0, 0, 494)  is not symmetric!\n",
      "(0, 0, 495)  is not symmetric!\n",
      "(0, 0, 496)  is not symmetric!\n",
      "(0, 0, 497)  is not symmetric!\n",
      "(0, 0, 498)  is not symmetric!\n",
      "(0, 0, 499)  is not symmetric!\n",
      "(0, 0, 500)  is not symmetric!\n",
      "(0, 0, 501)  is not symmetric!\n",
      "(0, 0, 502)  is not symmetric!\n",
      "(0, 0, 503)  is not symmetric!\n",
      "(0, 0, 504)  is not symmetric!\n",
      "(0, 0, 505)  is not symmetric!\n",
      "(0, 0, 506)  is not symmetric!\n",
      "(0, 0, 507)  is not symmetric!\n",
      "(0, 0, 508)  is not symmetric!\n",
      "(0, 0, 509)  is not symmetric!\n",
      "(0, 0, 510)  is not symmetric!\n",
      "(0, 0, 511)  is not symmetric!\n",
      "(0, 0, 512)  is not symmetric!\n",
      "(0, 0, 513)  is not symmetric!\n",
      "(0, 0, 514)  is not symmetric!\n",
      "(0, 0, 515)  is not symmetric!\n",
      "(0, 0, 516)  is not symmetric!\n",
      "(0, 0, 517)  is not symmetric!\n",
      "(0, 0, 518)  is not symmetric!\n",
      "(0, 0, 519)  is not symmetric!\n",
      "(0, 0, 520)  is not symmetric!\n",
      "(0, 0, 521)  is not symmetric!\n",
      "(0, 0, 522)  is not symmetric!\n",
      "(0, 0, 523)  is not symmetric!\n",
      "(0, 0, 524)  is not symmetric!\n",
      "(0, 0, 525)  is not symmetric!\n",
      "(0, 0, 526)  is not symmetric!\n",
      "(0, 0, 527)  is not symmetric!\n",
      "(0, 0, 528)  is not symmetric!\n",
      "(0, 0, 529)  is not symmetric!\n",
      "(0, 0, 530)  is not symmetric!\n",
      "(0, 0, 531)  is not symmetric!\n",
      "(0, 0, 532)  is not symmetric!\n",
      "(0, 0, 533)  is not symmetric!\n",
      "(0, 0, 534)  is not symmetric!\n",
      "(0, 0, 535)  is not symmetric!\n",
      "(0, 0, 536)  is not symmetric!\n",
      "(0, 0, 537)  is not symmetric!\n",
      "(0, 0, 538)  is not symmetric!\n",
      "(0, 0, 539)  is not symmetric!\n",
      "(0, 0, 540)  is not symmetric!\n",
      "(0, 0, 541)  is not symmetric!\n",
      "(0, 0, 542)  is not symmetric!\n",
      "(0, 0, 543)  is not symmetric!\n",
      "(0, 0, 544)  is not symmetric!\n",
      "(0, 0, 545)  is not symmetric!\n",
      "(0, 0, 546)  is not symmetric!\n",
      "(0, 0, 547)  is not symmetric!\n",
      "(0, 0, 548)  is not symmetric!\n",
      "(0, 0, 549)  is not symmetric!\n",
      "(0, 0, 550)  is not symmetric!\n",
      "(0, 0, 551)  is not symmetric!\n",
      "(0, 0, 552)  is not symmetric!\n",
      "(0, 0, 553)  is not symmetric!\n",
      "(0, 0, 554)  is not symmetric!\n",
      "(0, 0, 555)  is not symmetric!\n",
      "(0, 0, 556)  is not symmetric!\n",
      "(0, 0, 557)  is not symmetric!\n",
      "(0, 0, 558)  is not symmetric!\n",
      "(0, 0, 559)  is not symmetric!\n",
      "(0, 0, 560)  is not symmetric!\n",
      "(0, 0, 561)  is not symmetric!\n",
      "(0, 0, 562)  is not symmetric!\n",
      "(0, 0, 563)  is not symmetric!\n",
      "(0, 0, 564)  is not symmetric!\n",
      "(0, 0, 565)  is not symmetric!\n",
      "(0, 0, 566)  is not symmetric!\n",
      "(0, 0, 567)  is not symmetric!\n",
      "(0, 0, 568)  is not symmetric!\n",
      "(0, 0, 569)  is not symmetric!\n",
      "(0, 0, 570)  is not symmetric!\n",
      "(0, 0, 571)  is not symmetric!\n",
      "(0, 0, 572)  is not symmetric!\n",
      "(0, 0, 573)  is not symmetric!\n",
      "(0, 0, 574)  is not symmetric!\n",
      "(0, 0, 575)  is not symmetric!\n",
      "(0, 0, 576)  is not symmetric!\n",
      "(0, 0, 577)  is not symmetric!\n",
      "(0, 0, 578)  is not symmetric!\n",
      "(0, 0, 579)  is not symmetric!\n",
      "(0, 0, 580)  is not symmetric!\n",
      "(0, 0, 581)  is not symmetric!\n",
      "(0, 0, 582)  is not symmetric!\n",
      "(0, 0, 583)  is not symmetric!\n",
      "(0, 0, 584)  is not symmetric!\n",
      "(0, 0, 585)  is not symmetric!\n",
      "(0, 0, 586)  is not symmetric!\n"
     ]
    }
   ],
   "source": [
    "@jit\n",
    "def test_symmetry():\n",
    "    rcm = np.array((0.0,0,0))\n",
    "    for i in range(N1*N2*len(D)):\n",
    "        n1,n2,alpha = index2site(i,N1,N2)\n",
    "        r = n1*a1_dot+n2*a2_dot+D[alpha]\n",
    "        rcm = (N1//2-0.5)*a1_dot + (N2//2-0.5)*a2_dot\n",
    "        rp = np.array(((0.0,1,0),(-1,0,0),(0,0,1)))@(r-rcm) +rcm\n",
    "        #print(r,rp)\n",
    "\n",
    "        rp_in_r = False\n",
    "        for j in range(N1*N2*len(D)):\n",
    "            m1,m2,beta = index2site(j,N1,N2)\n",
    "            if rp[0] == (m1*a1_dot+m2*a2_dot+D[beta])[0] and \\\n",
    "               rp[1] == (m1*a1_dot+m2*a2_dot+D[beta])[1] and \\\n",
    "               rp[2] == (m1*a1_dot+m2*a2_dot+D[beta])[2]:\n",
    "                rp_in_r = True\n",
    "        if rp_in_r == False:\n",
    "            print((n1,n2,alpha), \" is not symmetric!\")\n",
    "test_symmetry()"
   ]
  },
  {
   "cell_type": "markdown",
   "id": "39db3ff7-06d3-4cee-9b3d-750cf353e555",
   "metadata": {
    "tags": []
   },
   "source": [
    "### Define a honeycomb lattice of quantum dots"
   ]
  },
  {
   "cell_type": "code",
   "execution_count": 13,
   "id": "9188b9db-7d42-4399-9087-284a3802b480",
   "metadata": {},
   "outputs": [],
   "source": [
    "a_dot = 1.5*4\n",
    "a1_dot = a_dot*(np.array([1,-1,-1])-np.array([1,1,1])@np.array([1,-1,-1])*np.array([1,1,1])/3)\n",
    "a2_dot = a_dot*(np.array([-1,1,-1])-np.array([1,1,1])@np.array([-1,1,-1])*np.array([1,1,1])/3)\n",
    "a3_dot = a_dot*(np.array([-1,-1,1])-np.array([1,1,1])@np.array([-1,-1,1])*np.array([1,1,1])/3)\n",
    "D = np.concatenate((np.array(ddot)+np.array([0,0,0]),\n",
    "                    np.array(ddot)+(a2_dot-a3_dot)/3+np.array([5,5,5])))\n",
    "Dtype = np.array([int(D[alpha].sum()%2) for alpha in range(len(D))])"
   ]
  },
  {
   "cell_type": "code",
   "execution_count": 14,
   "id": "5b3f5712-99ca-4dde-ab44-2b55b7568cc4",
   "metadata": {},
   "outputs": [
    {
     "data": {
      "text/plain": [
       "np.float64(0.0)"
      ]
     },
     "execution_count": 14,
     "metadata": {},
     "output_type": "execute_result"
    }
   ],
   "source": [
    "min_dist = 10.0\n",
    "for alpha in range(len(D)):\n",
    "    for beta in range(len(D)):\n",
    "        dist = np.linalg.norm(D[alpha] - a2_dot+D[beta])\n",
    "        min_dist = min(dist,min_dist)\n",
    "min_dist"
   ]
  },
  {
   "cell_type": "code",
   "execution_count": 15,
   "id": "66e94568-75ff-471e-8ddd-9f8a02f1cfd9",
   "metadata": {},
   "outputs": [
    {
     "data": {
      "text/plain": [
       "'/Users/mlawler/Code/qdotarrays/solid_out.scad'"
      ]
     },
     "execution_count": 15,
     "metadata": {},
     "output_type": "execute_result"
    }
   ],
   "source": [
    "N1 = 2\n",
    "N2 = 2\n",
    "model = solid.sphere(0.0)\n",
    "scale = 1  # Larger scale will use more facets. \n",
    "for i in range(N1*N2*len(D)):\n",
    "    n1,n2,alpha = index2site(i,N1,N2)\n",
    "    r = n1*a1_dot+n2*a2_dot+D[alpha]\n",
    "    \n",
    "    if Dtype[alpha] == 0:\n",
    "        c = (112/256,128/256,144/256)  # Pb color: blueish-grey\n",
    "    else:\n",
    "        c = (150/256,0,0)  # Selenium color: deep red\n",
    "    model += solid.sphere(scale*0.5).\\\n",
    "        color(c).\\\n",
    "        translate(scale*r)\n",
    "model.save_as_scad()"
   ]
  },
  {
   "cell_type": "markdown",
   "id": "38746d8f-d60f-442e-a95b-b460b3448680",
   "metadata": {},
   "source": [
    "## Electronic Structure"
   ]
  },
  {
   "cell_type": "markdown",
   "id": "74305ebd-7842-44ed-b3fe-9b00e166f3b1",
   "metadata": {},
   "source": [
    "### Simple S-orbital model"
   ]
  },
  {
   "cell_type": "code",
   "execution_count": 23,
   "id": "f9ab2528-21b6-411c-9188-ab7f02dfb7d2",
   "metadata": {},
   "outputs": [
    {
     "name": "stdout",
     "output_type": "stream",
     "text": [
      "Time taken to complete this task:  40.69726085662842\n"
     ]
    }
   ],
   "source": [
    "N1 = 2\n",
    "N2 = 2\n",
    "Nd = len(D)\n",
    "t = 1.0\n",
    "dt = 0.0\n",
    "S = sparse.dok_matrix((N1*N2*Nd, N1*N2*Nd))\n",
    "start = time.time()\n",
    "for i in range(N1*N2*Nd):\n",
    "    n1,n2,alpha = index2site(i,N1,N2)\n",
    "    for j in range(N1*N2*Nd):\n",
    "        n1p,n2p,alphap = index2site(j,N1,N2)\n",
    "        if np.linalg.norm(n1*a1_dot+n2*a2_dot+D[alpha] - n1p*a1_dot-n2p*a2_dot-D[alphap]) < 1.01:\n",
    "            S[i, j] = -t + dt*np.random.rand()\n",
    "print('Time taken to complete this task: ',time.time()-start)"
   ]
  },
  {
   "cell_type": "code",
   "execution_count": 24,
   "id": "ef2875c2-af96-4ec1-babe-e438532426ae",
   "metadata": {},
   "outputs": [
    {
     "name": "stdout",
     "output_type": "stream",
     "text": [
      "2.1329081058502197\n"
     ]
    },
    {
     "data": {
      "text/plain": [
       "array([-6.67791793, -6.67726159, -6.67726159, -6.67660201, -6.35440951,\n",
       "       -6.35438031, -6.35435737, -6.35435737, -6.35180578, -6.35176771,\n",
       "       -6.35176771, -6.35172963, -6.35049098, -6.35049098, -6.35045619,\n",
       "       -6.35044898, -5.97737169, -5.97323754, -5.97323754, -5.97018531,\n",
       "       -5.96482081, -5.96381147, -5.96381147, -5.96154837, -5.95457793,\n",
       "       -5.95440833, -5.95440828, -5.95440828, -5.95440824, -5.95429825,\n",
       "       -5.95429825, -5.95412836, -5.95412834, -5.95412834, -5.95412832,\n",
       "       -5.95401814, -5.78110108, -5.7789893 , -5.7789893 , -5.77702521])"
      ]
     },
     "execution_count": 24,
     "metadata": {},
     "output_type": "execute_result"
    }
   ],
   "source": [
    "start = time.time()\n",
    "lam,V = sparse.linalg.eigsh(S,k=40)\n",
    "print(time.time()-start)\n",
    "lam"
   ]
  },
  {
   "cell_type": "code",
   "execution_count": 25,
   "id": "6d429023-3998-4609-b2be-5c91438c2698",
   "metadata": {},
   "outputs": [],
   "source": [
    "rxmax,rymax = 0.0,0.0\n",
    "rxmin,rymin = 0.0,0.0\n",
    "for i in range(N1*N2*Nd):\n",
    "    n1,n2,alpha = index2site(i,N1,N2)\n",
    "    r = n1*a1_dot+n2*a2_dot+D[alpha]\n",
    "    if r[0] > rxmax:\n",
    "        rxmax = r[0]\n",
    "    if r[0] < rxmin:\n",
    "        rxmin = r[0]\n",
    "    if r[1] > rymax:\n",
    "        rymax = r[1]\n",
    "    if r[1] < rymin:\n",
    "        rymin = r[1]\n",
    "canvas = np.zeros((int(rxmax-rxmin)+1,int(rymax-rymin)+1))\n",
    "for i in range(N1*N2*Nd):\n",
    "    n1,n2,alpha = index2site(i,N1,N2)\n",
    "    r = n1*a1_dot+n2*a2_dot+D[alpha]\n",
    "    if r[2] == 0.0:\n",
    "        #print(rxmin+r(0),rymin+r(1))\n",
    "        canvas[int(r[0]-rxmin),int(r[1]-rymin)] = sum(abs(V[i,:])**2)"
   ]
  },
  {
   "cell_type": "code",
   "execution_count": 26,
   "id": "bd8068b9-746e-4478-b89e-eb390a609570",
   "metadata": {},
   "outputs": [
    {
     "data": {
      "text/plain": [
       "<matplotlib.colorbar.Colorbar at 0x10a816a80>"
      ]
     },
     "execution_count": 26,
     "metadata": {},
     "output_type": "execute_result"
    },
    {
     "data": {
      "image/png": "[encoded data removed]",
      "text/plain": [
       "<Figure size 640x480 with 2 Axes>"
      ]
     },
     "metadata": {},
     "output_type": "display_data"
    }
   ],
   "source": [
    "plt.pcolor(canvas,cmap='Blues')\n",
    "plt.colorbar()"
   ]
  },
  {
   "cell_type": "code",
   "execution_count": 27,
   "id": "694fe6f3-eb5a-4712-8ab2-d6327d314205",
   "metadata": {},
   "outputs": [
    {
     "data": {
      "text/plain": [
       "<matplotlib.colorbar.Colorbar at 0x10a7dc170>"
      ]
     },
     "execution_count": 27,
     "metadata": {},
     "output_type": "execute_result"
    },
    {
     "data": {
      "image/png": "[encoded data removed]",
      "text/plain": [
       "<Figure size 640x480 with 2 Axes>"
      ]
     },
     "metadata": {},
     "output_type": "display_data"
    }
   ],
   "source": [
    "plt.pcolor(canvas,cmap='Blues')\n",
    "plt.colorbar()"
   ]
  },
  {
   "cell_type": "code",
   "execution_count": 28,
   "id": "29fe0147-2221-405d-b3eb-ad4ca30bfb04",
   "metadata": {},
   "outputs": [],
   "source": [
    "model = solid.sphere(0.0)\n",
    "scale = 1  # Larger scale will use more facets. \n",
    "state = abs(V[:,0])/abs(V[:,0]).max()\n",
    "for i in range(N1*N2*len(D)):\n",
    "    n1,n2,alpha = index2site(i,N1,N2)\n",
    "    r = n1*a1_dot+n2*a2_dot+D[alpha]\n",
    "    if D[alpha].sum() % 2 == 0:\n",
    "        c = (112/256,128/256,144/256)  # Pb color: blueish-grey\n",
    "    else:\n",
    "        c = (150/256,0,0)  # Selenium color: deep red\n",
    "#    model += solid.sphere(scale*0.5).\\\n",
    "#        color(c,alpha=state(i)).\\\n",
    "#        translate(scale*r)\n",
    "    model += solid.sphere(scale*0.5).\\\n",
    "        color(c).\\\n",
    "        translate(scale*r)\n",
    "#model.save_as_scad()"
   ]
  },
  {
   "cell_type": "code",
   "execution_count": 21,
   "id": "57e0ebc8-b10f-480b-b81d-adab4a2c0d4c",
   "metadata": {},
   "outputs": [],
   "source": [
    "def line3d(r1,r2,model,c,scale):\n",
    "    dr = np.linalg.norm(r2-r1)\n",
    "    zhat = np.array((0,0,1))\n",
    "    rhat = (r2-r1)/np.linalg.norm(r2-r1)\n",
    "    khat = np.cross(zhat,rhat)\n",
    "    if abs(khat).sum()==0.0:\n",
    "        khat = np.array((0,1,0))\n",
    "    theta = np.arccos(zhat@rhat)\n",
    "    model+= solid.cylinder(h=dr,r1=0.1*dr,r2=0.1*dr).\\\n",
    "        color(c).\\\n",
    "        rotate(a=180*theta/np.pi,v=khat).\\\n",
    "        translate(scale*r1)\n",
    "    return model"
   ]
  },
  {
   "cell_type": "code",
   "execution_count": 22,
   "id": "6f895966-e8ef-448e-9bc3-784dfd174c99",
   "metadata": {},
   "outputs": [
    {
     "data": {
      "text/plain": [
       "'/Users/mlawler/Code/qdotarrays/solid_out.scad'"
      ]
     },
     "execution_count": 22,
     "metadata": {},
     "output_type": "execute_result"
    }
   ],
   "source": [
    "model = solid.sphere(0.0)\n",
    "model = line3d(np.array((0,0,0)),np.array((0,0,1)),model,np.array((0.5,0.5,0.5)),1)\n",
    "model.save_as_scad()"
   ]
  },
  {
   "cell_type": "code",
   "execution_count": 22,
   "id": "ea4830e6-ddad-427e-8aa3-9f79f07cc643",
   "metadata": {},
   "outputs": [
    {
     "data": {
      "text/plain": [
       "'/Users/mlawler/Code/qdotarrays/solid_out.scad'"
      ]
     },
     "execution_count": 22,
     "metadata": {},
     "output_type": "execute_result"
    }
   ],
   "source": [
    "N1=2\n",
    "N2=1\n",
    "model = solid.sphere(0.0)\n",
    "scale = 1  # Larger scale will use more facets. \n",
    "state = abs(V[:,0])/abs(V[:,0]).max()\n",
    "for i in range(N1*N2*len(D)):\n",
    "    n1,n2,alpha = index2site(i,N1,N2)\n",
    "    r1 = n1*a1_dot+n2*a2_dot+D[alpha]\n",
    "    if Dtype[alpha] == 0:\n",
    "        c = (112/256,128/256,144/256)  # Pb color: blueish-grey\n",
    "    else:\n",
    "        c = (150/256,0,0)  # Selenium color: deep red\n",
    "    model+=solid.sphere(scale*0.1).\\\n",
    "        color(c).\\\n",
    "        translate(scale*r1)\n",
    "    for j in range(N1*N2*len(D)):\n",
    "        if j != i and S[i,j] != 0.0:\n",
    "            n1p,n2p,alphap = index2site(j,N1,N2)\n",
    "            r1p = n1p*a1_dot+n2p*a2_dot+D[alphap]\n",
    "            c = (112/256,128/256,144/256)  # Pb color: blueish-grey\n",
    "            model = line3d(r1,r1p,model,c,scale)\n",
    "model.save_as_scad()"
   ]
  },
  {
   "cell_type": "markdown",
   "id": "a1ae8a3d-92d6-467d-b6cc-96aa13ec86d6",
   "metadata": {},
   "source": [
    "### s,p orbital model\n",
    "I take this model from the nearest neighbor model of \"Band gap anomaly and topological properties in lead chalcogenides\" by Nie, Xu, Xu, Fang, Chinese Physics B 2016:\n",
    "\n",
    "https://iopscience.iop.org/article/10.1088/1674-1056/25/3/037311/meta"
   ]
  },
  {
   "cell_type": "code",
   "execution_count": 18,
   "id": "2b20f06f-5fb5-4f8f-b38d-3163291c3f4a",
   "metadata": {},
   "outputs": [],
   "source": [
    "N1 = 2\n",
    "N2 = 1\n",
    "Nd = len(D)\n",
    "Norb = 4\n",
    "S = sparse.dok_matrix((N1*N2*Nd*Norb, N1*N2*Nd*Norb),dtype=np.complex128)"
   ]
  },
  {
   "cell_type": "markdown",
   "id": "dcfc2db8-cf90-4171-bcf3-d088fa6a8b06",
   "metadata": {},
   "source": [
    "Let's treat the orbitals as first Nd values of alpha are s orbitals, next Nd values are px, next Nd values are py and last Nd values are pz. The onsite and nearest neighbor parameters are:"
   ]
  },
  {
   "cell_type": "code",
   "execution_count": 40,
   "id": "5642f299-96f7-4c3a-b223-842cce572f03",
   "metadata": {},
   "outputs": [],
   "source": [
    "# PbTe\n",
    "mu = 6.0\n",
    "A1 = -1.6603 \n",
    "A2 = 0.0959 \n",
    "A3 = -0.0406 \n",
    "A6 = 7.2422 \n",
    "A7 = -0.0574\n",
    "A8 = -0.0419\n",
    "A9 = 0.2693\n",
    "C1 = -5.0836\n",
    "C2 = -0.0907\n",
    "C3 = 0.1788 \n",
    "C6 = 4.2744 \n",
    "C7 = 0.1740 \n",
    "C8 = -0.0203\n",
    "C9 = 0.1201\n",
    "B1 = -0.1082\n",
    "B2 = 0.1113 \n",
    "B4 = 0.4579 \n",
    "B5 = 0.0870 \n",
    "E1 = -0.1947 \n",
    "E2 = -0.1733 \n",
    "E4 = 0.1516 \n",
    "E5 = 0.0360 \n",
    "D1 = -0.5565 \n",
    "D2 = 1.2389 \n",
    "D3 = -1.4907 \n",
    "D4 = 1.8633 \n",
    "D5 = -0.3287\n",
    "F1 = 0.2688 \n",
    "F2 = -0.0481\n",
    "F3 = -0.0067\n",
    "F4 = 0.0868 \n",
    "F5 = 0.0564"
   ]
  },
  {
   "cell_type": "code",
   "execution_count": 41,
   "id": "aeade6d1-233c-43ea-9bcd-7445b8052563",
   "metadata": {},
   "outputs": [],
   "source": [
    "# PbSe\n",
    "mu = 5.0\n",
    "A1 = -2.0072\n",
    "A2 = 0.0891\n",
    "A3 = -0.0215 \n",
    "A6 = 6.9910 \n",
    "A7 = -0.0259 \n",
    "A8 = -0.0283 \n",
    "A9 = 0.3110 \n",
    "C1 = -7.8493\n",
    "C2 = -0.0848\n",
    "C3 = 0.1689\n",
    "C6 = 3.1139\n",
    "C7 = 0.1686\n",
    "C8 = -0.0188\n",
    "C9 = 0.1356\n",
    "B1 = -0.1537\n",
    "B2 = 0.0974\n",
    "B4 = 0.4891\n",
    "B5 = 0.1050\n",
    "E1 = -0.2215\n",
    "E2 = -0.1308\n",
    "E4 = 0.1409\n",
    "E5 = 0.0330\n",
    "D1 = -0.6076\n",
    "D2 = 1.2714\n",
    "D3 = -1.4507\n",
    "D4 = 1.8474\n",
    "D5 = -0.2950\n",
    "F1 = 0.3100\n",
    "F2 = -0.0491\n",
    "F3 = -0.0069\n",
    "F4 = 0.1013\n",
    "F5 = 0.0425"
   ]
  },
  {
   "cell_type": "markdown",
   "id": "b2393afa-7bc8-4664-8ee0-eaaaa65e28eb",
   "metadata": {},
   "source": [
    "Block Hamiltonian is then:"
   ]
  },
  {
   "cell_type": "code",
   "execution_count": 42,
   "id": "082c1fc5-785f-4990-8e1c-4f9eb141d4d0",
   "metadata": {},
   "outputs": [],
   "source": [
    "@jit\n",
    "def hfull(kx,ky,kz):\n",
    "    H11 = A1 +4*A2*(np.cos(kx)*np.cos(ky) +np.cos(ky)*np.cos(kz) +np.cos(kz)*np.cos(kx)) +2*B1*(np.cos(2*kx) +np.cos(2*ky) +np.cos(2*kz))\n",
    "    H15 = 2*D1*(np.cos(kx) +np.cos(ky) +np.cos(kz)) +8*F1*np.cos(kx)*np.cos(ky)*np.cos(kz)\n",
    "    H22 = A6 +4*A7*np.cos(kx)*(np.cos(ky) +np.cos(kz)) +4*A8*np.cos(ky)*np.cos(kz) +2*B4*np.cos(2*kx) +2*B5*(np.cos(2*ky) +np.cos(2*kz))\n",
    "    H23 = -4*A9*np.sin(kx)*np.sin(ky)\n",
    "    H24 = -4*A9*np.sin(kx)*np.sin(kz)\n",
    "    H26 = 2*D4*np.cos(kx) +2*D5*(np.cos(ky) +np.cos(kz)) +8*F4*np.cos(kx)*np.cos(ky)*np.cos(kz)\n",
    "    H27 = -8*F5*np.sin(kx)*np.sin(ky)*np.cos(kz)\n",
    "    H28 = -8*F5*np.sin(kx)*np.sin(kz)*np.cos(ky)\n",
    "    H33 = A6 +4*A7*np.cos(ky)*(np.cos(kz) +np.cos(kx)) +4*A8*np.cos(kz)*np.cos(kx) +2*B4*np.cos(2*ky) +2*B5*(np.cos(2*kz) +np.cos(2*kx))\n",
    "    H34 = -4*A9*np.sin(ky)*np.sin(kz)\n",
    "    H36 = H27\n",
    "    H37 = 2*D4*np.cos(ky) +2*D5*(np.cos(kz) +np.cos(kx)) +8*F4*np.cos(kx)*np.cos(ky)*np.cos(kz)\n",
    "    H38 = -8*F5*np.sin(ky)*np.sin(kz)*np.cos(kx)\n",
    "    H44 = A6 +4*A7*np.cos(kz)*(np.cos(kx) +np.cos(ky)) +4*A8*np.cos(kx)*np.cos(ky) +2*B4*np.cos(2*kz) +2*B5*(np.cos(2*kx) +np.cos(2*ky))\n",
    "    H46 = H28\n",
    "    H47 = H38\n",
    "    H48 = 2*D4*np.cos(kz) +2*D5*(np.cos(ky) +np.cos(kx)) +8*F4*np.cos(kx)*np.cos(ky)*np.cos(kz)\n",
    "    H55 = C1 +4*C2*(np.cos(kx)*np.cos(ky) +np.cos(ky)*np.cos(kz) +np.cos(kz)*np.cos(kx)) +2*E1*(np.cos(2*kx) +np.cos(2*ky) +np.cos(2*kz))\n",
    "    H66 = C6 +4*C7*np.cos(kx)*(np.cos(ky) +np.cos(kz)) +4*C8*np.cos(ky)*np.cos(kz) +2*E4*np.cos(2*kx) +2*E5*(np.cos(2*ky) +np.cos(2*kz))\n",
    "    H67 = -4*C9*np.sin(kx)*np.sin(ky)\n",
    "    H68 = -4*C9*np.sin(kx)*np.sin(kz)\n",
    "    H77 = C6 +4*C7*np.cos(ky)*(np.cos(kz) +np.cos(kx)) +4*C8*np.cos(kz)*np.cos(kx) +2*E4*np.cos(2*ky) +2*E5*(np.cos(2*kz) +np.cos(2*kx))\n",
    "    H78 = -4*C9*np.sin(ky)*np.sin(kz)\n",
    "    H88 = C6 +4*C7*np.cos(kz)*(np.cos(kx) +np.cos(ky)) +4*C8*np.cos(kx)*np.cos(ky) +2*E4*np.cos(2*kz) +2*E5*(np.cos(2*kx) +np.cos(2*ky))\n",
    "\n",
    "    G12 = -4j*A3*np.sin(kx)*(np.cos(ky) +np.cos(kz))-2*B2*np.sin(2*kx)\n",
    "    G13 = -4j*A3*np.sin(ky)*(np.cos(kz) +np.cos(kx))-2*B2*np.sin(2*ky)\n",
    "    G14 = -4j*A3*np.sin(kz)*(np.cos(kx) +np.cos(ky))-2*B2*np.sin(2*kz)\n",
    "    G16 = 2j*D2*np.sin(kx) +8*F3*np.sin(kx)*np.cos(ky)*np.cos(kz)\n",
    "    G17 = 2j*D2*np.sin(ky) +8*F3*np.sin(ky)*np.cos(kz)*np.cos(kx)\n",
    "    G18 = 2j*D2*np.sin(kz) +8*F3*np.sin(kz)*np.cos(kx)*np.cos(ky)\n",
    "    G25 = -2j*D3*np.sin(kx)-8*F2*np.sin(kx)*np.cos(ky)*np.cos(kz)\n",
    "    G35 = -2j*D3*np.sin(ky)-8*F2*np.sin(ky)*np.cos(kz)*np.cos(kx)\n",
    "    G45 = -2j*D3*np.sin(kz)-8*F2*np.sin(kz)*np.cos(kx)*np.cos(ky)\n",
    "    G56 = -4j*C3*np.sin(kx)*(np.cos(ky) +np.cos(kz))-2*E2*np.sin(2*kx)\n",
    "    G57 = -4j*C3*np.sin(ky)*(np.cos(kz) +np.cos(kx))-2*E2*np.sin(2*ky)\n",
    "    G58 = -4j*C3*np.sin(kz)*(np.cos(kx) +np.cos(ky))-2*E2*np.sin(2*kz)\n",
    "    return np.array([[H11, G12, G13, G14, H15, G16, G17, G18],\n",
    "                    [-G12, H22, H23, H24, G25, H26, H27, H28],\n",
    "                    [-G13, H23, H33, H34, G35, H36, H37, H38],\n",
    "                    [-G14, H24, H34, H44, G45, H46, H47, H48],\n",
    "                     [H15,-G25,-G35,-G45, H55, G56, G57, G58],\n",
    "                    [-G16, H26, H36, H46,-G56, H66, H67, H68],\n",
    "                    [-G17, H27, H37, H47,-G57, H67, H77, H78],\n",
    "                    [-G18, H28, H38, H48,-G58, H68, H78, H88]]) - mu*np.eye(8)"
   ]
  },
  {
   "cell_type": "code",
   "execution_count": 43,
   "id": "bf8090af-c55b-49c1-b165-070a0b33e379",
   "metadata": {},
   "outputs": [
    {
     "data": {
      "text/plain": [
       "array([-14.20673531,  -8.43268316,  -1.93503921,  -1.93503921,\n",
       "        -1.23671998,   2.07083326,   2.82904791,   2.82904791])"
      ]
     },
     "execution_count": 43,
     "metadata": {},
     "output_type": "execute_result"
    }
   ],
   "source": [
    "np.linalg.eigvalsh(hfull(1,1,1))"
   ]
  },
  {
   "cell_type": "code",
   "execution_count": 44,
   "id": "5647d45c-8703-452d-b46f-3576dd1add3b",
   "metadata": {},
   "outputs": [],
   "source": [
    "b1 = np.pi*np.array([-1,1,1])\n",
    "b2 = np.pi*np.array([1,-1,1])\n",
    "b3 = np.pi*np.array([1,1,-1])"
   ]
  },
  {
   "cell_type": "code",
   "execution_count": 45,
   "id": "d4008bba-6cb4-430f-b69c-ed094fc7e120",
   "metadata": {},
   "outputs": [
    {
     "data": {
      "text/plain": [
       "([<matplotlib.axis.XTick at 0x10bbc55b0>,\n",
       "  <matplotlib.axis.XTick at 0x10bbc5250>,\n",
       "  <matplotlib.axis.XTick at 0x10bbc5d90>],\n",
       " [Text(0, 0, 'W'), Text(100, 0, 'L'), Text(200, 0, '$\\\\Gamma$')])"
      ]
     },
     "execution_count": 45,
     "metadata": {},
     "output_type": "execute_result"
    },
    {
     "data": {
      "image/png": "[encoded data removed]",
      "text/plain": [
       "<Figure size 640x480 with 1 Axes>"
      ]
     },
     "metadata": {},
     "output_type": "display_data"
    }
   ],
   "source": [
    "import matplotlib.pyplot as plt\n",
    "ks = np.linspace(0,1,100)\n",
    "lams = np.zeros((200,8))\n",
    "L = (b1+b2+b3)/2\n",
    "W = (1/4)*b1+(3/4)*b2+(1/2)*b3\n",
    "for i,k in enumerate(ks):\n",
    "    kvec = W + k*(L-W)\n",
    "    lams[i] = np.linalg.eigvalsh(hfull(kvec[0],kvec[1],kvec[2]))\n",
    "for i,k in enumerate(ks):\n",
    "    kvec = L+k*(-L)\n",
    "    lams[i+100] = np.linalg.eigvalsh(hfull(kvec[0],kvec[1],kvec[2]))\n",
    "plt.plot(lams);\n",
    "plt.xticks([0,100,200],[r\"W\", r\"L\",r\"$\\Gamma$\"])"
   ]
  },
  {
   "cell_type": "code",
   "execution_count": 46,
   "id": "84f6bfd5-bb9e-47d9-a69f-ca7c61aba0c1",
   "metadata": {},
   "outputs": [
    {
     "name": "stdout",
     "output_type": "stream",
     "text": [
      "gap =  0.3786284631808708\n"
     ]
    },
    {
     "data": {
      "text/plain": [
       "array([-13.66583906,  -9.3414106 ,  -1.7575    ,  -1.7575    ,\n",
       "        -0.1282894 ,   0.25033906,   1.8368    ,   1.8368    ])"
      ]
     },
     "execution_count": 46,
     "metadata": {},
     "output_type": "execute_result"
    }
   ],
   "source": [
    "lam = np.linalg.eigvalsh(hfull(L[0],L[1],L[2]))\n",
    "print('gap = ', lam[5]-lam[4])\n",
    "lam"
   ]
  },
  {
   "cell_type": "code",
   "execution_count": 24,
   "id": "f9a8c30c-8aff-49c5-a3bf-281efb282a59",
   "metadata": {},
   "outputs": [
    {
     "data": {
      "text/plain": [
       "array([-15.35582044,  -6.70027956,  -2.26982437,  -2.26982437,\n",
       "        -2.26982437,   5.13992437,   5.13992437,   5.13992437])"
      ]
     },
     "execution_count": 24,
     "metadata": {},
     "output_type": "execute_result"
    }
   ],
   "source": [
    "np.linalg.eigvalsh(hfull(0.0,0.0,0.0))"
   ]
  },
  {
   "cell_type": "code",
   "execution_count": 29,
   "id": "fc6f73b3-3fb4-431a-b4aa-6a8a910edb7d",
   "metadata": {},
   "outputs": [
    {
     "data": {
      "text/plain": [
       "array([-13.52201462,  -8.63956029,  -4.65459816,  -4.65459816,\n",
       "        -0.99213971,   2.11491462,   5.44869816,   5.44869816])"
      ]
     },
     "execution_count": 29,
     "metadata": {},
     "output_type": "execute_result"
    }
   ],
   "source": [
    "lam = np.linalg.eigvalsh(hfull(W[0],W[1],W[2]))\n",
    "lam"
   ]
  },
  {
   "cell_type": "code",
   "execution_count": 47,
   "id": "947a8724-7f08-45a6-ae9c-112c72727a47",
   "metadata": {
    "tags": []
   },
   "outputs": [
    {
     "name": "stdout",
     "output_type": "stream",
     "text": [
      "i made it to 2378\n",
      "i made it to 2378 and j to 0\n",
      "nn =  48328 dr =  [ 1. 10.  2.]  with len =  10.246950765959598\n",
      "nn =  191872 , nnn =  361984 , nnnn =  385664\n",
      "Time taken to complete this task:  45.47037076950073\n"
     ]
    }
   ],
   "source": [
    "start = time.time()\n",
    "@jit\n",
    "def neighborlists(N1,N2,Nd,Norb):\n",
    "    nnlist = np.zeros((50*N1*N2*Nd*Norb,2))\n",
    "    nnnlist = np.zeros((50*N1*N2*Nd*Norb,2))\n",
    "    nnnnlist = np.zeros((50*N1*N2*Nd*Norb,2))\n",
    "    nn,nnn,nnnn=0,0,0\n",
    "    for i in range(N1*N2*Nd*Norb):\n",
    "        n1,n2,alpha = index2site(i,N1,N2)\n",
    "        r = n1*a1_dot+n2*a2_dot+D[alpha%Nd]\n",
    "        coupled = 0\n",
    "        if i == 2378:\n",
    "            print('i made it to 2378')\n",
    "        for j in range(N1*N2*Nd*Norb):\n",
    "            n1p,n2p,alphap = index2site(j,N1,N2)\n",
    "            rp = n1p*a1_dot+n2p*a2_dot+D[alphap%Nd]\n",
    "            if i == 2378 and j == 0:\n",
    "                print('i made it to 2378 and j to 0')\n",
    "                print('nn = ', nn, 'dr = ',r-rp, ' with len = ',np.linalg.norm(r-rp))\n",
    "            if abs(np.linalg.norm(r-rp)- 1.0) < 0.1:\n",
    "                if i==2378 and j == 0:\n",
    "                    print('Suposedly found [2378,0]')\n",
    "                nnlist[nn]=np.array([i,j])\n",
    "                nn+=1\n",
    "                coupled+=1\n",
    "            elif abs(np.linalg.norm(r-rp) - np.sqrt(2)) < 0.1:\n",
    "                nnnlist[nnn]=np.array([i,j])\n",
    "                nnn+=1\n",
    "                coupled+=1\n",
    "            elif abs(np.linalg.norm(r-rp) - np.sqrt(3)) < 0.1:\n",
    "                nnnnlist[nnnn]=np.array([i,j])\n",
    "                nnnn+=1\n",
    "                coupled+=1\n",
    "            elif abs(np.linalg.norm(r-rp) - 2.0) < 0.1:\n",
    "                nnnnlist[nnnn]=np.array([i,j])\n",
    "                nnnn+=1\n",
    "                coupled+=1\n",
    "        if coupled==0:\n",
    "            print('atom ', i, n1, n2, alpha%Nd, ' not coupled to anything!')\n",
    "    nnlist = nnlist[:nn]\n",
    "    nnnlist = nnnlist[:nnn]\n",
    "    nnnnlist = nnnnlist[:nnnn]\n",
    "    return nnlist,nnnlist,nnnnlist\n",
    "nnlist,nnnlist,nnnnlist = neighborlists(N1,N2,Nd,Norb)\n",
    "nnlist,nnnlist,nnnnlist = nnlist.astype(int),nnnlist.astype(int),nnnnlist.astype(int)\n",
    "print('nn = ', len(nnlist), ', nnn = ', len(nnnlist), ', nnnn = ',len(nnnnlist))\n",
    "print('Time taken to complete this task: ',time.time()-start)"
   ]
  },
  {
   "cell_type": "code",
   "execution_count": 49,
   "id": "d654e025-6168-4452-9e98-e8bae37cd22d",
   "metadata": {},
   "outputs": [
    {
     "ename": "NameError",
     "evalue": "name 'line3d' is not defined",
     "output_type": "error",
     "traceback": [
      "\u001b[0;31m---------------------------------------------------------------------------\u001b[0m",
      "\u001b[0;31mNameError\u001b[0m                                 Traceback (most recent call last)",
      "Cell \u001b[0;32mIn[49], line 18\u001b[0m\n\u001b[1;32m     16\u001b[0m             r1p \u001b[38;5;241m=\u001b[39m n1p\u001b[38;5;241m*\u001b[39ma1_dot\u001b[38;5;241m+\u001b[39mn2p\u001b[38;5;241m*\u001b[39ma2_dot\u001b[38;5;241m+\u001b[39mD[alphap]\n\u001b[1;32m     17\u001b[0m             c \u001b[38;5;241m=\u001b[39m (\u001b[38;5;241m112\u001b[39m\u001b[38;5;241m/\u001b[39m\u001b[38;5;241m256\u001b[39m,\u001b[38;5;241m128\u001b[39m\u001b[38;5;241m/\u001b[39m\u001b[38;5;241m256\u001b[39m,\u001b[38;5;241m144\u001b[39m\u001b[38;5;241m/\u001b[39m\u001b[38;5;241m256\u001b[39m)  \u001b[38;5;66;03m# Pb color: blueish-grey\u001b[39;00m\n\u001b[0;32m---> 18\u001b[0m             model \u001b[38;5;241m=\u001b[39m \u001b[43mline3d\u001b[49m(r1,r1p,model,c,scale)\n\u001b[1;32m     19\u001b[0m model\u001b[38;5;241m.\u001b[39msave_as_scad()\n",
      "\u001b[0;31mNameError\u001b[0m: name 'line3d' is not defined"
     ]
    }
   ],
   "source": [
    "model = solid.sphere(0.0)\n",
    "scale = 1  # Larger scale will use more facets. \n",
    "for i in range(N1*N2*Nd):\n",
    "    n1,n2,alpha = index2site(i,N1,N2)\n",
    "    r1 = n1*a1_dot+n2*a2_dot+D[alpha]\n",
    "    if Dtype[alpha] == 0:\n",
    "        c = (112/256,128/256,144/256)  # Pb color: blueish-grey\n",
    "    else:\n",
    "        c = (150/256,0,0)  # Selenium color: deep red\n",
    "    model+=solid.sphere(scale*0.1).\\\n",
    "        color(c).\\\n",
    "        translate(scale*r1)\n",
    "    for j in range(N1*N2*len(D)):\n",
    "        if j != i and S[i,j] != 0.0:\n",
    "            n1p,n2p,alphap = index2site(j,N1,N2)\n",
    "            r1p = n1p*a1_dot+n2p*a2_dot+D[alphap]\n",
    "            c = (112/256,128/256,144/256)  # Pb color: blueish-grey\n",
    "            model = line3d(r1,r1p,model,c,scale)\n",
    "model.save_as_scad()"
   ]
  },
  {
   "cell_type": "markdown",
   "id": "d6025563-1e61-4b93-805d-6eb59d71cbb1",
   "metadata": {},
   "source": [
    "### On site terms:"
   ]
  },
  {
   "cell_type": "code",
   "execution_count": 48,
   "id": "55840437-6b4a-4f41-9a78-d7651004c654",
   "metadata": {},
   "outputs": [
    {
     "ename": "IndexError",
     "evalue": "row index (2348) out of range",
     "output_type": "error",
     "traceback": [
      "\u001b[0;31m---------------------------------------------------------------------------\u001b[0m",
      "\u001b[0;31mIndexError\u001b[0m                                Traceback (most recent call last)",
      "Cell \u001b[0;32mIn[48], line 17\u001b[0m\n\u001b[1;32m     15\u001b[0m         \u001b[38;5;28;01melse\u001b[39;00m:\n\u001b[1;32m     16\u001b[0m             \u001b[38;5;28mprint\u001b[39m(\u001b[38;5;124m'\u001b[39m\u001b[38;5;124mindex \u001b[39m\u001b[38;5;124m'\u001b[39m, i,\u001b[38;5;124m'\u001b[39m\u001b[38;5;124m with type \u001b[39m\u001b[38;5;124m'\u001b[39m, typ, \u001b[38;5;124m'\u001b[39m\u001b[38;5;124m and orbital \u001b[39m\u001b[38;5;124m'\u001b[39m, orb, \u001b[38;5;124m'\u001b[39m\u001b[38;5;124m is dropped!\u001b[39m\u001b[38;5;124m'\u001b[39m)\n\u001b[0;32m---> 17\u001b[0m \u001b[43mSonsite\u001b[49m\u001b[43m(\u001b[49m\u001b[43m)\u001b[49m\n\u001b[1;32m     18\u001b[0m \u001b[38;5;28mprint\u001b[39m(\u001b[38;5;124m'\u001b[39m\u001b[38;5;124mTime taken to complete this task: \u001b[39m\u001b[38;5;124m'\u001b[39m,time\u001b[38;5;241m.\u001b[39mtime()\u001b[38;5;241m-\u001b[39mstart)\n",
      "Cell \u001b[0;32mIn[48], line 10\u001b[0m, in \u001b[0;36mSonsite\u001b[0;34m()\u001b[0m\n\u001b[1;32m      8\u001b[0m     S[i,i] \u001b[38;5;241m=\u001b[39m A1\u001b[38;5;241m-\u001b[39mmu\n\u001b[1;32m      9\u001b[0m \u001b[38;5;28;01melif\u001b[39;00m typ\u001b[38;5;241m==\u001b[39m\u001b[38;5;241m0\u001b[39m \u001b[38;5;129;01mand\u001b[39;00m orb \u001b[38;5;241m>\u001b[39m \u001b[38;5;241m0\u001b[39m:\n\u001b[0;32m---> 10\u001b[0m     \u001b[43mS\u001b[49m\u001b[43m[\u001b[49m\u001b[43mi\u001b[49m\u001b[43m,\u001b[49m\u001b[43mi\u001b[49m\u001b[43m]\u001b[49m \u001b[38;5;241m=\u001b[39m A6\u001b[38;5;241m-\u001b[39mmu\n\u001b[1;32m     11\u001b[0m \u001b[38;5;28;01melif\u001b[39;00m typ\u001b[38;5;241m==\u001b[39m\u001b[38;5;241m1\u001b[39m \u001b[38;5;129;01mand\u001b[39;00m orb \u001b[38;5;241m==\u001b[39m \u001b[38;5;241m0\u001b[39m:\n\u001b[1;32m     12\u001b[0m     S[i,i] \u001b[38;5;241m=\u001b[39m C1\u001b[38;5;241m-\u001b[39mmu\n",
      "File \u001b[0;32m~/.pyenv/versions/mipt/lib/python3.12/site-packages/scipy/sparse/_dok.py:238\u001b[0m, in \u001b[0;36m_dok_base.__setitem__\u001b[0;34m(self, key, value)\u001b[0m\n\u001b[1;32m    236\u001b[0m \u001b[38;5;28;01mdef\u001b[39;00m \u001b[38;5;21m__setitem__\u001b[39m(\u001b[38;5;28mself\u001b[39m, key, value):\n\u001b[1;32m    237\u001b[0m     \u001b[38;5;28;01mif\u001b[39;00m \u001b[38;5;28mself\u001b[39m\u001b[38;5;241m.\u001b[39mndim \u001b[38;5;241m==\u001b[39m \u001b[38;5;241m2\u001b[39m:\n\u001b[0;32m--> 238\u001b[0m         \u001b[38;5;28;01mreturn\u001b[39;00m \u001b[38;5;28;43msuper\u001b[39;49m\u001b[43m(\u001b[49m\u001b[43m)\u001b[49m\u001b[38;5;241;43m.\u001b[39;49m\u001b[38;5;21;43m__setitem__\u001b[39;49m\u001b[43m(\u001b[49m\u001b[43mkey\u001b[49m\u001b[43m,\u001b[49m\u001b[43m \u001b[49m\u001b[43mvalue\u001b[49m\u001b[43m)\u001b[49m\n\u001b[1;32m    240\u001b[0m     \u001b[38;5;28;01mif\u001b[39;00m \u001b[38;5;28misinstance\u001b[39m(key, \u001b[38;5;28mtuple\u001b[39m) \u001b[38;5;129;01mand\u001b[39;00m \u001b[38;5;28mlen\u001b[39m(key) \u001b[38;5;241m==\u001b[39m \u001b[38;5;241m1\u001b[39m:\n\u001b[1;32m    241\u001b[0m         key \u001b[38;5;241m=\u001b[39m key[\u001b[38;5;241m0\u001b[39m]\n",
      "File \u001b[0;32m~/.pyenv/versions/mipt/lib/python3.12/site-packages/scipy/sparse/_index.py:102\u001b[0m, in \u001b[0;36mIndexMixin.__setitem__\u001b[0;34m(self, key, x)\u001b[0m\n\u001b[1;32m    101\u001b[0m \u001b[38;5;28;01mdef\u001b[39;00m \u001b[38;5;21m__setitem__\u001b[39m(\u001b[38;5;28mself\u001b[39m, key, x):\n\u001b[0;32m--> 102\u001b[0m     row, col \u001b[38;5;241m=\u001b[39m \u001b[38;5;28;43mself\u001b[39;49m\u001b[38;5;241;43m.\u001b[39;49m\u001b[43m_validate_indices\u001b[49m\u001b[43m(\u001b[49m\u001b[43mkey\u001b[49m\u001b[43m)\u001b[49m\n\u001b[1;32m    104\u001b[0m     \u001b[38;5;28;01mif\u001b[39;00m \u001b[38;5;28misinstance\u001b[39m(row, INT_TYPES) \u001b[38;5;129;01mand\u001b[39;00m \u001b[38;5;28misinstance\u001b[39m(col, INT_TYPES):\n\u001b[1;32m    105\u001b[0m         x \u001b[38;5;241m=\u001b[39m np\u001b[38;5;241m.\u001b[39masarray(x, dtype\u001b[38;5;241m=\u001b[39m\u001b[38;5;28mself\u001b[39m\u001b[38;5;241m.\u001b[39mdtype)\n",
      "File \u001b[0;32m~/.pyenv/versions/mipt/lib/python3.12/site-packages/scipy/sparse/_index.py:180\u001b[0m, in \u001b[0;36mIndexMixin._validate_indices\u001b[0;34m(self, key)\u001b[0m\n\u001b[1;32m    178\u001b[0m row \u001b[38;5;241m=\u001b[39m \u001b[38;5;28mint\u001b[39m(row)\n\u001b[1;32m    179\u001b[0m \u001b[38;5;28;01mif\u001b[39;00m row \u001b[38;5;241m<\u001b[39m \u001b[38;5;241m-\u001b[39mM \u001b[38;5;129;01mor\u001b[39;00m row \u001b[38;5;241m>\u001b[39m\u001b[38;5;241m=\u001b[39m M:\n\u001b[0;32m--> 180\u001b[0m     \u001b[38;5;28;01mraise\u001b[39;00m \u001b[38;5;167;01mIndexError\u001b[39;00m(\u001b[38;5;124m'\u001b[39m\u001b[38;5;124mrow index (\u001b[39m\u001b[38;5;132;01m%d\u001b[39;00m\u001b[38;5;124m) out of range\u001b[39m\u001b[38;5;124m'\u001b[39m \u001b[38;5;241m%\u001b[39m row)\n\u001b[1;32m    181\u001b[0m \u001b[38;5;28;01mif\u001b[39;00m row \u001b[38;5;241m<\u001b[39m \u001b[38;5;241m0\u001b[39m:\n\u001b[1;32m    182\u001b[0m     row \u001b[38;5;241m+\u001b[39m\u001b[38;5;241m=\u001b[39m M\n",
      "\u001b[0;31mIndexError\u001b[0m: row index (2348) out of range"
     ]
    }
   ],
   "source": [
    "start = time.time()\n",
    "def Sonsite():\n",
    "    for i in range(N1*N2*Nd*Norb):\n",
    "        n1,n2,alpha = index2site(i,N1,N2)\n",
    "        orb = alpha//Nd\n",
    "        typ = Dtype[alpha%Nd]\n",
    "        if typ==0 and orb == 0:\n",
    "            S[i,i] = A1-mu\n",
    "        elif typ==0 and orb > 0:\n",
    "            S[i,i] = A6-mu\n",
    "        elif typ==1 and orb == 0:\n",
    "            S[i,i] = C1-mu\n",
    "        elif typ==1 and orb > 0:\n",
    "            S[i,i] = C6-mu\n",
    "        else:\n",
    "            print('index ', i,' with type ', typ, ' and orbital ', orb, ' is dropped!')\n",
    "Sonsite()\n",
    "print('Time taken to complete this task: ',time.time()-start)"
   ]
  },
  {
   "cell_type": "markdown",
   "id": "ffcba80c-d4c8-4fe3-9510-631994ed7717",
   "metadata": {},
   "source": [
    "### Nearest Neighbors:"
   ]
  },
  {
   "cell_type": "code",
   "execution_count": 36,
   "id": "038a2c0b-1d3b-4348-9f34-89ec58b39163",
   "metadata": {},
   "outputs": [
    {
     "name": "stdout",
     "output_type": "stream",
     "text": [
      "Time taken to complete this task:  1.249302864074707\n"
     ]
    }
   ],
   "source": [
    "start = time.time()\n",
    "ehat = np.array([[1,0,0],[0,1,0],[0,0,1]])\n",
    "countnntypes=np.zeros((2,2))\n",
    "def Snn():\n",
    "    for i,j in nnlist:\n",
    "        n1,n2,alpha = index2site(i,N1,N2)\n",
    "        n1p,n2p,alphap = index2site(j,N1,N2)\n",
    "\n",
    "        dr = (n1-n1p)*a1_dot+(n2-n2p)*a2_dot+D[alpha%Nd]-D[alphap%Nd]\n",
    "        iorb = alpha//Nd\n",
    "        itype = Dtype[alpha%Nd]\n",
    "        jorb = alphap//Nd\n",
    "        jtype = Dtype[alphap%Nd]\n",
    "        countnntypes[itype,jtype]+=1\n",
    "        \n",
    "        # In the following, there is a symmetry distinction between (px-py, px-pz) and py-pz\n",
    "        # Check the signs: especially for A3 and A9\n",
    "        if itype == 0 and jtype == 0: #Scale up the cos(2kx)-like terms\n",
    "            if iorb == 0 and jorb == 0: ## s-s C-C coupling\n",
    "                S[i, j] = 10*B1\n",
    "            elif iorb == 0 and jorb > 0: ## s-p C-C coupling\n",
    "                S[i,j] = 10.0j*B2\n",
    "            elif iorb >0 and jorb == 0: ## p-s C-C coupling\n",
    "                S[i,j] = -10.0j*B2\n",
    "            elif iorb >0 and jorb >0 and iorb==jorb:  ## p-p C-C coupling\n",
    "                if abs(dr@ehat[iorb-1])==1:\n",
    "                    S[i,j] = 10*B4\n",
    "                else:\n",
    "                    S[i,j] = 10*B5\n",
    "        if itype == 1 and jtype == 1: #Scale up the cos(2kx)-like terms\n",
    "            if iorb == 0 and jorb == 0: ## s-s A-A coupling\n",
    "                S[i, j] = 10*E1\n",
    "            elif iorb == 0 and jorb > 0: ## s-p A-A coupling\n",
    "                S[i,j] = 10.0j*E2\n",
    "            elif iorb >0 and jorb == 0: ## p-s A-A coupling\n",
    "                S[i,j] = -10.0j*E2\n",
    "            elif iorb >0 and jorb >0 and iorb==jorb:  ## p-p A-A coupling\n",
    "                if abs(dr@ehat[iorb-1])==1:\n",
    "                    S[i,j] = 10*E4\n",
    "                else:\n",
    "                    S[i,j] = 10*E5\n",
    "            \n",
    "        if itype == 0 and jtype == 1:\n",
    "            if iorb == 0 and jorb == 0: ## s-s C-A coupling\n",
    "                S[i, j] = D1\n",
    "            elif iorb == 0 and jorb > 0: ## s-p C-A coupling\n",
    "                S[i,j] = 1.0j*D2\n",
    "            elif iorb >0 and jorb == 0: ## p-s C-A coupling\n",
    "                S[i,j] = -1.0j*D3\n",
    "            elif iorb >0 and jorb >0 and iorb==jorb:  ## p-p C-A coupling\n",
    "                if abs(dr@ehat[iorb-1])==1:\n",
    "                    S[i,j] = D4\n",
    "                else:\n",
    "                    S[i,j] = D5\n",
    "\n",
    "        if itype == 1 and jtype == 0:\n",
    "            if iorb == 0 and jorb == 0: ## s-s A-C coupling\n",
    "                S[i, j] = D1\n",
    "            elif iorb == 0 and jorb > 0: ## s-p A-C coupling\n",
    "                S[i,j] = -1.0j*D2\n",
    "            elif iorb >0 and jorb == 0: ## p-s A-C coupling\n",
    "                S[i,j] = 1.0j*D3\n",
    "            elif iorb >0 and jorb >0 and iorb==jorb:  ## p-p A-C coupling\n",
    "                if abs(dr@ehat[iorb-1])==1:\n",
    "                    S[i,j] = D4\n",
    "                else:\n",
    "                    S[i,j] = D5\n",
    "Snn()\n",
    "print('Time taken to complete this task: ',time.time()-start)"
   ]
  },
  {
   "cell_type": "code",
   "execution_count": 37,
   "id": "34eb9f92-f32b-4864-b7ba-40ccb829fd53",
   "metadata": {},
   "outputs": [
    {
     "name": "stdout",
     "output_type": "stream",
     "text": [
      "Time taken to complete this task:  2.8455801010131836\n"
     ]
    }
   ],
   "source": [
    "start = time.time()\n",
    "ehat = np.array([[1,0,0],[0,1,0],[0,0,1]])\n",
    "def Snnn():\n",
    "    for i,j in nnnlist:\n",
    "        n1,n2,alpha = index2site(i,N1,N2)\n",
    "        n1p,n2p,alphap = index2site(j,N1,N2)\n",
    "\n",
    "        dr = (n1-n1p)*a1_dot+(n2-n2p)*a2_dot+D[alpha%Nd]-D[alphap%Nd]\n",
    "        iorb = alpha//Nd\n",
    "        itype = Dtype[alpha%Nd]\n",
    "        jorb = alphap//Nd\n",
    "        jtype = Dtype[alphap%Nd]\n",
    "\n",
    "        # In the following, there is a symmetry distinction between (px-py, px-pz) and py-pz\n",
    "        # Check the signs: especially for A3 and A9\n",
    "        if itype == 0 and jtype == 0:\n",
    "            if iorb == 0 and jorb == 0: ## s-s C-C coupling\n",
    "                S[i, j] = A2\n",
    "            if iorb == 0 and jorb > 0: ## s-p C-C coupling\n",
    "                S[i,j] = 1.0j*A3\n",
    "            if iorb >0 and jorb == 0: ## p-s C-C coupling\n",
    "                S[i,j] = -1.0j*A3\n",
    "            if iorb >0 and jorb >0 and iorb==jorb:  ## p-p C-C coupling\n",
    "                if dr@ehat[iorb-1]==0:\n",
    "                    S[i,j] = A7\n",
    "                else:\n",
    "                    S[i,j] = A8\n",
    "            if iorb >0 and jorb >0 and iorb!=jorb:  ## p-p C-C coupling\n",
    "                S[i,j] = A9\n",
    "        if itype == 1 and jtype == 1:\n",
    "            if iorb == 0 and jorb == 0: ## s-s C-C coupling\n",
    "                S[i, j] = C2\n",
    "            if iorb == 0 and jorb > 0: ## s-p C-C coupling\n",
    "                S[i,j] = 1.0j*C3\n",
    "            if iorb >0 and jorb == 0: ## p-s C-C coupling\n",
    "                S[i,j] = -1.0j*C3\n",
    "            if iorb >0 and jorb >0 and iorb==jorb:  ## p-p C-C coupling\n",
    "                if dr@ehat[iorb-1]==0:\n",
    "                    S[i,j] = C7\n",
    "                else:\n",
    "                    S[i,j] = C8\n",
    "            if iorb >0 and jorb >0 and iorb!=jorb:  ## p-p C-C coupling\n",
    "                S[i,j] = C9\n",
    "Snnn()            \n",
    "print('Time taken to complete this task: ',time.time()-start)"
   ]
  },
  {
   "cell_type": "code",
   "execution_count": 38,
   "id": "6f96fe1b-07ab-41bd-b8dc-00d5cabae4fc",
   "metadata": {},
   "outputs": [
    {
     "name": "stdout",
     "output_type": "stream",
     "text": [
      "Time taken to complete this task:  2.860132932662964\n"
     ]
    }
   ],
   "source": [
    "start = time.time()\n",
    "ehat = np.array([[1,0,0],[0,1,0],[0,0,1]])\n",
    "def Snnnn():\n",
    "    for i,j in nnnnlist:\n",
    "        n1,n2,alpha = index2site(i,N1,N2)\n",
    "        n1p,n2p,alphap = index2site(j,N1,N2)\n",
    "\n",
    "        dr = (n1-n1p)*a1_dot+(n2-n2p)*a2_dot+D[alpha%Nd]-D[alphap%Nd]\n",
    "        iorb = alpha//Nd\n",
    "        itype = Dtype[alpha%Nd]\n",
    "        jorb = alphap//Nd\n",
    "        jtype = Dtype[alphap%Nd]\n",
    "\n",
    "        # In the following, there is a symmetry distinction between (px-py, px-pz) and py-pz\n",
    "        # Check the signs: especially for A3 and A9\n",
    "        if np.linalg.norm(dr)==np.sqrt(3):\n",
    "            if itype == 0 and jtype == 1:\n",
    "                if iorb == 0 and jorb == 0: ## s-s C-C coupling\n",
    "                    S[i, j] = F1\n",
    "                if iorb > 0 and jorb == 0: ## s-p C-C coupling\n",
    "                    S[i,j] = 1.0j*F2\n",
    "                if iorb == 0 and jorb > 0: ## s-p C-C coupling\n",
    "                    S[i,j] = 1.0j*F3\n",
    "                if iorb >0 and jorb >0:\n",
    "                    if iorb==jorb:  ## p-p C-C coupling\n",
    "                        S[i,j] = F4\n",
    "                    else:\n",
    "                        S[i,j] = F5                    \n",
    "                    \n",
    "            if itype == 1 and jtype == 0:\n",
    "                if iorb == 0 and jorb == 0: ## s-s C-C coupling\n",
    "                    S[i, j] = F1\n",
    "                if iorb > 0 and jorb == 0: ## s-p C-C coupling\n",
    "                    S[i,j] = -1.0j*F2\n",
    "                if iorb == 0 and jorb > 0: ## s-p C-C coupling\n",
    "                    S[i,j] = -1.0j*F3\n",
    "                if iorb >0 and jorb >0:\n",
    "                    if iorb==jorb:  ## p-p C-C coupling\n",
    "                        S[i,j] = F4\n",
    "                    else:\n",
    "                        S[i,j] = F5                    \n",
    "        \n",
    "        if np.linalg.norm(dr)==2.0:\n",
    "            if itype == 0 and jtype == 0:\n",
    "                if iorb == 0 and jorb == 0: ## s-s C-C coupling\n",
    "                    S[i, j] = B1\n",
    "                if iorb == 0 and jorb > 0: ## s-p C-C coupling\n",
    "                    S[i,j] = 1.0j*B2\n",
    "                if iorb >0 and jorb == 0: ## p-s C-C coupling\n",
    "                    S[i,j] = -1.0j*B2\n",
    "                if iorb >0 and jorb >0 and iorb==jorb:  ## p-p C-C coupling\n",
    "                    if dr@ehat[iorb-1]==0:\n",
    "                        S[i,j] = B4\n",
    "                    else:\n",
    "                        S[i,j] = B5                    \n",
    "                    \n",
    "            if itype == 1 and jtype == 1:\n",
    "                if iorb == 0 and jorb == 0: ## s-s C-C coupling\n",
    "                    S[i, j] = E1\n",
    "                if iorb == 0 and jorb > 0: ## s-p C-C coupling\n",
    "                    S[i,j] = 1.0j*E2\n",
    "                if iorb >0 and jorb == 0: ## p-s C-C coupling\n",
    "                    S[i,j] = -1.0j*E2\n",
    "                if iorb >0 and jorb >0 and iorb==jorb:  ## p-p C-C coupling\n",
    "                    if dr@ehat[iorb-1]==0:\n",
    "                        S[i,j] = E4\n",
    "                    else:\n",
    "                        S[i,j] = E5\n",
    "        \n",
    "Snnn()            \n",
    "print('Time taken to complete this task: ',time.time()-start)"
   ]
  },
  {
   "cell_type": "code",
   "execution_count": 39,
   "id": "8a9e83ba-34c7-4dc3-b949-e50fc9c6c590",
   "metadata": {},
   "outputs": [
    {
     "name": "stdout",
     "output_type": "stream",
     "text": [
      "5.415693998336792\n"
     ]
    },
    {
     "data": {
      "text/plain": [
       "array([-0.00350228,  0.00444254, -0.01267856,  0.01340451, -0.01561072,\n",
       "       -0.01746874,  0.01743171,  0.02062028, -0.03347763,  0.02977162,\n",
       "        0.03433676, -0.04044158, -0.04224536,  0.03995886, -0.05526163,\n",
       "       -0.0566011 ,  0.05029748,  0.05325561, -0.06647497, -0.0683393 ,\n",
       "        0.05670344,  0.06172442, -0.077267  , -0.08326044,  0.06891341,\n",
       "       -0.09340296,  0.07358268, -0.10354659, -0.1060988 ,  0.07834863,\n",
       "        0.08159689,  0.08425682, -0.1191157 , -0.12103414,  0.09574688,\n",
       "        0.10226677,  0.11316762,  0.11659715,  0.11822506,  0.11958986])"
      ]
     },
     "execution_count": 39,
     "metadata": {},
     "output_type": "execute_result"
    }
   ],
   "source": [
    "start = time.time()\n",
    "lam,V = sparse.linalg.eigsh(S,k=40,sigma=0.0)\n",
    "print(time.time()-start)\n",
    "lam"
   ]
  },
  {
   "cell_type": "code",
   "execution_count": 40,
   "id": "5fbca6de-4cf4-42ff-969b-8e44f4b531e8",
   "metadata": {},
   "outputs": [
    {
     "data": {
      "text/plain": [
       "(array([4., 3., 4., 3., 4., 4., 3., 5., 4., 6.]),\n",
       " array([-0.12103414, -0.09697174, -0.07290934, -0.04884694, -0.02478454,\n",
       "        -0.00072214,  0.02334026,  0.04740266,  0.07146506,  0.09552746,\n",
       "         0.11958986]),\n",
       " <BarContainer object of 10 artists>)"
      ]
     },
     "execution_count": 40,
     "metadata": {},
     "output_type": "execute_result"
    },
    {
     "data": {
      "image/png": "[encoded data removed]",
      "text/plain": [
       "<Figure size 640x480 with 1 Axes>"
      ]
     },
     "metadata": {},
     "output_type": "display_data"
    }
   ],
   "source": [
    "plt.hist(lam,10)"
   ]
  },
  {
   "cell_type": "code",
   "execution_count": 41,
   "id": "60f68ebb-ed82-4046-9c9b-925d40842f6a",
   "metadata": {},
   "outputs": [],
   "source": [
    "rxmax,rymax = 0.0,0.0\n",
    "rxmin,rymin = 0.0,0.0\n",
    "for i in range(N1*N2*Nd):\n",
    "    n1,n2,alpha = index2site(i,N1,N2)\n",
    "    r = n1*a1_dot+n2*a2_dot+D[alpha]\n",
    "    if r[0] > rxmax:\n",
    "        rxmax = r[0]\n",
    "    if r[0] < rxmin:\n",
    "        rxmin = r[0]\n",
    "    if r[1] > rymax:\n",
    "        rymax = r[1]\n",
    "    if r[1] < rymin:\n",
    "        rymin = r[1]\n",
    "canvas = np.zeros((int(rxmax-rxmin)+1,int(rymax-rymin)+1))\n",
    "for i in range(N1*N2*Nd*Norb):\n",
    "    n1,n2,alpha = index2site(i,N1,N2)\n",
    "    r = n1*a1_dot+n2*a2_dot+D[alpha%Nd]\n",
    "    if r[2] == 0.0:\n",
    "        #print(rxmin+r(0),rymin+r(1))\n",
    "        canvas[int(r[0]-rxmin),int(r[1]-rymin)] += abs(V[i,15])"
   ]
  },
  {
   "cell_type": "code",
   "execution_count": 42,
   "id": "684f4a34-d93a-44fa-9bcb-516f225a8719",
   "metadata": {},
   "outputs": [
    {
     "data": {
      "image/png": "[encoded data removed]",
      "text/plain": [
       "<Figure size 640x480 with 2 Axes>"
      ]
     },
     "metadata": {},
     "output_type": "display_data"
    }
   ],
   "source": [
    "plt.pcolor(canvas.T,cmap='Blues')\n",
    "plt.colorbar()\n",
    "plt.xlabel('[superlattice unit cells]')\n",
    "plt.ylabel('[superlattice unit cells]');"
   ]
  },
  {
   "cell_type": "code",
   "execution_count": 43,
   "id": "57dee089-8052-4fec-840a-0f36dc44616c",
   "metadata": {},
   "outputs": [
    {
     "data": {
      "text/plain": [
       "np.int64(498608)"
      ]
     },
     "execution_count": 43,
     "metadata": {},
     "output_type": "execute_result"
    }
   ],
   "source": [
    "S.count_nonzero()"
   ]
  },
  {
   "cell_type": "code",
   "execution_count": 44,
   "id": "cf1c9db8-8dd7-4f4b-aae0-5e99255fc6b5",
   "metadata": {},
   "outputs": [
    {
     "data": {
      "text/plain": [
       "'/Users/mlawler/Code/qdotarrays/solid_out.scad'"
      ]
     },
     "execution_count": 44,
     "metadata": {},
     "output_type": "execute_result"
    }
   ],
   "source": [
    "model = solid.sphere(0.0)\n",
    "scale = 1  # Larger scale will use more facets. \n",
    "state = abs(V[:,0])/abs(V[:,0]).max()\n",
    "for i,j in nnlist:\n",
    "    n1,n2,alpha = index2site(i,N1,N2)\n",
    "    r1 = n1*a1_dot+n2*a2_dot+D[alpha%Nd]\n",
    "    n1p,n2p,alphap = index2site(j,N1,N2)\n",
    "    r1p = n1p*a1_dot+n2p*a2_dot+D[alphap%Nd]\n",
    "    iorb = alpha//Nd\n",
    "    jorb = alphap//Nd\n",
    "    if iorb == 0 and jorb == 0 and S[i,j] !=0:\n",
    "        c = (112/256,128/256,144/256)  # Pb color: blueish-grey\n",
    "        model = line3d(r1,r1p,model,c,scale)\n",
    "model.save_as_scad()"
   ]
  },
  {
   "cell_type": "code",
   "execution_count": null,
   "id": "838342a2-2685-497a-84e1-1028f6d02afa",
   "metadata": {},
   "outputs": [],
   "source": []
  },
  {
   "cell_type": "code",
   "execution_count": null,
   "id": "5de23da2-d05c-4a14-9cd5-a0cdb510f40d",
   "metadata": {},
   "outputs": [],
   "source": []
  }
 ],
 "metadata": {
  "kernelspec": {
   "display_name": "Python 3 (ipykernel)",
   "language": "python",
   "name": "python3"
  },
  "language_info": {
   "codemirror_mode": {
    "name": "ipython",
    "version": 3
   },
   "file_extension": ".py",
   "mimetype": "text/x-python",
   "name": "python",
   "nbconvert_exporter": "python",
   "pygments_lexer": "ipython3",
   "version": "3.12.5"
  }
 },
 "nbformat": 4,
 "nbformat_minor": 5
}
