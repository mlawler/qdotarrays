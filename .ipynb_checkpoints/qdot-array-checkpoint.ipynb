{
 "cells": [
  {
   "cell_type": "code",
   "execution_count": 1,
   "id": "211f354b-88f2-4801-9b7b-f020eb97c7c9",
   "metadata": {},
   "outputs": [],
   "source": [
    "import numpy as np\n",
    "from scipy import sparse\n",
    "import matplotlib.pyplot as plt\n",
    "import solid2 as solid\n",
    "import time\n",
    "from numba import jit"
   ]
  },
  {
   "cell_type": "markdown",
   "id": "b1acf87e-26f5-456e-958d-918d11033ab7",
   "metadata": {},
   "source": [
    "## Lattice"
   ]
  },
  {
   "cell_type": "markdown",
   "id": "98a96608-0a6f-4af9-a940-570a43680239",
   "metadata": {},
   "source": [
    "### Define a spherical quantum dot:"
   ]
  },
  {
   "cell_type": "code",
   "execution_count": 2,
   "id": "ebc2cf3e-e227-4fc7-a267-3cafe3328b49",
   "metadata": {},
   "outputs": [],
   "source": [
    "class InDot:\n",
    "    def __init__(self,R):\n",
    "        self.R = R\n",
    "    \n",
    "    def __call__(self, r):\n",
    "        return np.linalg.norm(r) < self.R"
   ]
  },
  {
   "cell_type": "code",
   "execution_count": 3,
   "id": "5548489d-4abd-4490-81bd-78c89268e602",
   "metadata": {},
   "outputs": [
    {
     "data": {
      "text/plain": [
       "587"
      ]
     },
     "execution_count": 3,
     "metadata": {},
     "output_type": "execute_result"
    }
   ],
   "source": [
    "a1 = np.array((0,1,1))\n",
    "a2 = np.array((1,0,1))\n",
    "a3 = np.array((1,1,0))\n",
    "dlat = np.array([[0,0,0],[1,0,0]])\n",
    "Ndot1 = 20\n",
    "Ndot2 = 20\n",
    "Ndot3 = 20\n",
    "indot = InDot(5.1)\n",
    "ddot = []\n",
    "for n1 in range(-Ndot1//2,Ndot1//2):\n",
    "    for n2 in range(-Ndot2//2,Ndot2//2):\n",
    "        for n3 in range(-Ndot3//2,Ndot3//2):\n",
    "            for alpha in range(len(dlat)):\n",
    "                r = n1*a1+n2*a2+n3*a3+dlat[alpha]\n",
    "                if indot(r):\n",
    "                    ddot.append(r)\n",
    "ddot = np.array(ddot)\n",
    "Ndot = len(ddot)\n",
    "Ndot"
   ]
  },
  {
   "cell_type": "code",
   "execution_count": 4,
   "id": "d0137fb8-2bf1-434e-9f44-61b1270d2eda",
   "metadata": {},
   "outputs": [
    {
     "data": {
      "text/plain": [
       "1.0"
      ]
     },
     "execution_count": 4,
     "metadata": {},
     "output_type": "execute_result"
    }
   ],
   "source": [
    "min_dist = 10.0\n",
    "for d1 in ddot:\n",
    "    for d2 in ddot:\n",
    "        dist = np.linalg.norm(d1-d2)\n",
    "        if 0 < dist < min_dist:\n",
    "            min_dist = dist\n",
    "min_dist"
   ]
  },
  {
   "cell_type": "code",
   "execution_count": 5,
   "id": "f7e002a7-3f78-46c3-ac55-6ea8632c246c",
   "metadata": {},
   "outputs": [
    {
     "data": {
      "text/plain": [
       "'/Users/mlawler/Code/qdotarrays/solid_out.scad'"
      ]
     },
     "execution_count": 5,
     "metadata": {},
     "output_type": "execute_result"
    }
   ],
   "source": [
    "model = solid.sphere(0.0)\n",
    "scale = 10  # Larger scale will use more facets. \n",
    "for d in ddot:\n",
    "    if d.sum() % 2 == 0:\n",
    "        c = (112/256,128/256,144/256)  # Pb color: blueish-grey\n",
    "    else:\n",
    "        c = (150/256,0,0)  # Selenium color: deep red\n",
    "    model += solid.sphere(scale*0.5).\\\n",
    "        color(c).\\\n",
    "        translate(scale*d)\n",
    "model.save_as_scad()"
   ]
  },
  {
   "cell_type": "markdown",
   "id": "7d718bc3-0fd6-4fa1-ab3d-6346817f7c7c",
   "metadata": {},
   "source": [
    "### Define a square lattice of quantum dots"
   ]
  },
  {
   "cell_type": "code",
   "execution_count": 274,
   "id": "1ae392a6-70b1-4d42-82e5-9d8a45142b70",
   "metadata": {},
   "outputs": [],
   "source": [
    "a_dot = 11.0\n",
    "a1_dot = np.array((a_dot,0,0))\n",
    "a2_dot = np.array((0,a_dot,0))\n",
    "D = np.array(ddot)  ## makes a copy of ddot\n",
    "Dtype = np.array([D[alpha].sum()%2 for alpha in range(len(D))])"
   ]
  },
  {
   "cell_type": "code",
   "execution_count": 265,
   "id": "a5da6e13-3cff-48eb-a914-f9f79bed5327",
   "metadata": {},
   "outputs": [
    {
     "data": {
      "text/plain": [
       "1.0"
      ]
     },
     "execution_count": 265,
     "metadata": {},
     "output_type": "execute_result"
    }
   ],
   "source": [
    "min_dist = 10.0\n",
    "for alpha in range(len(D)):\n",
    "    for beta in range(len(D)):\n",
    "        dist = np.linalg.norm(D[alpha] - a1_dot+D[beta])\n",
    "        min_dist = min(dist,min_dist)\n",
    "min_dist"
   ]
  },
  {
   "cell_type": "code",
   "execution_count": 266,
   "id": "3ee32fa8-abc0-4562-a25b-ce9ecae0c6f1",
   "metadata": {},
   "outputs": [
    {
     "name": "stdout",
     "output_type": "stream",
     "text": [
      "2988\n"
     ]
    }
   ],
   "source": [
    "count = 0\n",
    "for d1 in D:\n",
    "    for d2 in D:\n",
    "        if 0.0 < np.linalg.norm(d2-d1) < 1.01:\n",
    "            count += 1\n",
    "print(count)"
   ]
  },
  {
   "cell_type": "code",
   "execution_count": 267,
   "id": "ba2fdf9e-4455-477c-b7a4-baab21f44b80",
   "metadata": {},
   "outputs": [],
   "source": [
    "@jit\n",
    "def site2index(n1,n2,alpha,N1,N2):\n",
    "    return n1+n2*N1+alpha*N1*N2\n",
    "@jit\n",
    "def index2site(i,N1,N2):\n",
    "    n1 = i%N1\n",
    "    n2 = (i//N1)%N2\n",
    "    alpha = (i//(N1*N2))\n",
    "    return (n1,n2,alpha)"
   ]
  },
  {
   "cell_type": "code",
   "execution_count": 286,
   "id": "d8b32456-a882-48b6-a040-cf8dd8f77eb5",
   "metadata": {},
   "outputs": [
    {
     "data": {
      "text/plain": [
       "'/Users/mlawler/Code/qdotarrays/solid_out.scad'"
      ]
     },
     "execution_count": 286,
     "metadata": {},
     "output_type": "execute_result"
    }
   ],
   "source": [
    "N1 = 2\n",
    "N2 = 2\n",
    "model = solid.sphere(0.0)\n",
    "scale = 1  # Larger scale will use more facets. \n",
    "for i in range(N1*N2*len(D)):\n",
    "    n1,n2,alpha = index2site(i,N1,N2)\n",
    "    r = n1*a1_dot+n2*a2_dot+D[alpha]\n",
    "    \n",
    "    if Dtype[alpha] == 0:\n",
    "        c = (112/256,128/256,144/256)  # Pb color: blueish-grey\n",
    "    else:\n",
    "        c = (150/256,0,0)  # Selenium color: deep red\n",
    "    model += solid.sphere(scale*0.5).\\\n",
    "        color(c).\\\n",
    "        translate(scale*r)\n",
    "model.save_as_scad()"
   ]
  },
  {
   "cell_type": "code",
   "execution_count": 91,
   "id": "7c617917-0736-4f12-983e-17a9a9e4e718",
   "metadata": {
    "tags": []
   },
   "outputs": [],
   "source": [
    "@jit\n",
    "def test_symmetry():\n",
    "    rcm = np.array((0.0,0,0))\n",
    "    for i in range(N1*N2*len(D)):\n",
    "        n1,n2,alpha = index2site(i,N1,N2)\n",
    "        r = n1*a1_dot+n2*a2_dot+D[alpha]\n",
    "        rcm = (N1//2-0.5)*a1_dot + (N2//2-0.5)*a2_dot\n",
    "        rp = np.array(((0.0,1,0),(-1,0,0),(0,0,1)))@(r-rcm) +rcm\n",
    "        #print(r,rp)\n",
    "\n",
    "        rp_in_r = False\n",
    "        for j in range(N1*N2*len(D)):\n",
    "            m1,m2,beta = index2site(j,N1,N2)\n",
    "            if rp[0] == (m1*a1_dot+m2*a2_dot+D[beta])[0] and \\\n",
    "               rp[1] == (m1*a1_dot+m2*a2_dot+D[beta])[1] and \\\n",
    "               rp[2] == (m1*a1_dot+m2*a2_dot+D[beta])[2]:\n",
    "                rp_in_r = True\n",
    "        if rp_in_r == False:\n",
    "            print((n1,n2,alpha), \" is not symmetric!\")\n",
    "test_symmetry()"
   ]
  },
  {
   "cell_type": "markdown",
   "id": "653c1c24-ca17-43d6-8b2f-dc80ddb11b45",
   "metadata": {},
   "source": [
    "### Define a honeycomb lattice of quantum dots"
   ]
  },
  {
   "cell_type": "code",
   "execution_count": 476,
   "id": "8680bd35-6e79-44c7-b303-d66f80f65e35",
   "metadata": {},
   "outputs": [],
   "source": [
    "a_dot = 7.0\n",
    "h_dot = 0.25\n",
    "a1_dot = (a_dot/2)*np.array((3,np.sqrt(3),0))\n",
    "a2_dot = (a_dot/2)*np.array((3,-np.sqrt(3),0))\n",
    "D = np.concatenate((np.array(ddot)+a_dot*np.array([0,0,-h_dot]),\n",
    "                   np.array(ddot)+a_dot*np.array([-1,0,h_dot])))\n",
    "Dtype = np.array([D[alpha].sum()%2 for alpha in range(len(D))])"
   ]
  },
  {
   "cell_type": "code",
   "execution_count": 477,
   "id": "2c3e976b-758c-4196-9367-72629ce5f49c",
   "metadata": {},
   "outputs": [
    {
     "data": {
      "text/plain": [
       "2.7619235570683873"
      ]
     },
     "execution_count": 477,
     "metadata": {},
     "output_type": "execute_result"
    }
   ],
   "source": [
    "min_dist = 10.0\n",
    "for alpha in range(len(D)):\n",
    "    for beta in range(len(D)):\n",
    "        dist = np.linalg.norm(D[alpha] - a1_dot+D[beta])\n",
    "        min_dist = min(dist,min_dist)\n",
    "min_dist"
   ]
  },
  {
   "cell_type": "code",
   "execution_count": 478,
   "id": "6d0c63f4-4573-4dfa-a894-e77fc5476e2d",
   "metadata": {},
   "outputs": [
    {
     "data": {
      "text/plain": [
       "'/Users/mlawler/Code/qdotarrays/solid_out.scad'"
      ]
     },
     "execution_count": 478,
     "metadata": {},
     "output_type": "execute_result"
    }
   ],
   "source": [
    "N1 = 2\n",
    "N2 = 2\n",
    "model = solid.sphere(0.0)\n",
    "scale = 1  # Larger scale will use more facets. \n",
    "for i in range(N1*N2*len(D)):\n",
    "    n1,n2,alpha = index2site(i,N1,N2)\n",
    "    r = n1*a1_dot+n2*a2_dot+D[alpha]\n",
    "    \n",
    "    if Dtype[alpha] == 0:\n",
    "        c = (112/256,128/256,144/256)  # Pb color: blueish-grey\n",
    "    else:\n",
    "        c = (150/256,0,0)  # Selenium color: deep red\n",
    "    model += solid.sphere(scale*0.5).\\\n",
    "        color(c).\\\n",
    "        translate(scale*r)\n",
    "model.save_as_scad()"
   ]
  },
  {
   "cell_type": "markdown",
   "id": "38746d8f-d60f-442e-a95b-b460b3448680",
   "metadata": {},
   "source": [
    "## Electronic Structure"
   ]
  },
  {
   "cell_type": "markdown",
   "id": "74305ebd-7842-44ed-b3fe-9b00e166f3b1",
   "metadata": {},
   "source": [
    "### Simple S-orbital model"
   ]
  },
  {
   "cell_type": "code",
   "execution_count": 205,
   "id": "f9ab2528-21b6-411c-9188-ab7f02dfb7d2",
   "metadata": {},
   "outputs": [
    {
     "name": "stdout",
     "output_type": "stream",
     "text": [
      "Time taken to complete this task:  56.010985136032104\n"
     ]
    }
   ],
   "source": [
    "N1 = 2\n",
    "N2 = 2\n",
    "Nd = len(D)\n",
    "t = 1.0\n",
    "dt = 0.0\n",
    "S = sparse.dok_matrix((N1*N2*Nd, N1*N2*Nd))\n",
    "start = time.time()\n",
    "for i in range(N1*N2*Nd):\n",
    "    n1,n2,alpha = index2site(i,N1,N2)\n",
    "    for j in range(N1*N2*Nd):\n",
    "        n1p,n2p,alphap = index2site(j,N1,N2)\n",
    "        if np.linalg.norm(n1*a1_dot+n2*a2_dot+D[alpha] - n1p*a1_dot-n2p*a2_dot-D[alphap]) < 1.01:\n",
    "            S[i, j] = -t + dt*np.random.rand()\n",
    "print('Time taken to complete this task: ',time.time()-start)"
   ]
  },
  {
   "cell_type": "code",
   "execution_count": 206,
   "id": "ef2875c2-af96-4ec1-babe-e438532426ae",
   "metadata": {},
   "outputs": [
    {
     "name": "stdout",
     "output_type": "stream",
     "text": [
      "4.565753936767578\n"
     ]
    },
    {
     "data": {
      "text/plain": [
       "array([-6.67791793, -6.67726159, -6.67726159, -6.67660201, -6.35440951,\n",
       "       -6.35438031, -6.35435737, -6.35435737, -6.35180578, -6.35176771,\n",
       "       -6.35176771, -6.35172963, -6.35049098, -6.35049098, -6.35045619,\n",
       "       -6.35044898, -5.97737169, -5.97323754, -5.97323754, -5.97018531])"
      ]
     },
     "execution_count": 206,
     "metadata": {},
     "output_type": "execute_result"
    }
   ],
   "source": [
    "start = time.time()\n",
    "lam,V = sparse.linalg.eigsh(S,k=20)\n",
    "print(time.time()-start)\n",
    "lam"
   ]
  },
  {
   "cell_type": "code",
   "execution_count": 207,
   "id": "6d429023-3998-4609-b2be-5c91438c2698",
   "metadata": {},
   "outputs": [],
   "source": [
    "rxmax,rymax = 0.0,0.0\n",
    "rxmin,rymin = 0.0,0.0\n",
    "for i in range(N1*N2*Nd):\n",
    "    n1,n2,alpha = index2site(i,N1,N2)\n",
    "    r = n1*a1_dot+n2*a2_dot+D[alpha]\n",
    "    if r[0] > rxmax:\n",
    "        rxmax = r[0]\n",
    "    if r[0] < rxmin:\n",
    "        rxmin = r[0]\n",
    "    if r[1] > rymax:\n",
    "        rymax = r[1]\n",
    "    if r[1] < rymin:\n",
    "        rymin = r[1]\n",
    "canvas = np.zeros((int(rxmax-rxmin)+1,int(rymax-rymin)+1))\n",
    "for i in range(N1*N2*Nd):\n",
    "    n1,n2,alpha = index2site(i,N1,N2)\n",
    "    r = n1*a1_dot+n2*a2_dot+D[alpha]\n",
    "    if r[2] == 0.0:\n",
    "        #print(rxmin+r(0),rymin+r(1))\n",
    "        canvas[int(r[0]-rxmin),int(r[1]-rymin)] = abs(V[i,0])**2"
   ]
  },
  {
   "cell_type": "code",
   "execution_count": 208,
   "id": "694fe6f3-eb5a-4712-8ab2-d6327d314205",
   "metadata": {},
   "outputs": [
    {
     "data": {
      "text/plain": [
       "<matplotlib.colorbar.Colorbar at 0x7fa5191a46a0>"
      ]
     },
     "execution_count": 208,
     "metadata": {},
     "output_type": "execute_result"
    },
    {
     "data": {
      "image/png": "[encoded data removed]",
      "text/plain": [
       "<Figure size 640x480 with 2 Axes>"
      ]
     },
     "metadata": {},
     "output_type": "display_data"
    }
   ],
   "source": [
    "plt.pcolor(canvas,cmap='Blues')\n",
    "plt.colorbar()"
   ]
  },
  {
   "cell_type": "code",
   "execution_count": 74,
   "id": "29fe0147-2221-405d-b3eb-ad4ca30bfb04",
   "metadata": {},
   "outputs": [],
   "source": [
    "model = solid.sphere(0.0)\n",
    "scale = 1  # Larger scale will use more facets. \n",
    "state = abs(V[:,0])/abs(V[:,0]).max()\n",
    "for i in range(N1*N2*len(D)):\n",
    "    n1,n2,alpha = index2site(i,N1,N2)\n",
    "    r = n1*a1_dot+n2*a2_dot+D[alpha]\n",
    "    if D[alpha].sum() % 2 == 0:\n",
    "        c = (112/256,128/256,144/256)  # Pb color: blueish-grey\n",
    "    else:\n",
    "        c = (150/256,0,0)  # Selenium color: deep red\n",
    "#    model += solid.sphere(scale*0.5).\\\n",
    "#        color(c,alpha=state(i)).\\\n",
    "#        translate(scale*r)\n",
    "    model += solid.sphere(scale*0.5).\\\n",
    "        color(c).\\\n",
    "        translate(scale*r)\n",
    "#model.save_as_scad()"
   ]
  },
  {
   "cell_type": "code",
   "execution_count": 209,
   "id": "57e0ebc8-b10f-480b-b81d-adab4a2c0d4c",
   "metadata": {},
   "outputs": [],
   "source": [
    "def line3d(r1,r2,model,c,scale):\n",
    "    dr = np.linalg.norm(r2-r1)\n",
    "    zhat = np.array((0,0,1))\n",
    "    rhat = (r2-r1)/np.linalg.norm(r2-r1)\n",
    "    khat = np.cross(zhat,rhat)\n",
    "    if abs(khat).sum()==0.0:\n",
    "        khat = np.array((0,1,0))\n",
    "    theta = np.arccos(zhat@rhat)\n",
    "    model+= solid.cylinder(h=dr,r1=0.1*dr,r2=0.1*dr).\\\n",
    "        color(c).\\\n",
    "        rotate(a=180*theta/np.pi,v=khat).\\\n",
    "        translate(scale*r1)\n",
    "    return model"
   ]
  },
  {
   "cell_type": "code",
   "execution_count": 105,
   "id": "6f895966-e8ef-448e-9bc3-784dfd174c99",
   "metadata": {},
   "outputs": [
    {
     "data": {
      "text/plain": [
       "'/Users/mlawler/Code/qdotarrays/solid_out.scad'"
      ]
     },
     "execution_count": 105,
     "metadata": {},
     "output_type": "execute_result"
    }
   ],
   "source": [
    "model = solid.sphere(0.0)\n",
    "model = line3d(np.array((0,0,0)),np.array((0,0,1)),model,np.array((0.5,0.5,0.5)),1)\n",
    "model.save_as_scad()"
   ]
  },
  {
   "cell_type": "code",
   "execution_count": 300,
   "id": "ea4830e6-ddad-427e-8aa3-9f79f07cc643",
   "metadata": {},
   "outputs": [
    {
     "data": {
      "text/plain": [
       "'/Users/mlawler/Code/qdotarrays/solid_out.scad'"
      ]
     },
     "execution_count": 300,
     "metadata": {},
     "output_type": "execute_result"
    }
   ],
   "source": [
    "N1=2\n",
    "N2=1\n",
    "model = solid.sphere(0.0)\n",
    "scale = 1  # Larger scale will use more facets. \n",
    "state = abs(V[:,0])/abs(V[:,0]).max()\n",
    "for i in range(N1*N2*len(D)):\n",
    "    n1,n2,alpha = index2site(i,N1,N2)\n",
    "    r1 = n1*a1_dot+n2*a2_dot+D[alpha]\n",
    "    if Dtype[alpha] == 0:\n",
    "        c = (112/256,128/256,144/256)  # Pb color: blueish-grey\n",
    "    else:\n",
    "        c = (150/256,0,0)  # Selenium color: deep red\n",
    "    model+=solid.sphere(scale*0.1).\\\n",
    "        color(c).\\\n",
    "        translate(scale*r1)\n",
    "    for j in range(N1*N2*len(D)):\n",
    "        if j != i and S[i,j] != 0.0:\n",
    "            n1p,n2p,alphap = index2site(j,N1,N2)\n",
    "            r1p = n1p*a1_dot+n2p*a2_dot+D[alphap]\n",
    "            c = (112/256,128/256,144/256)  # Pb color: blueish-grey\n",
    "            model = line3d(r1,r1p,model,c,scale)\n",
    "model.save_as_scad()"
   ]
  },
  {
   "cell_type": "markdown",
   "id": "a1ae8a3d-92d6-467d-b6cc-96aa13ec86d6",
   "metadata": {},
   "source": [
    "### s,p orbital model\n",
    "I take this model from the nearest neighbor model of \"Band gap anomaly and topological properties in lead chalcogenides\" by Nie, Xu, Xu, Fang, Chinese Physics B 2016:\n",
    "\n",
    "https://iopscience.iop.org/article/10.1088/1674-1056/25/3/037311/meta"
   ]
  },
  {
   "cell_type": "code",
   "execution_count": 419,
   "id": "2b20f06f-5fb5-4f8f-b38d-3163291c3f4a",
   "metadata": {},
   "outputs": [],
   "source": [
    "N1 = 4\n",
    "N2 = 4\n",
    "Nd = len(D)\n",
    "Norb = 4\n",
    "S = sparse.dok_matrix((N1*N2*Nd*Norb, N1*N2*Nd*Norb),dtype=np.cfloat)"
   ]
  },
  {
   "cell_type": "markdown",
   "id": "dcfc2db8-cf90-4171-bcf3-d088fa6a8b06",
   "metadata": {},
   "source": [
    "Let's treat the orbitals as first Nd values of alpha are s orbitals, next Nd values are px, next Nd values are py and last Nd values are pz. The onsite and nearest neighbor parameters are:"
   ]
  },
  {
   "cell_type": "code",
   "execution_count": 401,
   "id": "aeade6d1-233c-43ea-9bcd-7445b8052563",
   "metadata": {},
   "outputs": [],
   "source": [
    "A1 = -2.0072 # Note variable A1 also used above for superlattice constant\n",
    "A2 = 0.0891\n",
    "A3 = -0.0215 \n",
    "A6 = 6.9910 \n",
    "A7 = -0.0259 \n",
    "A8 = -0.0283 \n",
    "A9 = 0.3110 \n",
    "C1 = -7.8493\n",
    "C2 = -0.0848\n",
    "C3 = 0.1689\n",
    "C6 = 3.1139\n",
    "C7 = 0.1686\n",
    "C8 = -0.0188\n",
    "C9 = 0.1356\n",
    "B1 = -0.1537\n",
    "B2 = 0.0974\n",
    "B4 = 0.4891\n",
    "B5 = 0.1050\n",
    "E1 = -0.2215\n",
    "E2 = -0.1308\n",
    "E4 = 0.1409\n",
    "E5 = 0.0330\n",
    "D1 = -0.6076\n",
    "D2 = 1.2714\n",
    "D3 = -1.4507\n",
    "D4 = 1.8474\n",
    "D5 = -0.2950\n",
    "F1 = 0.3100\n",
    "F2 = -0.0491\n",
    "F3 = -0.0069\n",
    "F4 = 0.1013\n",
    "F5 = 0.0425"
   ]
  },
  {
   "cell_type": "markdown",
   "id": "b2393afa-7bc8-4664-8ee0-eaaaa65e28eb",
   "metadata": {},
   "source": [
    "Block Hamiltonian is then:"
   ]
  },
  {
   "cell_type": "code",
   "execution_count": 340,
   "id": "082c1fc5-785f-4990-8e1c-4f9eb141d4d0",
   "metadata": {},
   "outputs": [],
   "source": [
    "@jit\n",
    "def hfull(kx,ky,kz):\n",
    "    H11 = A1 +4*A2*(np.cos(kx)*np.cos(ky) +np.cos(ky)*np.cos(kz) +np.cos(kz)*np.cos(kx)) +2*B1*(np.cos(2*kx) +np.cos(2*ky) +np.cos(2*kz))\n",
    "    H15 = 2*D1*(np.cos(kx) +np.cos(ky) +np.cos(kz)) +8*F1*np.cos(kx)*np.cos(ky)*np.cos(kz)\n",
    "    H22 = A6 +4*A7*np.cos(kx)*(np.cos(ky) +np.cos(kz)) +4*A8*np.cos(ky)*np.cos(kz) +2*B4*np.cos(2*kx) +2*B5*(np.cos(2*ky) +np.cos(2*kz))\n",
    "    H23 = -4*A9*np.sin(kx)*np.sin(ky)\n",
    "    H24 = -4*A9*np.sin(kx)*np.sin(kz)\n",
    "    H26 = 2*D4*np.cos(kx) +2*D5*(np.cos(ky) +np.cos(kz)) +8*F4*np.cos(kx)*np.cos(ky)*np.cos(kz)\n",
    "    H27 = -8*F5*np.sin(kx)*np.sin(ky)*np.cos(kz)\n",
    "    H28 = -8*F5*np.sin(kx)*np.sin(kz)*np.cos(ky)\n",
    "    H33 = A6 +4*A7*np.cos(ky)*(np.cos(kz) +np.cos(kx)) +4*A8*np.cos(kz)*np.cos(kx) +2*B4*np.cos(2*ky) +2*B5*(np.cos(2*kz) +np.cos(2*kx))\n",
    "    H34 = -4*A9*np.sin(ky)*np.sin(kz)\n",
    "    H36 = H27\n",
    "    H37 = 2*D4*np.cos(ky) +2*D5*(np.cos(kz) +np.cos(kx)) +8*F4*np.cos(kx)*np.cos(ky)*np.cos(kz)\n",
    "    H38 = -8*F5*np.sin(ky)*np.sin(kz)*np.cos(kx)\n",
    "    H44 = A6 +4*A7*np.cos(kz)*(np.cos(kx) +np.cos(ky)) +4*A8*np.cos(kx)*np.cos(ky) +2*B4*np.cos(2*kz) +2*B5*(np.cos(2*kx) +np.cos(2*ky))\n",
    "    H46 = H28\n",
    "    H47 = H38\n",
    "    H48 = 2*D4*np.cos(kz) +2*D5*(np.cos(ky) +np.cos(kx)) +8*F4*np.cos(kx)*np.cos(ky)*np.cos(kz)\n",
    "    H55 = C1 +4*C2*(np.cos(kx)*np.cos(ky) +np.cos(ky)*np.cos(kz) +np.cos(kz)*np.cos(kx)) +2*E1*(np.cos(2*kx) +np.cos(2*ky) +np.cos(2*kz))\n",
    "    H66 = C6 +4*C7*np.cos(kx)*(np.cos(ky) +np.cos(kz)) +4*C8*np.cos(ky)*np.cos(kz) +2*E4*np.cos(2*kx) +2*E5*(np.cos(2*ky) +np.cos(2*kz))\n",
    "    H67 = -4*C9*np.sin(kx)*np.sin(ky)\n",
    "    H68 = -4*C9*np.sin(kx)*np.sin(kz)\n",
    "    H77 = C6 +4*C7*np.cos(ky)*(np.cos(kz) +np.cos(kx)) +4*C8*np.cos(kz)*np.cos(kx) +2*E4*np.cos(2*ky) +2*E5*(np.cos(2*kz) +np.cos(2*kx))\n",
    "    H78 = -4*C9*np.sin(ky)*np.sin(kz)\n",
    "    H88 = C6 +4*C7*np.cos(kz)*(np.cos(kx) +np.cos(ky)) +4*C8*np.cos(kx)*np.cos(ky) +2*E4*np.cos(2*kz) +2*E5*(np.cos(2*kx) +np.cos(2*ky))\n",
    "\n",
    "    G12 = -4j*A3*np.sin(kx)*(np.cos(ky) +np.cos(kz))-2*B2*np.sin(2*kx)\n",
    "    G13 = -4j*A3*np.sin(ky)*(np.cos(kz) +np.cos(kx))-2*B2*np.sin(2*ky)\n",
    "    G14 = -4j*A3*np.sin(kz)*(np.cos(kx) +np.cos(ky))-2*B2*np.sin(2*kz)\n",
    "    G16 = 2j*D2*np.sin(kx) +8*F3*np.sin(kx)*np.cos(ky)*np.cos(kz)\n",
    "    G17 = 2j*D2*np.sin(ky) +8*F3*np.sin(ky)*np.cos(kz)*np.cos(kx)\n",
    "    G18 = 2j*D2*np.sin(kz) +8*F3*np.sin(kz)*np.cos(kx)*np.cos(ky)\n",
    "    G25 = -2j*D3*np.sin(kx)-8*F2*np.sin(kx)*np.cos(ky)*np.cos(kz)\n",
    "    G35 = -2j*D3*np.sin(ky)-8*F2*np.sin(ky)*np.cos(kz)*np.cos(kx)\n",
    "    G45 = -2j*D3*np.sin(kz)-8*F2*np.sin(kz)*np.cos(kx)*np.cos(ky)\n",
    "    G56 = -4j*C3*np.sin(kx)*(np.cos(ky) +np.cos(kz))-2*E2*np.sin(2*kx)\n",
    "    G57 = -4j*C3*np.sin(ky)*(np.cos(kz) +np.cos(kx))-2*E2*np.sin(2*ky)\n",
    "    G58 = -4j*C3*np.sin(kz)*(np.cos(kx) +np.cos(ky))-2*E2*np.sin(2*kz)\n",
    "    return np.array([[H11, G12, G13, G14, H15, G16, G17, G18],\n",
    "                    [-G12, H22, H23, H24, G25, H26, H27, H28],\n",
    "                    [-G13, H23, H33, H34, G35, H36, H37, H38],\n",
    "                    [-G14, H24, H34, H44, G45, H46, H47, H48],\n",
    "                     [H15,-G25,-G35,-G45, H55, G56, G57, G58],\n",
    "                    [-G16, H26, H36, H46,-G56, H66, H67, H68],\n",
    "                    [-G17, H27, H37, H47,-G57, H67, H77, H78],\n",
    "                    [-G18, H28, H38, H48,-G58, H68, H78, H88]])"
   ]
  },
  {
   "cell_type": "code",
   "execution_count": 341,
   "id": "bf8090af-c55b-49c1-b165-070a0b33e379",
   "metadata": {},
   "outputs": [
    {
     "data": {
      "text/plain": [
       "array([-9.20673531, -3.43268316,  3.06496079,  3.06496079,  3.76328002,\n",
       "        7.07083326,  7.82904791,  7.82904791])"
      ]
     },
     "execution_count": 341,
     "metadata": {},
     "output_type": "execute_result"
    }
   ],
   "source": [
    "np.linalg.eigvalsh(hfull(1,1,1))"
   ]
  },
  {
   "cell_type": "code",
   "execution_count": 342,
   "id": "5647d45c-8703-452d-b46f-3576dd1add3b",
   "metadata": {},
   "outputs": [],
   "source": [
    "b1 = np.pi*np.array([-1,1,1])\n",
    "b2 = np.pi*np.array([1,-1,1])\n",
    "b3 = np.pi*np.array([1,1,-1])"
   ]
  },
  {
   "cell_type": "code",
   "execution_count": 343,
   "id": "d4008bba-6cb4-430f-b69c-ed094fc7e120",
   "metadata": {},
   "outputs": [
    {
     "data": {
      "text/plain": [
       "[<matplotlib.lines.Line2D at 0x7fa5694bd270>,\n",
       " <matplotlib.lines.Line2D at 0x7fa5694bca30>,\n",
       " <matplotlib.lines.Line2D at 0x7fa5694bca60>,\n",
       " <matplotlib.lines.Line2D at 0x7fa5694bd2a0>,\n",
       " <matplotlib.lines.Line2D at 0x7fa56b1595d0>,\n",
       " <matplotlib.lines.Line2D at 0x7fa56b159c60>,\n",
       " <matplotlib.lines.Line2D at 0x7fa5183faa70>,\n",
       " <matplotlib.lines.Line2D at 0x7fa5183faa40>]"
      ]
     },
     "execution_count": 343,
     "metadata": {},
     "output_type": "execute_result"
    },
    {
     "data": {
      "image/png": "[encoded data removed]",
      "text/plain": [
       "<Figure size 640x480 with 1 Axes>"
      ]
     },
     "metadata": {},
     "output_type": "display_data"
    }
   ],
   "source": [
    "import matplotlib.pyplot as plt\n",
    "ks = np.linspace(0,1,100)\n",
    "lams = np.zeros((200,8))\n",
    "L = (b1+b2+b3)/2\n",
    "W = (1/4)*b1+(3/4)*b2+(1/2)*b3\n",
    "for i,k in enumerate(ks):\n",
    "    kvec = W + k*(L-W)\n",
    "    lams[i] = np.linalg.eigvalsh(hfull(kvec[0],kvec[1],kvec[2]))-5\n",
    "for i,k in enumerate(ks):\n",
    "    kvec = L+k*(-L)\n",
    "    lams[i+100] = np.linalg.eigvalsh(hfull(kvec[0],kvec[1],kvec[2]))-5\n",
    "plt.plot(lams)"
   ]
  },
  {
   "cell_type": "code",
   "execution_count": 358,
   "id": "84f6bfd5-bb9e-47d9-a69f-ca7c61aba0c1",
   "metadata": {},
   "outputs": [
    {
     "name": "stdout",
     "output_type": "stream",
     "text": [
      "gap =  0.3786284631808732\n"
     ]
    },
    {
     "data": {
      "text/plain": [
       "array([-13.66583906,  -9.3414106 ,  -1.7575    ,  -1.7575    ,\n",
       "        -0.1282894 ,   0.25033906,   1.8368    ,   1.8368    ])"
      ]
     },
     "execution_count": 358,
     "metadata": {},
     "output_type": "execute_result"
    }
   ],
   "source": [
    "lam = np.linalg.eigvalsh(hfull(L[0],L[1],L[2]))-5\n",
    "print('gap = ', lam[5]-lam[4])\n",
    "lam"
   ]
  },
  {
   "cell_type": "code",
   "execution_count": 435,
   "id": "f9a8c30c-8aff-49c5-a3bf-281efb282a59",
   "metadata": {},
   "outputs": [
    {
     "data": {
      "text/plain": [
       "array([-15.35582044,  -6.70027956,  -2.26982437,  -2.26982437,\n",
       "        -2.26982437,   5.13992437,   5.13992437,   5.13992437])"
      ]
     },
     "execution_count": 435,
     "metadata": {},
     "output_type": "execute_result"
    }
   ],
   "source": [
    "np.linalg.eigvalsh(hfull(0.0,0.0,0.0))-5"
   ]
  },
  {
   "cell_type": "code",
   "execution_count": 399,
   "id": "947a8724-7f08-45a6-ae9c-112c72727a47",
   "metadata": {
    "tags": []
   },
   "outputs": [
    {
     "name": "stdout",
     "output_type": "stream",
     "text": [
      "nn =  48048 , nnn =  90624 , nnnn =  46960\n",
      "Time taken to complete this task:  139.29816603660583\n"
     ]
    }
   ],
   "source": [
    "start = time.time()\n",
    "@jit\n",
    "def neighborlists(N1,N2,Nd):\n",
    "    nnlist = np.zeros((6*N1*N2*Nd,2))\n",
    "    nnnlist = np.zeros((10*N1*N2*Nd,2))\n",
    "    nnnnlist = np.zeros((5*N1*N2*Nd,2))\n",
    "    nn,nnn,nnnn=0,0,0\n",
    "    for i in range(N1*N2*Nd):\n",
    "        n1,n2,alpha = index2site(i,N1,N2)\n",
    "        r = n1*a1_dot+n2*a2_dot+D[alpha]\n",
    "        for j in range(N1*N2*Nd):\n",
    "            n1p,n2p,alphap = index2site(j,N1,N2)\n",
    "            rp = n1p*a1_dot+n2p*a2_dot+D[alphap]\n",
    "            if abs(np.linalg.norm(r-rp)- 1) < 0.1:\n",
    "                nnlist[nn]=np.array([i,j])\n",
    "                nn+=1\n",
    "            elif abs(np.linalg.norm(r-rp) - np.sqrt(2)) < 0.1:\n",
    "                nnnlist[nnn]=np.array([i,j])\n",
    "                nnn+=1\n",
    "            elif abs(np.linalg.norm(r-rp) - np.sqrt(3)) < 0.1:\n",
    "                nnnnlist[nnnn]=np.array([i,j])\n",
    "                nnnn+=1\n",
    "            elif abs(np.linalg.norm(r-rp) - 2) < 0.1:\n",
    "                nnnnlist[nnnn]=np.array([i,j])\n",
    "                nnnn+=1\n",
    "    nnlist = nnlist[:nn]\n",
    "    nnnlist = nnnlist[:nnn]\n",
    "    nnnnlist = nnnnlist[:nnnn]\n",
    "    return nnlist,nnnlist,nnnnlist\n",
    "nnlist,nnnlist,nnnnlist = neighborlists(N1,N2,Nd)\n",
    "nnlist,nnnlist,nnnnlist = nnlist.astype(int),nnnlist.astype(int),nnnnlist.astype(int)\n",
    "print('nn = ', len(nnlist), ', nnn = ', len(nnnlist), ', nnnn = ',len(nnnnlist))\n",
    "print('Time taken to complete this task: ',time.time()-start)"
   ]
  },
  {
   "cell_type": "markdown",
   "id": "d6025563-1e61-4b93-805d-6eb59d71cbb1",
   "metadata": {},
   "source": [
    "### On site terms:"
   ]
  },
  {
   "cell_type": "code",
   "execution_count": 420,
   "id": "55840437-6b4a-4f41-9a78-d7651004c654",
   "metadata": {},
   "outputs": [
    {
     "name": "stdout",
     "output_type": "stream",
     "text": [
      "Time taken to complete this task:  0.35019493103027344\n"
     ]
    }
   ],
   "source": [
    "start = time.time()\n",
    "def Sonsite():\n",
    "    for i in range(N1*N2*Nd*Norb):\n",
    "        n1,n2,alpha = index2site(i,N1,N2)\n",
    "        orb = alpha//Nd\n",
    "        typ = Dtype[alpha%Nd]\n",
    "        if typ==0 and orb == 0:\n",
    "            S[i,i] = A1-5.0\n",
    "        if typ==0 and orb > 0:\n",
    "            S[i,i] = A6-5.0\n",
    "        if typ==1 and orb == 0:\n",
    "            S[i,i] = C1-5.0\n",
    "        if typ==1 and orb > 0:\n",
    "            S[i,i] = C6-5.0\n",
    "Sonsite()\n",
    "print('Time taken to complete this task: ',time.time()-start)"
   ]
  },
  {
   "cell_type": "markdown",
   "id": "ffcba80c-d4c8-4fe3-9510-631994ed7717",
   "metadata": {},
   "source": [
    "### Nearest Neighbors:"
   ]
  },
  {
   "cell_type": "code",
   "execution_count": 421,
   "id": "038a2c0b-1d3b-4348-9f34-89ec58b39163",
   "metadata": {},
   "outputs": [
    {
     "name": "stdout",
     "output_type": "stream",
     "text": [
      "Time taken to complete this task:  0.7557430267333984\n"
     ]
    }
   ],
   "source": [
    "start = time.time()\n",
    "ehat = np.array([[1,0,0],[0,1,0],[0,0,1]])\n",
    "countnntypes=np.zeros((2,2))\n",
    "def Snn():\n",
    "    for i,j in nnlist:\n",
    "        n1,n2,alpha = index2site(i,N1,N2)\n",
    "        n1p,n2p,alphap = index2site(j,N1,N2)\n",
    "\n",
    "        dr = (n1-n1p)*a1_dot+(n2-n2p)*a2_dot+D[alpha%Nd]-D[alphap%Nd]\n",
    "        iorb = alpha//Nd\n",
    "        itype = Dtype[alpha%Nd]\n",
    "        jorb = alphap//Nd\n",
    "        jtype = Dtype[alphap%Nd]\n",
    "        countnntypes[itype,jtype]+=1\n",
    "        \n",
    "        # In the following, there is a symmetry distinction between (px-py, px-pz) and py-pz\n",
    "        # Check the signs: especially for A3 and A9\n",
    "        if itype == 0 and jtype == 0: #Scale up the cos(2kx)-like terms\n",
    "            if iorb == 0 and jorb == 0: ## s-s C-C coupling\n",
    "                S[i, j] = 10*B1\n",
    "            if iorb == 0 and jorb > 0: ## s-p C-C coupling\n",
    "                S[i,j] = 10.0j*B2\n",
    "            if iorb >0 and jorb == 0: ## p-s C-C coupling\n",
    "                S[i,j] = -10.0j*B2\n",
    "            if iorb >0 and jorb >0 and iorb==jorb:  ## p-p C-C coupling\n",
    "                if abs(dr@ehat[iorb])==1:\n",
    "                    S[i,j] = 10*B4\n",
    "                else:\n",
    "                    S[i,j] = 10*B5\n",
    "        if itype == 1 and jtype == 1: #Scale up the cos(2kx)-like terms\n",
    "            if iorb == 0 and jorb == 0: ## s-s A-A coupling\n",
    "                S[i, j] = 10*E1\n",
    "            if iorb == 0 and jorb > 0: ## s-p A-A coupling\n",
    "                S[i,j] = 10.0j*E2\n",
    "            if iorb >0 and jorb == 0: ## p-s A-A coupling\n",
    "                S[i,j] = -10.0j*E2\n",
    "            if iorb >0 and jorb >0 and iorb==jorb:  ## p-p A-A coupling\n",
    "                if abs(dr@ehat[iorb])==1:\n",
    "                    S[i,j] = 10*E4\n",
    "                else:\n",
    "                    S[i,j] = 10*E5\n",
    "            \n",
    "        if itype == 0 and jtype == 1:\n",
    "            if iorb == 0 and jorb == 0: ## s-s C-A coupling\n",
    "                S[i, j] = D1\n",
    "            if iorb == 0 and jorb > 0: ## s-p C-A coupling\n",
    "                S[i,j] = 1.0j*D2\n",
    "            if iorb >0 and jorb == 0: ## p-s C-A coupling\n",
    "                S[i,j] = -1.0j*D3\n",
    "            if iorb >0 and jorb >0 and iorb==jorb:  ## p-p C-A coupling\n",
    "                if abs(dr@ehat[iorb])==1:\n",
    "                    S[i,j] = D4\n",
    "                else:\n",
    "                    S[i,j] = D5\n",
    "        if itype == 1 and jtype == 0:\n",
    "            if iorb == 0 and jorb == 0: ## s-s A-C coupling\n",
    "                S[i, j] = D1\n",
    "            if iorb == 0 and jorb > 0: ## s-p A-C coupling\n",
    "                S[i,j] = -1.0j*D2\n",
    "            if iorb >0 and jorb == 0: ## p-s A-C coupling\n",
    "                S[i,j] = 1.0j*D3\n",
    "            if iorb >0 and jorb >0 and iorb==jorb:  ## p-p A-C coupling\n",
    "                if abs(dr@ehat[iorb])==1:\n",
    "                    S[i,j] = D4\n",
    "                else:\n",
    "                    S[i,j] = D5  \n",
    "Snn()\n",
    "print('Time taken to complete this task: ',time.time()-start)"
   ]
  },
  {
   "cell_type": "code",
   "execution_count": 422,
   "id": "34eb9f92-f32b-4864-b7ba-40ccb829fd53",
   "metadata": {},
   "outputs": [
    {
     "name": "stdout",
     "output_type": "stream",
     "text": [
      "Time taken to complete this task:  1.3511018753051758\n"
     ]
    }
   ],
   "source": [
    "start = time.time()\n",
    "ehat = np.array([[1,0,0],[0,1,0],[0,0,1]])\n",
    "def Snnn():\n",
    "    for i,j in nnnlist:\n",
    "        n1,n2,alpha = index2site(i,N1,N2)\n",
    "        n1p,n2p,alphap = index2site(j,N1,N2)\n",
    "\n",
    "        dr = (n1-n1p)*a1_dot+(n2-n2p)*a2_dot+D[alpha%Nd]-D[alphap%Nd]\n",
    "        iorb = alpha//Nd\n",
    "        itype = Dtype[alpha%Nd]\n",
    "        jorb = alphap//Nd\n",
    "        jtype = Dtype[alphap%Nd]\n",
    "\n",
    "        # In the following, there is a symmetry distinction between (px-py, px-pz) and py-pz\n",
    "        # Check the signs: especially for A3 and A9\n",
    "        if itype == 0 and jtype == 0:\n",
    "            if iorb == 0 and jorb == 0: ## s-s C-C coupling\n",
    "                S[i, j] = A2\n",
    "            if iorb == 0 and jorb > 0: ## s-p C-C coupling\n",
    "                S[i,j] = 1.0j*A3\n",
    "            if iorb >0 and jorb == 0: ## p-s C-C coupling\n",
    "                S[i,j] = -1.0j*A3\n",
    "            if iorb >0 and jorb >0 and iorb==jorb:  ## p-p C-C coupling\n",
    "                if dr@ehat[iorb]==0:\n",
    "                    S[i,j] = A7\n",
    "                else:\n",
    "                    S[i,j] = A8\n",
    "            if iorb >0 and jorb >0 and iorb!=jorb:  ## p-p C-C coupling\n",
    "                S[i,j] = A9\n",
    "        if itype == 1 and jtype == 1:\n",
    "            if iorb == 0 and jorb == 0: ## s-s C-C coupling\n",
    "                S[i, j] = C2\n",
    "            if iorb == 0 and jorb > 0: ## s-p C-C coupling\n",
    "                S[i,j] = 1.0j*C3\n",
    "            if iorb >0 and jorb == 0: ## p-s C-C coupling\n",
    "                S[i,j] = -1.0j*C3\n",
    "            if iorb >0 and jorb >0 and iorb==jorb:  ## p-p C-C coupling\n",
    "                if dr@ehat[iorb]==0:\n",
    "                    S[i,j] = C7\n",
    "                else:\n",
    "                    S[i,j] = C8\n",
    "            if iorb >0 and jorb >0 and iorb!=jorb:  ## p-p C-C coupling\n",
    "                S[i,j] = C9\n",
    "Snnn()            \n",
    "print('Time taken to complete this task: ',time.time()-start)"
   ]
  },
  {
   "cell_type": "code",
   "execution_count": 406,
   "id": "6f96fe1b-07ab-41bd-b8dc-00d5cabae4fc",
   "metadata": {},
   "outputs": [
    {
     "name": "stdout",
     "output_type": "stream",
     "text": [
      "Time taken to complete this task:  1.3202588558197021\n"
     ]
    }
   ],
   "source": [
    "start = time.time()\n",
    "ehat = np.array([[1,0,0],[0,1,0],[0,0,1]])\n",
    "def Snnnn():\n",
    "    for i,j in nnnnlist:\n",
    "        n1,n2,alpha = index2site(i,N1,N2)\n",
    "        n1p,n2p,alphap = index2site(j,N1,N2)\n",
    "\n",
    "        dr = (n1-n1p)*a1_dot+(n2-n2p)*a2_dot+D[alpha%Nd]-D[alphap%Nd]\n",
    "        iorb = alpha//Nd\n",
    "        itype = Dtype[alpha%Nd]\n",
    "        jorb = alphap//Nd\n",
    "        jtype = Dtype[alphap%Nd]\n",
    "\n",
    "        # In the following, there is a symmetry distinction between (px-py, px-pz) and py-pz\n",
    "        # Check the signs: especially for A3 and A9\n",
    "        if np.linalg.norm(dr)==np.sqrt(3):\n",
    "            if itype == 0 and jtype == 1:\n",
    "                if iorb == 0 and jorb == 0: ## s-s C-C coupling\n",
    "                    S[i, j] = F1\n",
    "                if iorb > 0 and jorb == 0: ## s-p C-C coupling\n",
    "                    S[i,j] = 1.0j*F2\n",
    "                if iorb == 0 and jorb > 0: ## s-p C-C coupling\n",
    "                    S[i,j] = 1.0j*F3\n",
    "                if iorb >0 and jorb >0:\n",
    "                    if iorb==jorb:  ## p-p C-C coupling\n",
    "                        S[i,j] = F4\n",
    "                    else:\n",
    "                        S[i,j] = F5                    \n",
    "                    \n",
    "            if itype == 1 and jtype == 0:\n",
    "                if iorb == 0 and jorb == 0: ## s-s C-C coupling\n",
    "                    S[i, j] = F1\n",
    "                if iorb > 0 and jorb == 0: ## s-p C-C coupling\n",
    "                    S[i,j] = -1.0j*F2\n",
    "                if iorb == 0 and jorb > 0: ## s-p C-C coupling\n",
    "                    S[i,j] = -1.0j*F3\n",
    "                if iorb >0 and jorb >0:\n",
    "                    if iorb==jorb:  ## p-p C-C coupling\n",
    "                        S[i,j] = F4\n",
    "                    else:\n",
    "                        S[i,j] = F5                    \n",
    "        \n",
    "        if np.linalg.norm(dr)==2.0:\n",
    "            if itype == 0 and jtype == 0:\n",
    "                if iorb == 0 and jorb == 0: ## s-s C-C coupling\n",
    "                    S[i, j] = B1\n",
    "                if iorb == 0 and jorb > 0: ## s-p C-C coupling\n",
    "                    S[i,j] = 1.0j*B2\n",
    "                if iorb >0 and jorb == 0: ## p-s C-C coupling\n",
    "                    S[i,j] = -1.0j*B2\n",
    "                if iorb >0 and jorb >0 and iorb==jorb:  ## p-p C-C coupling\n",
    "                    if dr@ehat[iorb]==0:\n",
    "                        S[i,j] = B4\n",
    "                    else:\n",
    "                        S[i,j] = B5                    \n",
    "                    \n",
    "            if itype == 1 and jtype == 1:\n",
    "                if iorb == 0 and jorb == 0: ## s-s C-C coupling\n",
    "                    S[i, j] = E1\n",
    "                if iorb == 0 and jorb > 0: ## s-p C-C coupling\n",
    "                    S[i,j] = 1.0j*E2\n",
    "                if iorb >0 and jorb == 0: ## p-s C-C coupling\n",
    "                    S[i,j] = -1.0j*E2\n",
    "                if iorb >0 and jorb >0 and iorb==jorb:  ## p-p C-C coupling\n",
    "                    if dr@ehat[iorb]==0:\n",
    "                        S[i,j] = E4\n",
    "                    else:\n",
    "                        S[i,j] = E5\n",
    "        \n",
    "Snnn()            \n",
    "print('Time taken to complete this task: ',time.time()-start)"
   ]
  },
  {
   "cell_type": "code",
   "execution_count": 451,
   "id": "8a9e83ba-34c7-4dc3-b949-e50fc9c6c590",
   "metadata": {},
   "outputs": [
    {
     "name": "stdout",
     "output_type": "stream",
     "text": [
      "358.86940002441406\n"
     ]
    },
    {
     "data": {
      "text/plain": [
       "array([ 1.991 ,  1.991 ,  1.991 ,  1.991 ,  1.991 ,  1.991 ,  1.991 ,\n",
       "        1.991 ,  1.991 ,  1.991 , -1.8861, -1.8861, -1.8861, -1.8861,\n",
       "       -1.8861, -1.8861, -1.8861, -1.8861, -1.8861, -1.8861, -1.8861,\n",
       "       -1.8861, -1.8861, -1.8861, -1.8861, -1.8861, -1.8861, -1.8861,\n",
       "       -1.8861, -1.8861, -1.8861, -1.8861, -1.8861, -1.8861, -1.8861,\n",
       "       -1.8861, -1.8861, -1.8861, -1.8861, -1.8861, -1.8861, -1.8861,\n",
       "       -1.8861, -1.8861, -1.8861, -1.8861, -1.8861, -1.8861, -1.8861,\n",
       "       -1.8861, -1.8861, -1.8861, -1.8861, -1.8861, -1.8861, -1.8861,\n",
       "       -1.8861, -1.8861, -1.8861, -1.8861, -1.8861, -1.8861, -1.8861,\n",
       "       -1.8861, -1.8861,  1.991 , -1.8861, -1.8861, -1.8861, -1.8861,\n",
       "       -1.8861,  1.991 , -1.8861,  1.991 , -1.8861,  1.991 , -1.8861,\n",
       "        1.991 , -1.8861,  1.991 , -1.8861,  1.991 ,  1.991 ,  1.991 ,\n",
       "        1.991 , -1.8861, -1.8861, -1.8861,  1.991 ,  1.991 , -1.8861,\n",
       "       -1.8861, -1.8861,  1.991 , -1.8861, -1.8861, -1.8861,  1.991 ,\n",
       "        1.991 ,  1.991 ])"
      ]
     },
     "execution_count": 451,
     "metadata": {},
     "output_type": "execute_result"
    }
   ],
   "source": [
    "start = time.time()\n",
    "lam,V = sparse.linalg.eigsh(S,k=100,which='SM')\n",
    "print(time.time()-start)\n",
    "lam"
   ]
  },
  {
   "cell_type": "code",
   "execution_count": null,
   "id": "5fbca6de-4cf4-42ff-969b-8e44f4b531e8",
   "metadata": {},
   "outputs": [],
   "source": [
    "plt.hist(lam,40)"
   ]
  },
  {
   "cell_type": "code",
   "execution_count": 446,
   "id": "60f68ebb-ed82-4046-9c9b-925d40842f6a",
   "metadata": {},
   "outputs": [],
   "source": [
    "rxmax,rymax = 0.0,0.0\n",
    "rxmin,rymin = 0.0,0.0\n",
    "for i in range(N1*N2*Nd):\n",
    "    n1,n2,alpha = index2site(i,N1,N2)\n",
    "    r = n1*a1_dot+n2*a2_dot+D[alpha]\n",
    "    if r[0] > rxmax:\n",
    "        rxmax = r[0]\n",
    "    if r[0] < rxmin:\n",
    "        rxmin = r[0]\n",
    "    if r[1] > rymax:\n",
    "        rymax = r[1]\n",
    "    if r[1] < rymin:\n",
    "        rymin = r[1]\n",
    "canvas = np.zeros((int(rxmax-rxmin)+1,int(rymax-rymin)+1))\n",
    "for i in range(N1*N2*Nd*Norb):\n",
    "    n1,n2,alpha = index2site(i,N1,N2)\n",
    "    r = n1*a1_dot+n2*a2_dot+D[alpha%Nd]\n",
    "    if r[2] == 0.0:\n",
    "        #print(rxmin+r(0),rymin+r(1))\n",
    "        canvas[int(r[0]-rxmin),int(r[1]-rymin)] += abs(V[i,2])"
   ]
  },
  {
   "cell_type": "code",
   "execution_count": 447,
   "id": "684f4a34-d93a-44fa-9bcb-516f225a8719",
   "metadata": {},
   "outputs": [
    {
     "data": {
      "image/png": "[encoded data removed]",
      "text/plain": [
       "<Figure size 640x480 with 2 Axes>"
      ]
     },
     "metadata": {},
     "output_type": "display_data"
    }
   ],
   "source": [
    "x,y = np.mgrid[:canvas.shape[0]//11:44j,:canvas.shape[1]//11:44j]\n",
    "plt.pcolor(x,y,canvas,cmap='Blues')\n",
    "plt.colorbar()\n",
    "plt.xlabel('[superlattice unit cells]')\n",
    "plt.ylabel('[superlattice unit cells]');"
   ]
  },
  {
   "cell_type": "code",
   "execution_count": 248,
   "id": "57dee089-8052-4fec-840a-0f36dc44616c",
   "metadata": {},
   "outputs": [
    {
     "data": {
      "text/plain": [
       "28744"
      ]
     },
     "execution_count": 248,
     "metadata": {},
     "output_type": "execute_result"
    }
   ],
   "source": [
    "S.count_nonzero()"
   ]
  },
  {
   "cell_type": "code",
   "execution_count": 329,
   "id": "cf1c9db8-8dd7-4f4b-aae0-5e99255fc6b5",
   "metadata": {},
   "outputs": [
    {
     "data": {
      "text/plain": [
       "'/Users/mlawler/Code/qdotarrays/solid_out.scad'"
      ]
     },
     "execution_count": 329,
     "metadata": {},
     "output_type": "execute_result"
    }
   ],
   "source": [
    "model = solid.sphere(0.0)\n",
    "scale = 1  # Larger scale will use more facets. \n",
    "state = abs(V[:,0])/abs(V[:,0]).max()\n",
    "for i,j in nnlist:\n",
    "    n1,n2,alpha = index2site(i,N1,N2)\n",
    "    r1 = n1*a1_dot+n2*a2_dot+D[alpha%Nd]\n",
    "    n1p,n2p,alphap = index2site(j,N1,N2)\n",
    "    r1p = n1p*a1_dot+n2p*a2_dot+D[alphap%Nd]\n",
    "    iorb = alpha//Nd\n",
    "    jorb = alphap//Nd\n",
    "    if iorb == 0 and jorb == 0 and S[i,j] !=0:\n",
    "        c = (112/256,128/256,144/256)  # Pb color: blueish-grey\n",
    "        model = line3d(r1,r1p,model,c,scale)\n",
    "model.save_as_scad()"
   ]
  },
  {
   "cell_type": "code",
   "execution_count": null,
   "id": "816ad4a1-16eb-469a-9566-e4241e9cec61",
   "metadata": {},
   "outputs": [],
   "source": []
  }
 ],
 "metadata": {
  "kernelspec": {
   "display_name": "Python 3 (ipykernel)",
   "language": "python",
   "name": "python3"
  },
  "language_info": {
   "codemirror_mode": {
    "name": "ipython",
    "version": 3
   },
   "file_extension": ".py",
   "mimetype": "text/x-python",
   "name": "python",
   "nbconvert_exporter": "python",
   "pygments_lexer": "ipython3",
   "version": "3.10.8"
  }
 },
 "nbformat": 4,
 "nbformat_minor": 5
}
