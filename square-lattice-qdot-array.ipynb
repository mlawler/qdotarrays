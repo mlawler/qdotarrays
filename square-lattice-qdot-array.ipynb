{
 "cells": [
  {
   "cell_type": "code",
   "execution_count": 30,
   "id": "22f142fb-ef91-4818-bdf8-c7e0a37514b9",
   "metadata": {},
   "outputs": [],
   "source": [
    "import numpy as np\n",
    "from scipy import sparse\n",
    "import matplotlib.pyplot as plt\n",
    "import solid2 as solid\n",
    "import time\n",
    "from numba import jit\n",
    "\n",
    "import matplotlib.pyplot as plt"
   ]
  },
  {
   "cell_type": "markdown",
   "id": "9457099b-8fa5-4a8f-a4a9-c097020d631d",
   "metadata": {},
   "source": [
    "## Define a spherical Dot"
   ]
  },
  {
   "cell_type": "code",
   "execution_count": 2,
   "id": "9fcbedc3-0caf-4233-990b-700976363079",
   "metadata": {},
   "outputs": [],
   "source": [
    "class InDot:\n",
    "    def __init__(self,R):\n",
    "        self.R = R\n",
    "    \n",
    "    def __call__(self, r):\n",
    "        return np.linalg.norm(r) < self.R"
   ]
  },
  {
   "cell_type": "code",
   "execution_count": 3,
   "id": "20e183d4-9153-476a-8d15-198955f0a828",
   "metadata": {},
   "outputs": [
    {
     "data": {
      "text/plain": [
       "587"
      ]
     },
     "execution_count": 3,
     "metadata": {},
     "output_type": "execute_result"
    }
   ],
   "source": [
    "a1 = np.array((0,1,1))\n",
    "a2 = np.array((1,0,1))\n",
    "a3 = np.array((1,1,0))\n",
    "dlat = np.array([[0,0,0],[1,0,0]])\n",
    "Ndot1 = 20\n",
    "Ndot2 = 20\n",
    "Ndot3 = 20\n",
    "indot = InDot(5.1)\n",
    "ddot = []\n",
    "for n1 in range(-Ndot1//2,Ndot1//2):\n",
    "    for n2 in range(-Ndot2//2,Ndot2//2):\n",
    "        for n3 in range(-Ndot3//2,Ndot3//2):\n",
    "            for alpha in range(len(dlat)):\n",
    "                r = n1*a1+n2*a2+n3*a3+dlat[alpha]\n",
    "                if indot(r):\n",
    "                    ddot.append(r)\n",
    "ddot = np.array(ddot)\n",
    "Ndot = len(ddot)\n",
    "Ndot"
   ]
  },
  {
   "cell_type": "code",
   "execution_count": 4,
   "id": "21e7aa15-9b7e-4ce6-a10b-5d9a8a48891a",
   "metadata": {},
   "outputs": [
    {
     "data": {
      "text/plain": [
       "np.float64(1.0)"
      ]
     },
     "execution_count": 4,
     "metadata": {},
     "output_type": "execute_result"
    }
   ],
   "source": [
    "min_dist = 10.0\n",
    "for d1 in ddot:\n",
    "    for d2 in ddot:\n",
    "        dist = np.linalg.norm(d1-d2)\n",
    "        if 0 < dist < min_dist:\n",
    "            min_dist = dist\n",
    "min_dist"
   ]
  },
  {
   "cell_type": "code",
   "execution_count": 5,
   "id": "ca9782da-baa4-47da-b0ea-abb60aa49872",
   "metadata": {},
   "outputs": [
    {
     "data": {
      "text/plain": [
       "'/Users/mlawler/Code/qdotarrays/solid_out.scad'"
      ]
     },
     "execution_count": 5,
     "metadata": {},
     "output_type": "execute_result"
    }
   ],
   "source": [
    "model = solid.sphere(0.0)\n",
    "scale = 10  # Larger scale will use more facets. \n",
    "for d in ddot:\n",
    "    if d.sum() % 2 == 0:\n",
    "        c = (112/256,128/256,144/256)  # Pb color: blueish-grey\n",
    "    else:\n",
    "        c = (150/256,0,0)  # Selenium color: deep red\n",
    "    model += solid.sphere(scale*0.5).\\\n",
    "        color(c).\\\n",
    "        translate(scale*d)\n",
    "model.save_as_scad()"
   ]
  },
  {
   "cell_type": "markdown",
   "id": "1bb043c5-e937-456d-a37b-52b599caeb42",
   "metadata": {},
   "source": [
    "## Square superlattice of dots"
   ]
  },
  {
   "cell_type": "code",
   "execution_count": 6,
   "id": "48108ab3-8bc0-46a9-9869-704cad709924",
   "metadata": {},
   "outputs": [],
   "source": [
    "a_dot = 11.0\n",
    "a1_dot = np.array((a_dot,0,0))\n",
    "a2_dot = np.array((0,a_dot,0))\n",
    "D = np.array(ddot)  ## makes a copy of ddot\n",
    "Dtype = np.array([D[alpha].sum()%2 for alpha in range(len(D))])"
   ]
  },
  {
   "cell_type": "code",
   "execution_count": 7,
   "id": "f2aa719a-9fd5-46e8-990a-9e67a8eb9f44",
   "metadata": {},
   "outputs": [
    {
     "data": {
      "text/plain": [
       "np.float64(1.0)"
      ]
     },
     "execution_count": 7,
     "metadata": {},
     "output_type": "execute_result"
    }
   ],
   "source": [
    "min_dist = 10.0\n",
    "for alpha in range(len(D)):\n",
    "    for beta in range(len(D)):\n",
    "        dist = np.linalg.norm(D[alpha] - a1_dot+D[beta])\n",
    "        min_dist = min(dist,min_dist)\n",
    "min_dist"
   ]
  },
  {
   "cell_type": "code",
   "execution_count": 8,
   "id": "4e85964a-dd8a-4dad-b1aa-6eab9aead302",
   "metadata": {},
   "outputs": [
    {
     "name": "stdout",
     "output_type": "stream",
     "text": [
      "2988\n"
     ]
    }
   ],
   "source": [
    "count = 0\n",
    "for d1 in D:\n",
    "    for d2 in D:\n",
    "        if 0.0 < np.linalg.norm(d2-d1) < 1.01:\n",
    "            count += 1\n",
    "print(count)"
   ]
  },
  {
   "cell_type": "code",
   "execution_count": 9,
   "id": "4ea9959e-a068-45ff-9235-7ba687463ac7",
   "metadata": {},
   "outputs": [],
   "source": [
    "@jit\n",
    "def site2index(n1,n2,alpha,N1,N2):\n",
    "    return n1+n2*N1+alpha*N1*N2\n",
    "@jit\n",
    "def index2site(i,N1,N2):\n",
    "    n1 = i%N1\n",
    "    n2 = (i//N1)%N2\n",
    "    alpha = (i//(N1*N2))\n",
    "    return (n1,n2,alpha)"
   ]
  },
  {
   "cell_type": "code",
   "execution_count": 10,
   "id": "15902464-7f50-415d-9fa7-2a4c3ed1df34",
   "metadata": {},
   "outputs": [
    {
     "data": {
      "text/plain": [
       "'/Users/mlawler/Code/qdotarrays/solid_out.scad'"
      ]
     },
     "execution_count": 10,
     "metadata": {},
     "output_type": "execute_result"
    }
   ],
   "source": [
    "N1 = 3\n",
    "N2 = 3\n",
    "model = solid.sphere(0.0)\n",
    "scale = 10  # Larger scale will use more facets. \n",
    "for i in range(N1*N2*len(D)):\n",
    "    n1,n2,alpha = index2site(i,N1,N2)\n",
    "    r = n1*a1_dot+n2*a2_dot+D[alpha]\n",
    "    \n",
    "    if Dtype[alpha] == 0:\n",
    "        c = (112/256,128/256,144/256)  # Pb color: blueish-grey\n",
    "    else:\n",
    "        c = (150/256,0,0)  # Selenium color: deep red\n",
    "    model += solid.sphere(scale*0.5).\\\n",
    "        color(c).\\\n",
    "        translate(scale*r)\n",
    "model.save_as_scad()"
   ]
  },
  {
   "cell_type": "markdown",
   "id": "c1a3205a-4d65-4770-984a-0f375576125e",
   "metadata": {},
   "source": [
    "## Electronic Structure"
   ]
  },
  {
   "cell_type": "markdown",
   "id": "e75c96b1-6dab-484f-9fb4-37b718e58cb0",
   "metadata": {},
   "source": [
    "### s,p orbital model\n",
    "I take this model from the nearest neighbor model of \"Band gap anomaly and topological properties in lead chalcogenides\" by Nie, Xu, Xu, Fang, Chinese Physics B 2016:\n",
    "\n",
    "https://iopscience.iop.org/article/10.1088/1674-1056/25/3/037311/meta"
   ]
  },
  {
   "cell_type": "code",
   "execution_count": 31,
   "id": "6d80c7fd-f1aa-4c37-bfcb-d8dd9cc44dc0",
   "metadata": {},
   "outputs": [],
   "source": [
    "N1 = 2\n",
    "N2 = 2\n",
    "Nd = len(D)\n",
    "Norb = 4\n",
    "S = sparse.dok_matrix((N1*N2*Nd*Norb, N1*N2*Nd*Norb),dtype=np.complex128)"
   ]
  },
  {
   "cell_type": "markdown",
   "id": "881cb4a6-a925-48cb-b376-81ae13377df3",
   "metadata": {},
   "source": [
    "Let's treat the orbitals as first Nd values of alpha are s orbitals, next Nd values are px, next Nd values are py and last Nd values are pz. The onsite and nearest neighbor parameters are:"
   ]
  },
  {
   "cell_type": "code",
   "execution_count": 32,
   "id": "78205d6d-0628-4ddb-8353-0c6bc9ea18f4",
   "metadata": {},
   "outputs": [],
   "source": [
    "# PbTe\n",
    "mu = 6.0\n",
    "A1 = -1.6603 \n",
    "A2 = 0.0959 \n",
    "A3 = -0.0406 \n",
    "A6 = 7.2422 \n",
    "A7 = -0.0574\n",
    "A8 = -0.0419\n",
    "A9 = 0.2693\n",
    "C1 = -5.0836\n",
    "C2 = -0.0907\n",
    "C3 = 0.1788 \n",
    "C6 = 4.2744 \n",
    "C7 = 0.1740 \n",
    "C8 = -0.0203\n",
    "C9 = 0.1201\n",
    "B1 = -0.1082\n",
    "B2 = 0.1113 \n",
    "B4 = 0.4579 \n",
    "B5 = 0.0870 \n",
    "E1 = -0.1947 \n",
    "E2 = -0.1733 \n",
    "E4 = 0.1516 \n",
    "E5 = 0.0360 \n",
    "D1 = -0.5565 \n",
    "D2 = 1.2389 \n",
    "D3 = -1.4907 \n",
    "D4 = 1.8633 \n",
    "D5 = -0.3287\n",
    "F1 = 0.2688 \n",
    "F2 = -0.0481\n",
    "F3 = -0.0067\n",
    "F4 = 0.0868 \n",
    "F5 = 0.0564"
   ]
  },
  {
   "cell_type": "code",
   "execution_count": 12,
   "id": "8cce0ca0-0994-4750-a3a6-52824d52a5f1",
   "metadata": {},
   "outputs": [],
   "source": [
    "# PbSe\n",
    "mu = 5.0\n",
    "A1 = -2.0072\n",
    "A2 = 0.0891\n",
    "A3 = -0.0215 \n",
    "A6 = 6.9910 \n",
    "A7 = -0.0259 \n",
    "A8 = -0.0283 \n",
    "A9 = 0.3110 \n",
    "C1 = -7.8493\n",
    "C2 = -0.0848\n",
    "C3 = 0.1689\n",
    "C6 = 3.1139\n",
    "C7 = 0.1686\n",
    "C8 = -0.0188\n",
    "C9 = 0.1356\n",
    "B1 = -0.1537\n",
    "B2 = 0.0974\n",
    "B4 = 0.4891\n",
    "B5 = 0.1050\n",
    "E1 = -0.2215\n",
    "E2 = -0.1308\n",
    "E4 = 0.1409\n",
    "E5 = 0.0330\n",
    "D1 = -0.6076\n",
    "D2 = 1.2714\n",
    "D3 = -1.4507\n",
    "D4 = 1.8474\n",
    "D5 = -0.2950\n",
    "F1 = 0.3100\n",
    "F2 = -0.0491\n",
    "F3 = -0.0069\n",
    "F4 = 0.1013\n",
    "F5 = 0.0425"
   ]
  },
  {
   "cell_type": "markdown",
   "id": "e042c44f-8c05-41cb-95ac-918a81f8820e",
   "metadata": {},
   "source": [
    "Block Hamiltonian is then:"
   ]
  },
  {
   "cell_type": "code",
   "execution_count": 33,
   "id": "5668f265-c34a-418c-bb58-355dca2484a6",
   "metadata": {},
   "outputs": [],
   "source": [
    "@jit\n",
    "def hfull(kx,ky,kz):\n",
    "    H11 = A1 +4*A2*(np.cos(kx)*np.cos(ky) +np.cos(ky)*np.cos(kz) +np.cos(kz)*np.cos(kx)) +2*B1*(np.cos(2*kx) +np.cos(2*ky) +np.cos(2*kz))\n",
    "    H15 = 2*D1*(np.cos(kx) +np.cos(ky) +np.cos(kz)) +8*F1*np.cos(kx)*np.cos(ky)*np.cos(kz)\n",
    "    H22 = A6 +4*A7*np.cos(kx)*(np.cos(ky) +np.cos(kz)) +4*A8*np.cos(ky)*np.cos(kz) +2*B4*np.cos(2*kx) +2*B5*(np.cos(2*ky) +np.cos(2*kz))\n",
    "    H23 = -4*A9*np.sin(kx)*np.sin(ky)\n",
    "    H24 = -4*A9*np.sin(kx)*np.sin(kz)\n",
    "    H26 = 2*D4*np.cos(kx) +2*D5*(np.cos(ky) +np.cos(kz)) +8*F4*np.cos(kx)*np.cos(ky)*np.cos(kz)\n",
    "    H27 = -8*F5*np.sin(kx)*np.sin(ky)*np.cos(kz)\n",
    "    H28 = -8*F5*np.sin(kx)*np.sin(kz)*np.cos(ky)\n",
    "    H33 = A6 +4*A7*np.cos(ky)*(np.cos(kz) +np.cos(kx)) +4*A8*np.cos(kz)*np.cos(kx) +2*B4*np.cos(2*ky) +2*B5*(np.cos(2*kz) +np.cos(2*kx))\n",
    "    H34 = -4*A9*np.sin(ky)*np.sin(kz)\n",
    "    H36 = H27\n",
    "    H37 = 2*D4*np.cos(ky) +2*D5*(np.cos(kz) +np.cos(kx)) +8*F4*np.cos(kx)*np.cos(ky)*np.cos(kz)\n",
    "    H38 = -8*F5*np.sin(ky)*np.sin(kz)*np.cos(kx)\n",
    "    H44 = A6 +4*A7*np.cos(kz)*(np.cos(kx) +np.cos(ky)) +4*A8*np.cos(kx)*np.cos(ky) +2*B4*np.cos(2*kz) +2*B5*(np.cos(2*kx) +np.cos(2*ky))\n",
    "    H46 = H28\n",
    "    H47 = H38\n",
    "    H48 = 2*D4*np.cos(kz) +2*D5*(np.cos(ky) +np.cos(kx)) +8*F4*np.cos(kx)*np.cos(ky)*np.cos(kz)\n",
    "    H55 = C1 +4*C2*(np.cos(kx)*np.cos(ky) +np.cos(ky)*np.cos(kz) +np.cos(kz)*np.cos(kx)) +2*E1*(np.cos(2*kx) +np.cos(2*ky) +np.cos(2*kz))\n",
    "    H66 = C6 +4*C7*np.cos(kx)*(np.cos(ky) +np.cos(kz)) +4*C8*np.cos(ky)*np.cos(kz) +2*E4*np.cos(2*kx) +2*E5*(np.cos(2*ky) +np.cos(2*kz))\n",
    "    H67 = -4*C9*np.sin(kx)*np.sin(ky)\n",
    "    H68 = -4*C9*np.sin(kx)*np.sin(kz)\n",
    "    H77 = C6 +4*C7*np.cos(ky)*(np.cos(kz) +np.cos(kx)) +4*C8*np.cos(kz)*np.cos(kx) +2*E4*np.cos(2*ky) +2*E5*(np.cos(2*kz) +np.cos(2*kx))\n",
    "    H78 = -4*C9*np.sin(ky)*np.sin(kz)\n",
    "    H88 = C6 +4*C7*np.cos(kz)*(np.cos(kx) +np.cos(ky)) +4*C8*np.cos(kx)*np.cos(ky) +2*E4*np.cos(2*kz) +2*E5*(np.cos(2*kx) +np.cos(2*ky))\n",
    "\n",
    "    G12 = 1.0j*(-4*A3*np.sin(kx)*(np.cos(ky) +np.cos(kz))-2*B2*np.sin(2*kx))\n",
    "    G13 = 1.0j*(-4*A3*np.sin(ky)*(np.cos(kz) +np.cos(kx))-2*B2*np.sin(2*ky))\n",
    "    G14 = 1.0j*(-4*A3*np.sin(kz)*(np.cos(kx) +np.cos(ky))-2*B2*np.sin(2*kz))\n",
    "    G16 = 1.0j*(2*D2*np.sin(kx) +8*F3*np.sin(kx)*np.cos(ky)*np.cos(kz))\n",
    "    G17 = 1.0j*(2*D2*np.sin(ky) +8*F3*np.sin(ky)*np.cos(kz)*np.cos(kx))\n",
    "    G18 = 1.0j*(2*D2*np.sin(kz) +8*F3*np.sin(kz)*np.cos(kx)*np.cos(ky))\n",
    "    G25 = 1.0j*(-2*D3*np.sin(kx)-8*F2*np.sin(kx)*np.cos(ky)*np.cos(kz))\n",
    "    G35 = 1.0j*(-2*D3*np.sin(ky)-8*F2*np.sin(ky)*np.cos(kz)*np.cos(kx))\n",
    "    G45 = 1.0j*(-2*D3*np.sin(kz)-8*F2*np.sin(kz)*np.cos(kx)*np.cos(ky))\n",
    "    G56 = 1.0j*(-4*C3*np.sin(kx)*(np.cos(ky) +np.cos(kz))-2*E2*np.sin(2*kx))\n",
    "    G57 = 1.0j*(-4*C3*np.sin(ky)*(np.cos(kz) +np.cos(kx))-2*E2*np.sin(2*ky))\n",
    "    G58 = 1.0j*(-4*C3*np.sin(kz)*(np.cos(kx) +np.cos(ky))-2*E2*np.sin(2*kz))\n",
    "    return np.array([[H11, G12, G13, G14, H15, G16, G17, G18],\n",
    "                    [-G12, H22, H23, H24, G25, H26, H27, H28],\n",
    "                    [-G13, H23, H33, H34, G35, H36, H37, H38],\n",
    "                    [-G14, H24, H34, H44, G45, H46, H47, H48],\n",
    "                    [ H15,-G25,-G35,-G45, H55, G56, G57, G58],\n",
    "                    [-G16, H26, H36, H46,-G56, H66, H67, H68],\n",
    "                    [-G17, H27, H37, H47,-G57, H67, H77, H78],\n",
    "                    [-G18, H28, H38, H48,-G58, H68, H78, H88]]) - mu*np.eye(8)"
   ]
  },
  {
   "cell_type": "code",
   "execution_count": 34,
   "id": "8725ad25-aa19-4e54-968c-43d7c69e930f",
   "metadata": {},
   "outputs": [
    {
     "data": {
      "text/plain": [
       "array([[1, 0, 0, 0, 0, 0, 0, 0],\n",
       "       [0, 0, 0, 1, 0, 0, 0, 0],\n",
       "       [0, 1, 0, 0, 0, 0, 0, 0],\n",
       "       [0, 0, 1, 0, 0, 0, 0, 0],\n",
       "       [0, 0, 0, 0, 1, 0, 0, 0],\n",
       "       [0, 0, 0, 0, 0, 0, 0, 1],\n",
       "       [0, 0, 0, 0, 0, 1, 0, 0],\n",
       "       [0, 0, 0, 0, 0, 0, 1, 0]])"
      ]
     },
     "execution_count": 34,
     "metadata": {},
     "output_type": "execute_result"
    }
   ],
   "source": [
    "R111 = np.array([[1,0,0,0,0,0,0,0],[0,0,0,1,0,0,0,0],[0,1,0,0,0,0,0,0],[0,0,1,0,0,0,0,0],[0,0,0,0,1,0,0,0],[0,0,0,0,0,0,0,1],[0,0,0,0,0,1,0,0],[0,0,0,0,0,0,1,0]])\n",
    "R111"
   ]
  },
  {
   "cell_type": "code",
   "execution_count": 35,
   "id": "badfecf2-50a4-44d3-9377-1d36f6212bf1",
   "metadata": {
    "tags": []
   },
   "outputs": [
    {
     "data": {
      "text/plain": [
       "array([[ 0.+0.j, -0.+0.j, -0.+0.j, -0.+0.j,  0.+0.j,  0.+0.j,  0.+0.j,\n",
       "         0.+0.j],\n",
       "       [ 0.+0.j,  0.+0.j,  0.+0.j,  0.+0.j,  0.+0.j,  0.+0.j,  0.+0.j,\n",
       "         0.+0.j],\n",
       "       [ 0.+0.j,  0.+0.j,  0.+0.j,  0.+0.j,  0.+0.j,  0.+0.j,  0.+0.j,\n",
       "         0.+0.j],\n",
       "       [ 0.+0.j,  0.+0.j,  0.+0.j,  0.+0.j,  0.+0.j,  0.+0.j,  0.+0.j,\n",
       "         0.+0.j],\n",
       "       [ 0.+0.j, -0.+0.j, -0.+0.j, -0.+0.j,  0.+0.j, -0.+0.j, -0.+0.j,\n",
       "        -0.+0.j],\n",
       "       [-0.+0.j,  0.+0.j,  0.+0.j,  0.+0.j,  0.+0.j,  0.+0.j,  0.+0.j,\n",
       "         0.+0.j],\n",
       "       [-0.+0.j,  0.+0.j,  0.+0.j,  0.+0.j,  0.+0.j,  0.+0.j,  0.+0.j,\n",
       "         0.+0.j],\n",
       "       [-0.+0.j,  0.+0.j,  0.+0.j,  0.+0.j,  0.+0.j,  0.+0.j,  0.+0.j,\n",
       "         0.+0.j]])"
      ]
     },
     "execution_count": 35,
     "metadata": {},
     "output_type": "execute_result"
    }
   ],
   "source": [
    "hfull(0.1,0.2,0.3)-R111.T@hfull(0.3,0.1,0.2)@R111"
   ]
  },
  {
   "cell_type": "markdown",
   "id": "a48143aa-bd70-49bd-bdf4-33eeb777a91d",
   "metadata": {},
   "source": [
    "### K-space view of the model"
   ]
  },
  {
   "cell_type": "code",
   "execution_count": 36,
   "id": "2be8a368-53d6-4b63-ae63-38cc6108b07d",
   "metadata": {},
   "outputs": [],
   "source": [
    "b1 = np.pi*np.array([-1,1,1])\n",
    "b2 = np.pi*np.array([1,-1,1])\n",
    "b3 = np.pi*np.array([1,1,-1])"
   ]
  },
  {
   "cell_type": "code",
   "execution_count": 37,
   "id": "1e752f9a-59de-4f52-85d1-458306dc4378",
   "metadata": {},
   "outputs": [
    {
     "data": {
      "text/plain": [
       "([<matplotlib.axis.XTick at 0x1168bb470>,\n",
       "  <matplotlib.axis.XTick at 0x1168b9910>,\n",
       "  <matplotlib.axis.XTick at 0x116533590>],\n",
       " [Text(0, 0, 'W'), Text(100, 0, 'L'), Text(200, 0, '$\\\\Gamma$')])"
      ]
     },
     "execution_count": 37,
     "metadata": {},
     "output_type": "execute_result"
    },
    {
     "data": {
      "image/png": "[encoded data removed]",
      "text/plain": [
       "<Figure size 640x480 with 1 Axes>"
      ]
     },
     "metadata": {},
     "output_type": "display_data"
    }
   ],
   "source": [
    "ks = np.linspace(0,1,100)\n",
    "lams = np.zeros((200,8))\n",
    "L = (b1+b2+b3)/2\n",
    "W = (1/4)*b1+(3/4)*b2+(1/2)*b3\n",
    "for i,k in enumerate(ks):\n",
    "    kvec = W + k*(L-W)\n",
    "    lams[i] = np.linalg.eigvalsh(hfull(kvec[0],kvec[1],kvec[2]))\n",
    "for i,k in enumerate(ks):\n",
    "    kvec = L+k*(-L)\n",
    "    lams[i+100] = np.linalg.eigvalsh(hfull(kvec[0],kvec[1],kvec[2]))\n",
    "plt.plot(lams);\n",
    "plt.xticks([0,100,200],[r\"W\", r\"L\",r\"$\\Gamma$\"])"
   ]
  },
  {
   "cell_type": "code",
   "execution_count": 38,
   "id": "cea3f0b3-31cd-4321-8d7e-16a6136ea407",
   "metadata": {},
   "outputs": [
    {
     "name": "stdout",
     "output_type": "stream",
     "text": [
      "(np.float64(0.407269546650597), np.float64(-0.36307934707506984), np.float64(0.7703488937256668))\n"
     ]
    },
    {
     "data": {
      "text/plain": [
       "(np.float64(0.4072695466505975),\n",
       " np.float64(-0.36307934707506984),\n",
       " np.float64(0.7703488937256673))"
      ]
     },
     "execution_count": 38,
     "metadata": {},
     "output_type": "execute_result"
    }
   ],
   "source": [
    "lam,V = np.linalg.eigh(hfull(L[0],L[1],L[2]))\n",
    "print((lams[100,5],lams[100,4],lams[100,5]-lams[100,4]))\n",
    "(lam[5],lam[4],lam[5]-lam[4])"
   ]
  },
  {
   "cell_type": "code",
   "execution_count": 39,
   "id": "ffae2123-ab5b-4fe2-a251-0b5b2e40aff1",
   "metadata": {},
   "outputs": [
    {
     "data": {
      "text/plain": [
       "np.complex128(0.4072695466505965-6.245004513516506e-17j)"
      ]
     },
     "execution_count": 39,
     "metadata": {},
     "output_type": "execute_result"
    }
   ],
   "source": [
    "psi = np.random.rand(8)+1.0j*np.random.rand(8)\n",
    "psi = psi/np.sqrt(np.linalg.norm(psi))\n",
    "V[:,5].conj()@hfull(L[0],L[1],L[2])@V[:,5]"
   ]
  },
  {
   "cell_type": "code",
   "execution_count": 43,
   "id": "ec812dad-329c-4f66-922a-20e1a9be5dfa",
   "metadata": {},
   "outputs": [
    {
     "data": {
      "text/plain": [
       "array([ 1.57079633,  1.57079633, -1.57079633])"
      ]
     },
     "execution_count": 43,
     "metadata": {},
     "output_type": "execute_result"
    }
   ],
   "source": [
    "L"
   ]
  },
  {
   "cell_type": "code",
   "execution_count": 41,
   "id": "c8aa8fc5-8058-4270-ac9f-86daf252cad2",
   "metadata": {},
   "outputs": [
    {
     "name": "stdout",
     "output_type": "stream",
     "text": [
      "zero derivatives (mass terms):\n",
      "[[-3.63079347e-01-1.71056941e-49j  1.51284922e-16-2.53069713e-17j]\n",
      " [ 1.51284922e-16+2.53069713e-17j  4.07269547e-01-6.24500451e-17j]]\n",
      "first derivatives: x,y and z:\n",
      "x:  [[-3.42669834e-06+0.00000000e+00j -7.61715898e-01+1.39436676e-01j]\n",
      " [-7.61715898e-01-1.39436676e-01j  4.03660154e-06-8.47032947e-22j]]\n",
      "y:  [[-3.42669834e-06+0.00000000e+00j -7.61715898e-01+1.39436676e-01j]\n",
      " [-7.61715898e-01-1.39436676e-01j  4.03660154e-06-4.23516474e-22j]]\n",
      "z:  [[-3.42669834e-06+0.j          7.61715898e-01-0.13943668j]\n",
      " [ 7.61715898e-01+0.13943668j  4.03660154e-06+0.j        ]]\n",
      "second derivatives: xx,yy,zz,xy,yz,zx:\n",
      "xx:  [[-6.85339668e-01+0.00000000e+00j  9.00236088e-12-1.64797736e-12j]\n",
      " [ 9.00236088e-12+1.64797736e-12j  8.07320309e-01+0.00000000e+00j]]\n",
      "yy:  [[-6.85339668e-01-2.13821177e-50j  9.00236088e-12-1.64797736e-12j]\n",
      " [ 9.00236088e-12+1.64797736e-12j  8.07320309e-01-5.55111512e-17j]]\n",
      "zz:  [[-6.85339668e-01+0.00000000e+00j  9.00239765e-12-1.64786707e-12j]\n",
      " [ 9.00239765e-12+1.64786707e-12j  8.07320309e-01+0.00000000e+00j]]\n",
      "xy:  [[ 1.57217266e+00+4.27642354e-50j  8.54468378e-13-1.56235208e-13j]\n",
      " [ 8.54468378e-13+1.56235208e-13j -2.47795225e-01+0.00000000e+00j]]\n",
      "yz:  [[-1.57217266e+00+0.00000000e+00j  1.17710071e-12-2.15368735e-13j]\n",
      " [ 1.17710071e-12+2.15368735e-13j  2.47795225e-01+0.00000000e+00j]]\n",
      "zx:  [[-1.57217266e+00-4.27642354e-50j -1.15620970e-12+2.11757766e-13j]\n",
      " [-1.15620970e-12-2.11757766e-13j  2.47795225e-01+0.00000000e+00j]]\n",
      "third derivatives: xxx,yyy,zzz,xxy,xxz,xyy,xyz,xzz,yyz,yzz:\n",
      "xxx:  [[1.30222465e-17+1.18694597e-66j 1.19012587e-01-2.17859698e-02j]\n",
      " [1.19012587e-01+2.17859698e-02j 1.45431167e-17-2.46519033e-32j]]\n",
      "yyy:  [[1.30222465e-17+0.j         1.19012587e-01-0.02178597j]\n",
      " [1.19012587e-01+0.02178597j 1.45431167e-17+0.j        ]]\n",
      "zzz:  [[-1.30222465e-17+0.00000000e+00j -1.19012587e-01+2.17859698e-02j]\n",
      " [-1.19012587e-01-2.17859698e-02j  5.19514897e-17+4.93038066e-32j]]\n",
      "xxy:  [[ 2.87791765e-17+3.70920615e-68j -2.49133734e-02+4.56054280e-03j]\n",
      " [-2.49133734e-02-4.56054280e-03j  1.16920316e-17-4.62223187e-33j]]\n"
     ]
    }
   ],
   "source": [
    "xhat = np.array([1,0,0])\n",
    "yhat = np.array([0,1,0])\n",
    "zhat = np.array([0,0,1])\n",
    "L=(b3)/2  # (Choose one of the L points, b1/2, b2/2, b3/2, or (b1+b2+b3)/2)\n",
    "m,V = np.linalg.eigh(hfull(L[0],L[1],L[2]))\n",
    "bands = [4,5]\n",
    "print('zero derivatives (mass terms):')\n",
    "print(np.array([[V[:,i].conj()@hfull(L[0],L[1],L[2])@V[:,j] for i in bands] for j in bands]))\n",
    "print('first derivatives: x,y and z:')\n",
    "delkx = 0.00001*xhat\n",
    "print('x: ',np.array([[V[:,i].conj()@((hfull((L+delkx)[0],(L+delkx)[1],(L+delkx)[2])-\\\n",
    "                                       hfull(L[0],L[1],L[2]))/np.linalg.norm(delkx))@V[:,j] for i in bands] for j in bands]))\n",
    "delky = 0.00001*yhat\n",
    "print('y: ',np.array([[V[:,i].conj()@((hfull((L+delky)[0],(L+delky)[1],(L+delky)[2])-\\\n",
    "                                       hfull(L[0],L[1],L[2]))/np.linalg.norm(delky))@V[:,j] for i in bands] for j in bands]))\n",
    "delkz = 0.00001*zhat\n",
    "print('z: ',np.array([[V[:,i].conj()@((hfull((L+delkz)[0],(L+delkz)[1],(L+delkz)[2])-\\\n",
    "                                       hfull(L[0],L[1],L[2]))/np.linalg.norm(delkz))@V[:,j] for i in bands] for j in bands]))\n",
    "print('second derivatives: xx,yy,zz,xy,yz,zx:')\n",
    "print('xx: ',np.array([[V[:,i].conj()@((hfull((L+delkx)[0],(L+delkx)[1],(L+delkx)[2])-\\\n",
    "                                        2*hfull(L[0],L[1],L[2])+\\\n",
    "                                        hfull((L-delkx)[0],(L-delkx)[1],(L-delkx)[2]))/np.linalg.norm(delkx)**2)@V[:,j] \n",
    "                                            for i in bands] for j in bands]))\n",
    "print('yy: ',np.array([[V[:,i].conj()@((hfull((L+delky)[0],(L+delky)[1],(L+delky)[2])-\\\n",
    "                                        2*hfull(L[0],L[1],L[2])+\\\n",
    "                                        hfull((L-delky)[0],(L-delky)[1],(L-delky)[2]))/np.linalg.norm(delky)**2)@V[:,j] \n",
    "                                            for i in bands] for j in bands]))\n",
    "print('zz: ',np.array([[V[:,i].conj()@((hfull((L+delkz)[0],(L+delkz)[1],(L+delkz)[2])-\\\n",
    "                                        2*hfull(L[0],L[1],L[2])+\\\n",
    "                                        hfull((L-delkz)[0],(L-delkz)[1],(L-delkz)[2]))/np.linalg.norm(delkz)**2)@V[:,j] \n",
    "                                            for i in bands] for j in bands]))\n",
    "print('xy: ',np.array([[V[:,i].conj()@((hfull((L+delkx+delky)[0],(L+delkx+delky)[1],(L+delkx+delky)[2])-\\\n",
    "                                        hfull((L+delkx-delky)[0],(L+delkx-delky)[1],(L+delkx-delky)[2])-\\\n",
    "                                        hfull((L-delkx+delky)[0],(L-delkx+delky)[1],(L-delkx+delky)[2])+\\\n",
    "                                        hfull((L-delkx-delky)[0],(L-delkx-delky)[1],(L-delkx-delky)[2]))/\\\n",
    "                                        np.linalg.norm(delkx)/np.linalg.norm(delky))@V[:,j] \n",
    "                                            for i in bands] for j in bands]))\n",
    "print('yz: ',np.array([[V[:,i].conj()@((hfull((L+delky+delkz)[0],(L+delky+delkz)[1],(L+delky+delkz)[2])-\\\n",
    "                                        hfull((L+delky-delkz)[0],(L+delky-delkz)[1],(L+delky-delkz)[2])-\\\n",
    "                                        hfull((L-delky+delkz)[0],(L-delky+delkz)[1],(L-delky+delkz)[2])+\\\n",
    "                                        hfull((L-delky-delkz)[0],(L-delky-delkz)[1],(L-delky-delkz)[2]))/\\\n",
    "                                        np.linalg.norm(delky)/np.linalg.norm(delkz))@V[:,j] \n",
    "                                            for i in bands] for j in bands]))\n",
    "print('zx: ',np.array([[V[:,i].conj()@((hfull((L+delkz+delkx)[0],(L+delkz+delkx)[1],(L+delkz+delkx)[2])-\\\n",
    "                                        hfull((L+delkz-delkx)[0],(L+delkz-delkx)[1],(L+delkz-delkx)[2])-\\\n",
    "                                        hfull((L-delkz+delkx)[0],(L-delkz+delkx)[1],(L-delkz+delkx)[2])+\\\n",
    "                                        hfull((L-delkz-delkx)[0],(L-delkz-delkx)[1],(L-delkz-delkx)[2]))/\\\n",
    "                                        np.linalg.norm(delkx)/np.linalg.norm(delky))@V[:,j] \n",
    "                                            for i in bands] for j in bands]))\n",
    "print('third derivatives: xxx,yyy,zzz,xxy,xxz,xyy,xyz,xzz,yyz,yzz:')\n",
    "print('xxx: ',np.array([[V[:,i].conj()@((-0.5*hfull((L-2*delkx)[0],(L-2*delkx)[1],(L-2*delkx)[2])+\\\n",
    "                                        hfull((L-delkx)[0],(L-delkx)[1],(L-delkx)[2])-\\\n",
    "                                        hfull((L+delkx)[0],(L+delkx)[1],(L+delkx)[2])+\\\n",
    "                                        0.5*hfull((L+2*delkx)[0],(L+2*delkx)[1],(L+2*delkx)[2])\\\n",
    "                                        )/np.linalg.norm(delkx)**3)@V[:,j] \n",
    "                                            for i in bands] for j in bands]))\n",
    "print('yyy: ',np.array([[V[:,i].conj()@((-1/2*hfull((L-2*delky)[0],(L-2*delky)[1],(L-2*delky)[2])+\\\n",
    "                                        hfull((L-delky)[0],(L-delky)[1],(L-delky)[2])-\\\n",
    "                                        hfull((L+delky)[0],(L+delky)[1],(L+delky)[2])+\\\n",
    "                                        1/2*hfull((L+2*delky)[0],(L+2*delky)[1],(L+2*delky)[2])\\\n",
    "                                        )/np.linalg.norm(delky)**3)@V[:,j] \n",
    "                                            for i in bands] for j in bands]))\n",
    "print('zzz: ',np.array([[V[:,i].conj()@((-1/2*hfull((L-2*delkz)[0],(L-2*delkz)[1],(L-2*delkz)[2])+\\\n",
    "                                        hfull((L-delkz)[0],(L-delkz)[1],(L-delkz)[2])-\\\n",
    "                                        hfull((L+delkz)[0],(L+delkz)[1],(L+delkz)[2])+\\\n",
    "                                        1/2*hfull((L+2*delkz)[0],(L+2*delkz)[1],(L+2*delkz)[2])\\\n",
    "                                        )/np.linalg.norm(delkz)**3)@V[:,j] \n",
    "                                            for i in bands] for j in bands]))\n",
    "print('xxy: ',np.array([[V[:,i].conj()@((1/2*hfull((L+delkx+delky)[0],(L+delkx+delky)[1],(L+delkx+delky)[2])-\\\n",
    "                                         1/2*hfull((L+delkx-delky)[0],(L+delkx-delky)[1],(L+delkx-delky)[2])+\\\n",
    "                                         1/2*hfull((L-delkx+delky)[0],(L-delkx+delky)[1],(L-delkx+delky)[2])-\\\n",
    "                                         1/2*hfull((L-delkx-delky)[0],(L-delkx-delky)[1],(L-delkx-delky)[2])-\\\n",
    "                                         hfull((L+delky)[0],(L+delky)[1],(L+delky)[2])+\\\n",
    "                                         hfull((L-delky)[0],(L-delky)[1],(L-delky)[2]))/np.linalg.norm(delky)**3)@V[:,j] \n",
    "                                            for i in bands] for j in bands]))"
   ]
  },
  {
   "cell_type": "code",
   "execution_count": 42,
   "id": "8dd9de71-6a7b-46bb-8a24-62a2dc091395",
   "metadata": {
    "scrolled": true
   },
   "outputs": [
    {
     "name": "stdout",
     "output_type": "stream",
     "text": [
      "xy:  [[ 1.57212030e+00+0.00000000e+00j  1.32220168e-14-2.24000978e-15j]\n",
      " [ 1.32220168e-14+2.24000978e-15j -2.47776734e-01+0.00000000e+00j]]\n",
      "xy:  [[ 1.57217218e+00+4.27642354e-50j -1.75820335e-13+3.23653353e-14j]\n",
      " [-1.75820335e-13-3.23653353e-14j -2.47784910e-01-1.38777878e-17j]]\n",
      "xy:  [[ 1.57217259e+00+0.00000000e+00j -7.88231575e-14+1.46094189e-14j]\n",
      " [-7.88231575e-14-1.46094189e-14j -2.47784919e-01+1.38777878e-17j]]\n",
      "xy:  [[ 1.57217266e+00+4.27642354e-50j  8.54468378e-13-1.56235208e-13j]\n",
      " [ 8.54468378e-13+1.56235208e-13j -2.47795225e-01+0.00000000e+00j]]\n",
      "xy:  [[ 1.57297685e+00+0.00000000e+00j  5.42551157e-11-9.93154479e-12j]\n",
      " [ 5.42551157e-11+9.93154479e-12j -2.49068453e-01-1.38777878e-17j]]\n",
      "xy:  [[ 1.57838796e+00-4.27642354e-50j  3.36347685e-10-6.15702836e-11j]\n",
      " [ 3.36347685e-10+6.15702836e-11j -3.03564850e-01-1.38777878e-17j]]\n",
      "xy:  [[-5.56184521e-25-6.63257745e-75j -1.86951648e-08+3.42226233e-09j]\n",
      " [-1.86951648e-08-3.42226233e-09j  6.31358890e-26+3.67341985e-40j]]\n",
      "xy:  [[3.53503973e-23-5.65979942e-73j 2.96318401e-07-5.42428652e-08j]\n",
      " [2.96318401e-07+5.42428652e-08j 6.16598379e-24+5.87747175e-39j]]\n"
     ]
    }
   ],
   "source": [
    "for s in [0.01,0.001,0.0001,0.00001,0.000001,0.0000001,0.00000001,0.000000001]:\n",
    "    delkx = s*xhat\n",
    "    delky = s*yhat\n",
    "    delkz = s*zhat\n",
    "    print('xy: ',np.array([[V[:,i].conj()@((hfull((L+delkx+delky)[0],(L+delkx+delky)[1],(L+delkx+delky)[2])-\\\n",
    "                                        hfull((L+delkx-delky)[0],(L+delkx-delky)[1],(L+delkx-delky)[2])-\\\n",
    "                                        hfull((L-delkx+delky)[0],(L-delkx+delky)[1],(L-delkx+delky)[2])+\\\n",
    "                                        hfull((L-delkx-delky)[0],(L-delkx-delky)[1],(L-delkx-delky)[2]))/\\\n",
    "                                        np.linalg.norm(delkx)/np.linalg.norm(delky))@V[:,j] \n",
    "                                            for i in bands] for j in bands]))\n"
   ]
  },
  {
   "cell_type": "code",
   "execution_count": 80,
   "id": "a65f4e17-294e-4cfd-b128-11ca7ee71a2f",
   "metadata": {},
   "outputs": [
    {
     "data": {
      "text/plain": [
       "array([[-0.5,  0.5,  0.5],\n",
       "       [ 0.5, -0.5,  0.5],\n",
       "       [ 0.5,  0.5, -0.5],\n",
       "       [-0.5, -0.5, -0.5]])"
      ]
     },
     "execution_count": 80,
     "metadata": {},
     "output_type": "execute_result"
    }
   ],
   "source": [
    "np.array([b1/2,b2/2,b3/2,-(b1+b2+b3)/2])/np.pi"
   ]
  },
  {
   "cell_type": "code",
   "execution_count": 32,
   "id": "eba211f6-8d06-4221-8a40-e7ed7e0b2745",
   "metadata": {},
   "outputs": [],
   "source": [
    "a = 1.43313728\n",
    "b = 8.18194738e-01\n",
    "c = 5.00828485\n",
    "E0 = (-1.28289402e-01+2.50339061e-01)/2\n",
    "m = (-1.28289402e-01-2.50339061e-01)/2\n",
    "hL = lambda k0,k1,k2: np.array([[E0+m,\n",
    "                                 a*(k0-L[0])+b*(k1-L[1])+b*(k2-L[2])],\n",
    "                                [a*(k0-L[0])+b*(k1-L[1])+b*(k2-L[1]),\n",
    "                                 E0-m+c*((k0-L[0])**2+(k1-L[1])**2+(k2-L[2])**2)]])"
   ]
  },
  {
   "cell_type": "code",
   "execution_count": 95,
   "id": "28cbf9e2-f9d6-4513-a327-c881feece2aa",
   "metadata": {},
   "outputs": [],
   "source": [
    "a = 1.43313728\n",
    "v = 8.18194738e-01\n",
    "phi = 0.458\n",
    "c = [-1.014/2,1.497/2]\n",
    "d = [-1.480/2,-0.085/2]\n",
    "m = [-1.28289402e-01,2.50339061e-01]\n",
    "hL = lambda k0,k1,k2: np.array([[m[0]+c[0]*((k0-L[0])**2+(k1-L[1])**2+(k2-L[2])**2) + \\\n",
    "                                 (d[0]/abs(L[0]))*(L[0]*(k1-L[1])*(k2-L[2])+L[1]*(k2-L[2])*(k0-L[0])+L[2]*(k0-L[0])*(k1-L[1])),\n",
    "                                 v*np.exp(1.0j*phi)*((k0-L[0])*L[0]+(k1-L[1])*L[1]+(k2-L[2])*L[2])/abs(L[0])],\n",
    "                                [v*np.exp(-1.0j*phi)*((k0-L[0])*L[0]+(k1-L[1])*L[1]+(k2-L[2])*L[2])/abs(L[0]),\n",
    "                                 m[1]+c[1]*((k0-L[0])**2+(k1-L[1])**2+(k2-L[2])**2)+\\\n",
    "                                (d[1]/abs(L[0]))*(L[0]*(k1-L[1])*(k2-L[2])+L[1]*(k2-L[2])*(k0-L[0])+L[2]*(k0-L[0])*(k1-L[1]))]])"
   ]
  },
  {
   "cell_type": "code",
   "execution_count": 34,
   "id": "cf6de338-f603-41b3-998c-98da5e276328",
   "metadata": {},
   "outputs": [
    {
     "data": {
      "text/plain": [
       "(np.float64(0.26043947392895644),\n",
       " np.float64(-0.09787114527679545),\n",
       " np.float64(-0.09787114527679545))"
      ]
     },
     "execution_count": 34,
     "metadata": {},
     "output_type": "execute_result"
    }
   ],
   "source": [
    "(np.array([-a,b,b])@a1/(2*np.pi),np.array([-a,b,b])@a2/(2*np.pi),np.array([-a,b,b])@a3/(2*np.pi))"
   ]
  },
  {
   "cell_type": "code",
   "execution_count": 96,
   "id": "98eefd9a-e496-4dbf-9092-5d8702937ab4",
   "metadata": {},
   "outputs": [
    {
     "data": {
      "image/png": "[encoded data removed]",
      "text/plain": [
       "<Figure size 640x480 with 1 Axes>"
      ]
     },
     "metadata": {},
     "output_type": "display_data"
    }
   ],
   "source": [
    "ks = np.linspace(0,1,100)\n",
    "lams = np.zeros((700,8))\n",
    "lamsL = np.zeros((700,2))\n",
    "Gamma = np.array([0,0,0])\n",
    "K = (3/8)*b1+(3/4)*b2+(3/8)*b3\n",
    "L = (b1+b2+b3)/2\n",
    "W = (1/4)*b1+(3/4)*b2+(1/2)*b3\n",
    "X = np.array([0,0.5,0.5])\n",
    "U = (1/4)*b1+(5/8)*b2+(5/8)*b3\n",
    "for i,k in enumerate(ks):\n",
    "    kvec = Gamma + k*(K-Gamma)\n",
    "    lams[i] = np.linalg.eigvalsh(hfull(kvec[0],kvec[1],kvec[2]))\n",
    "    lamsL[i] = np.linalg.eigvalsh(hL(kvec[0],kvec[1],kvec[2]))\n",
    "for i,k in enumerate(ks):\n",
    "    kvec = K + k*(L-K)\n",
    "    lams[i+100] = np.linalg.eigvalsh(hfull(kvec[0],kvec[1],kvec[2]))\n",
    "    lamsL[i+100] = np.linalg.eigvalsh(hL(kvec[0],kvec[1],kvec[2]))\n",
    "for i,k in enumerate(ks):\n",
    "    kvec = L + k*(W-L)\n",
    "    lams[i+200] = np.linalg.eigvalsh(hfull(kvec[0],kvec[1],kvec[2]))\n",
    "    lamsL[i+200] = np.linalg.eigvalsh(hL(kvec[0],kvec[1],kvec[2]))\n",
    "for i,k in enumerate(ks):\n",
    "    kvec = W+k*(X-W)\n",
    "    lams[i+300] = np.linalg.eigvalsh(hfull(kvec[0],kvec[1],kvec[2]))\n",
    "    lamsL[i+300] = np.linalg.eigvalsh(hL(kvec[0],kvec[1],kvec[2]))\n",
    "for i,k in enumerate(ks):\n",
    "    kvec = X+k*(U-X)\n",
    "    lams[i+400] = np.linalg.eigvalsh(hfull(kvec[0],kvec[1],kvec[2]))\n",
    "    lamsL[i+400] = np.linalg.eigvalsh(hL(kvec[0],kvec[1],kvec[2]))\n",
    "for i,k in enumerate(ks):\n",
    "    kvec = U+k*(L-U)\n",
    "    lams[i+500] = np.linalg.eigvalsh(hfull(kvec[0],kvec[1],kvec[2]))\n",
    "    lamsL[i+500] = np.linalg.eigvalsh(hL(kvec[0],kvec[1],kvec[2]))\n",
    "for i,k in enumerate(ks):\n",
    "    kvec = L+k*(Gamma-L)\n",
    "    lams[i+600] = np.linalg.eigvalsh(hfull(kvec[0],kvec[1],kvec[2]))\n",
    "    lamsL[i+600] = np.linalg.eigvalsh(hL(kvec[0],kvec[1],kvec[2]))\n",
    "fig, ax = plt.subplots()\n",
    "ax.plot(lams,color='gray');\n",
    "ax.plot(lamsL,color='darkblue');\n",
    "ax.vlines([0,100,200,300,400,500,600,700],-17,7,color='lightgray')\n",
    "#ax.axis('off')\n",
    "ax.set_xticks([0,100,200,300,400,500,600,700])\n",
    "ax.set_xticklabels(['Γ','K','L','W','X','U','L','Γ']);\n",
    "plt.ylim([-17,7]);"
   ]
  },
  {
   "cell_type": "markdown",
   "id": "6d45810d-15a5-4983-bf42-3720ee7b43ab",
   "metadata": {},
   "source": [
    "In summary, we can take our effective Hamiltonian to be:\n",
    "\n",
    "$$\n",
    "\\bar\\psi\\left[\\sigma_x (ai\\partial_x + bi\\partial_y + bi\\partial_z) + m\\sigma_z\\right]\\psi\n",
    "$$"
   ]
  },
  {
   "cell_type": "code",
   "execution_count": 253,
   "id": "ba8bebff-cf33-467d-b80e-c1d85adf30d5",
   "metadata": {},
   "outputs": [
    {
     "data": {
      "text/plain": [
       "array([ 1.57079633,  1.57079633, -1.57079633])"
      ]
     },
     "execution_count": 253,
     "metadata": {},
     "output_type": "execute_result"
    }
   ],
   "source": [
    "(b3)/2"
   ]
  },
  {
   "cell_type": "markdown",
   "id": "e3f9f94d-a22c-4e92-9973-14722594d671",
   "metadata": {},
   "source": [
    "### Real space view of model"
   ]
  },
  {
   "cell_type": "code",
   "execution_count": 36,
   "id": "a7df3f93-ed55-40a6-9096-2cf903516328",
   "metadata": {},
   "outputs": [
    {
     "name": "stdout",
     "output_type": "stream",
     "text": [
      "i made it to 2378\n",
      "i made it to 2378 and j to 0\n",
      "nn =  48328 dr =  [ 1. 10.  2.]  with len =  10.246950765959598\n",
      "nn =  191872 , nnn =  361984 , nnnn =  385664\n",
      "Time taken to complete this task:  883.9719018936157\n"
     ]
    }
   ],
   "source": [
    "start = time.time()\n",
    "#@jit\n",
    "def neighborlists(N1,N2,Nd,Norb):\n",
    "    nnlist = np.zeros((50*N1*N2*Nd*Norb,2))\n",
    "    nnnlist = np.zeros((50*N1*N2*Nd*Norb,2))\n",
    "    nnnnlist = np.zeros((50*N1*N2*Nd*Norb,2))\n",
    "    nn,nnn,nnnn=0,0,0\n",
    "    for i in range(N1*N2*Nd*Norb):\n",
    "        n1,n2,alpha = index2site(i,N1,N2)\n",
    "        r = n1*a1_dot+n2*a2_dot+D[alpha%Nd]\n",
    "        coupled = 0\n",
    "        if i == 2378:\n",
    "            print('i made it to 2378')\n",
    "        for j in range(N1*N2*Nd*Norb):\n",
    "            n1p,n2p,alphap = index2site(j,N1,N2)\n",
    "            rp = n1p*a1_dot+n2p*a2_dot+D[alphap%Nd]\n",
    "            if i == 2378 and j == 0:\n",
    "                print('i made it to 2378 and j to 0')\n",
    "                print('nn = ', nn, 'dr = ',r-rp, ' with len = ',np.linalg.norm(r-rp))\n",
    "            if abs(np.linalg.norm(r-rp)- 1.0) < 0.1:\n",
    "                if i==2378 and j == 0:\n",
    "                    print('Suposedly found [2378,0]')\n",
    "                nnlist[nn]=np.array([i,j])\n",
    "                nn+=1\n",
    "                coupled+=1\n",
    "            elif abs(np.linalg.norm(r-rp) - np.sqrt(2)) < 0.1:\n",
    "                nnnlist[nnn]=np.array([i,j])\n",
    "                nnn+=1\n",
    "                coupled+=1\n",
    "            elif abs(np.linalg.norm(r-rp) - np.sqrt(3)) < 0.1:\n",
    "                nnnnlist[nnnn]=np.array([i,j])\n",
    "                nnnn+=1\n",
    "                coupled+=1\n",
    "            elif abs(np.linalg.norm(r-rp) - 2.0) < 0.1:\n",
    "                nnnnlist[nnnn]=np.array([i,j])\n",
    "                nnnn+=1\n",
    "                coupled+=1\n",
    "        if coupled==0:\n",
    "            print('atom ', i, n1, n2, alpha%Nd, ' not coupled to anything!')\n",
    "    nnlist = nnlist[:nn]\n",
    "    nnnlist = nnnlist[:nnn]\n",
    "    nnnnlist = nnnnlist[:nnnn]\n",
    "    return nnlist,nnnlist,nnnnlist\n",
    "nnlist,nnnlist,nnnnlist = neighborlists(N1,N2,Nd,Norb)\n",
    "nnlist,nnnlist,nnnnlist = nnlist.astype(int),nnnlist.astype(int),nnnnlist.astype(int)\n",
    "print('nn = ', len(nnlist), ', nnn = ', len(nnnlist), ', nnnn = ',len(nnnnlist))\n",
    "print('Time taken to complete this task: ',time.time()-start)"
   ]
  },
  {
   "cell_type": "markdown",
   "id": "b343af03-6f4f-4701-b73d-9b0dbc077ba1",
   "metadata": {},
   "source": [
    "### Construct model"
   ]
  },
  {
   "cell_type": "code",
   "execution_count": 37,
   "id": "da4260cf-098d-4910-9b56-cf73f06b2398",
   "metadata": {},
   "outputs": [
    {
     "name": "stdout",
     "output_type": "stream",
     "text": [
      "Time taken to complete this task:  0.05778980255126953\n"
     ]
    }
   ],
   "source": [
    "start = time.time()\n",
    "def Sonsite():\n",
    "    for i in range(N1*N2*Nd*Norb):\n",
    "        n1,n2,alpha = index2site(i,N1,N2)\n",
    "        orb = alpha//Nd\n",
    "        typ = Dtype[alpha%Nd]\n",
    "        if typ==0 and orb == 0:\n",
    "            S[i,i] = A1-mu\n",
    "        elif typ==0 and orb > 0:\n",
    "            S[i,i] = A6-mu\n",
    "        elif typ==1 and orb == 0:\n",
    "            S[i,i] = C1-mu\n",
    "        elif typ==1 and orb > 0:\n",
    "            S[i,i] = C6-mu\n",
    "        else:\n",
    "            print('index ', i,' with type ', typ, ' and orbital ', orb, ' is dropped!')\n",
    "Sonsite()\n",
    "print('Time taken to complete this task: ',time.time()-start)"
   ]
  },
  {
   "cell_type": "code",
   "execution_count": 38,
   "id": "64a1dd52-6864-42f2-b5c9-d38075ddeec7",
   "metadata": {},
   "outputs": [
    {
     "name": "stdout",
     "output_type": "stream",
     "text": [
      "Time taken to complete this task:  1.428920030593872\n"
     ]
    }
   ],
   "source": [
    "start = time.time()\n",
    "ehat = np.array([[1,0,0],[0,1,0],[0,0,1]])\n",
    "countnntypes=np.zeros((2,2))\n",
    "def Snn():\n",
    "    for i,j in nnlist:\n",
    "        n1,n2,alpha = index2site(i,N1,N2)\n",
    "        n1p,n2p,alphap = index2site(j,N1,N2)\n",
    "\n",
    "        dr = (n1-n1p)*a1_dot+(n2-n2p)*a2_dot+D[alpha%Nd]-D[alphap%Nd]\n",
    "        iorb = alpha//Nd\n",
    "        itype = Dtype[alpha%Nd]\n",
    "        jorb = alphap//Nd\n",
    "        jtype = Dtype[alphap%Nd]\n",
    "        countnntypes[itype,jtype]+=1\n",
    "        \n",
    "        # In the following, there is a symmetry distinction between (px-py, px-pz) and py-pz\n",
    "        # Check the signs: especially for A3 and A9\n",
    "        if itype == 0 and jtype == 0: #Scale up the cos(2kx)-like terms\n",
    "            if iorb == 0 and jorb == 0: ## s-s C-C coupling\n",
    "                S[i, j] = 10*B1\n",
    "            elif iorb == 0 and jorb > 0: ## s-p C-C coupling\n",
    "                S[i,j] = 10.0j*B2\n",
    "            elif iorb >0 and jorb == 0: ## p-s C-C coupling\n",
    "                S[i,j] = -10.0j*B2\n",
    "            elif iorb >0 and jorb >0 and iorb==jorb:  ## p-p C-C coupling\n",
    "                if abs(dr@ehat[iorb-1])==1:\n",
    "                    S[i,j] = 10*B4\n",
    "                else:\n",
    "                    S[i,j] = 10*B5\n",
    "        if itype == 1 and jtype == 1: #Scale up the cos(2kx)-like terms\n",
    "            if iorb == 0 and jorb == 0: ## s-s A-A coupling\n",
    "                S[i, j] = 10*E1\n",
    "            elif iorb == 0 and jorb > 0: ## s-p A-A coupling\n",
    "                S[i,j] = 10.0j*E2\n",
    "            elif iorb >0 and jorb == 0: ## p-s A-A coupling\n",
    "                S[i,j] = -10.0j*E2\n",
    "            elif iorb >0 and jorb >0 and iorb==jorb:  ## p-p A-A coupling\n",
    "                if abs(dr@ehat[iorb-1])==1:\n",
    "                    S[i,j] = 10*E4\n",
    "                else:\n",
    "                    S[i,j] = 10*E5\n",
    "            \n",
    "        if itype == 0 and jtype == 1:\n",
    "            if iorb == 0 and jorb == 0: ## s-s C-A coupling\n",
    "                S[i, j] = D1\n",
    "            elif iorb == 0 and jorb > 0: ## s-p C-A coupling\n",
    "                S[i,j] = 1.0j*D2\n",
    "            elif iorb >0 and jorb == 0: ## p-s C-A coupling\n",
    "                S[i,j] = -1.0j*D3\n",
    "            elif iorb >0 and jorb >0 and iorb==jorb:  ## p-p C-A coupling\n",
    "                if abs(dr@ehat[iorb-1])==1:\n",
    "                    S[i,j] = D4\n",
    "                else:\n",
    "                    S[i,j] = D5\n",
    "\n",
    "        if itype == 1 and jtype == 0:\n",
    "            if iorb == 0 and jorb == 0: ## s-s A-C coupling\n",
    "                S[i, j] = D1\n",
    "            elif iorb == 0 and jorb > 0: ## s-p A-C coupling\n",
    "                S[i,j] = -1.0j*D2\n",
    "            elif iorb >0 and jorb == 0: ## p-s A-C coupling\n",
    "                S[i,j] = 1.0j*D3\n",
    "            elif iorb >0 and jorb >0 and iorb==jorb:  ## p-p A-C coupling\n",
    "                if abs(dr@ehat[iorb-1])==1:\n",
    "                    S[i,j] = D4\n",
    "                else:\n",
    "                    S[i,j] = D5\n",
    "Snn()\n",
    "print('Time taken to complete this task: ',time.time()-start)"
   ]
  },
  {
   "cell_type": "code",
   "execution_count": 39,
   "id": "01edc93f-851f-4a70-b7ee-0e98a385444f",
   "metadata": {},
   "outputs": [
    {
     "name": "stdout",
     "output_type": "stream",
     "text": [
      "Time taken to complete this task:  3.118008852005005\n"
     ]
    }
   ],
   "source": [
    "start = time.time()\n",
    "ehat = np.array([[1,0,0],[0,1,0],[0,0,1]])\n",
    "def Snnn():\n",
    "    for i,j in nnnlist:\n",
    "        n1,n2,alpha = index2site(i,N1,N2)\n",
    "        n1p,n2p,alphap = index2site(j,N1,N2)\n",
    "\n",
    "        dr = (n1-n1p)*a1_dot+(n2-n2p)*a2_dot+D[alpha%Nd]-D[alphap%Nd]\n",
    "        iorb = alpha//Nd\n",
    "        itype = Dtype[alpha%Nd]\n",
    "        jorb = alphap//Nd\n",
    "        jtype = Dtype[alphap%Nd]\n",
    "\n",
    "        # In the following, there is a symmetry distinction between (px-py, px-pz) and py-pz\n",
    "        # Check the signs: especially for A3 and A9\n",
    "        if itype == 0 and jtype == 0:\n",
    "            if iorb == 0 and jorb == 0: ## s-s C-C coupling\n",
    "                S[i, j] = A2\n",
    "            if iorb == 0 and jorb > 0: ## s-p C-C coupling\n",
    "                S[i,j] = 1.0j*A3\n",
    "            if iorb >0 and jorb == 0: ## p-s C-C coupling\n",
    "                S[i,j] = -1.0j*A3\n",
    "            if iorb >0 and jorb >0 and iorb==jorb:  ## p-p C-C coupling\n",
    "                if dr@ehat[iorb-1]==0:\n",
    "                    S[i,j] = A7\n",
    "                else:\n",
    "                    S[i,j] = A8\n",
    "            if iorb >0 and jorb >0 and iorb!=jorb:  ## p-p C-C coupling\n",
    "                S[i,j] = A9\n",
    "        if itype == 1 and jtype == 1:\n",
    "            if iorb == 0 and jorb == 0: ## s-s C-C coupling\n",
    "                S[i, j] = C2\n",
    "            if iorb == 0 and jorb > 0: ## s-p C-C coupling\n",
    "                S[i,j] = 1.0j*C3\n",
    "            if iorb >0 and jorb == 0: ## p-s C-C coupling\n",
    "                S[i,j] = -1.0j*C3\n",
    "            if iorb >0 and jorb >0 and iorb==jorb:  ## p-p C-C coupling\n",
    "                if dr@ehat[iorb-1]==0:\n",
    "                    S[i,j] = C7\n",
    "                else:\n",
    "                    S[i,j] = C8\n",
    "            if iorb >0 and jorb >0 and iorb!=jorb:  ## p-p C-C coupling\n",
    "                S[i,j] = C9\n",
    "Snnn()            \n",
    "print('Time taken to complete this task: ',time.time()-start)"
   ]
  },
  {
   "cell_type": "code",
   "execution_count": 40,
   "id": "76cb08aa-8dbf-4530-a829-70b8c1c09bef",
   "metadata": {},
   "outputs": [
    {
     "name": "stdout",
     "output_type": "stream",
     "text": [
      "Time taken to complete this task:  3.1677019596099854\n"
     ]
    }
   ],
   "source": [
    "start = time.time()\n",
    "ehat = np.array([[1,0,0],[0,1,0],[0,0,1]])\n",
    "def Snnnn():\n",
    "    for i,j in nnnnlist:\n",
    "        n1,n2,alpha = index2site(i,N1,N2)\n",
    "        n1p,n2p,alphap = index2site(j,N1,N2)\n",
    "\n",
    "        dr = (n1-n1p)*a1_dot+(n2-n2p)*a2_dot+D[alpha%Nd]-D[alphap%Nd]\n",
    "        iorb = alpha//Nd\n",
    "        itype = Dtype[alpha%Nd]\n",
    "        jorb = alphap//Nd\n",
    "        jtype = Dtype[alphap%Nd]\n",
    "\n",
    "        # In the following, there is a symmetry distinction between (px-py, px-pz) and py-pz\n",
    "        # Check the signs: especially for A3 and A9\n",
    "        if np.linalg.norm(dr)==np.sqrt(3):\n",
    "            if itype == 0 and jtype == 1:\n",
    "                if iorb == 0 and jorb == 0: ## s-s C-C coupling\n",
    "                    S[i, j] = F1\n",
    "                if iorb > 0 and jorb == 0: ## s-p C-C coupling\n",
    "                    S[i,j] = 1.0j*F2\n",
    "                if iorb == 0 and jorb > 0: ## s-p C-C coupling\n",
    "                    S[i,j] = 1.0j*F3\n",
    "                if iorb >0 and jorb >0:\n",
    "                    if iorb==jorb:  ## p-p C-C coupling\n",
    "                        S[i,j] = F4\n",
    "                    else:\n",
    "                        S[i,j] = F5                    \n",
    "                    \n",
    "            if itype == 1 and jtype == 0:\n",
    "                if iorb == 0 and jorb == 0: ## s-s C-C coupling\n",
    "                    S[i, j] = F1\n",
    "                if iorb > 0 and jorb == 0: ## s-p C-C coupling\n",
    "                    S[i,j] = -1.0j*F2\n",
    "                if iorb == 0 and jorb > 0: ## s-p C-C coupling\n",
    "                    S[i,j] = -1.0j*F3\n",
    "                if iorb >0 and jorb >0:\n",
    "                    if iorb==jorb:  ## p-p C-C coupling\n",
    "                        S[i,j] = F4\n",
    "                    else:\n",
    "                        S[i,j] = F5                    \n",
    "        \n",
    "        if np.linalg.norm(dr)==2.0:\n",
    "            if itype == 0 and jtype == 0:\n",
    "                if iorb == 0 and jorb == 0: ## s-s C-C coupling\n",
    "                    S[i, j] = B1\n",
    "                if iorb == 0 and jorb > 0: ## s-p C-C coupling\n",
    "                    S[i,j] = 1.0j*B2\n",
    "                if iorb >0 and jorb == 0: ## p-s C-C coupling\n",
    "                    S[i,j] = -1.0j*B2\n",
    "                if iorb >0 and jorb >0 and iorb==jorb:  ## p-p C-C coupling\n",
    "                    if dr@ehat[iorb-1]==0:\n",
    "                        S[i,j] = B4\n",
    "                    else:\n",
    "                        S[i,j] = B5                    \n",
    "                    \n",
    "            if itype == 1 and jtype == 1:\n",
    "                if iorb == 0 and jorb == 0: ## s-s C-C coupling\n",
    "                    S[i, j] = E1\n",
    "                if iorb == 0 and jorb > 0: ## s-p C-C coupling\n",
    "                    S[i,j] = 1.0j*E2\n",
    "                if iorb >0 and jorb == 0: ## p-s C-C coupling\n",
    "                    S[i,j] = -1.0j*E2\n",
    "                if iorb >0 and jorb >0 and iorb==jorb:  ## p-p C-C coupling\n",
    "                    if dr@ehat[iorb-1]==0:\n",
    "                        S[i,j] = E4\n",
    "                    else:\n",
    "                        S[i,j] = E5\n",
    "        \n",
    "Snnn()            \n",
    "print('Time taken to complete this task: ',time.time()-start)"
   ]
  },
  {
   "cell_type": "markdown",
   "id": "f2292d55-364a-4db6-b912-013e44eb9d3a",
   "metadata": {},
   "source": [
    "### Compute eigenstates"
   ]
  },
  {
   "cell_type": "code",
   "execution_count": 220,
   "id": "917af41b-470c-4f41-aac2-8a95bb9ff5af",
   "metadata": {},
   "outputs": [
    {
     "name": "stdout",
     "output_type": "stream",
     "text": [
      "23.93101978302002\n"
     ]
    }
   ],
   "source": [
    "start = time.time()\n",
    "lam,V = sparse.linalg.eigsh(S,k=200,sigma=0.0)\n",
    "print(time.time()-start)"
   ]
  },
  {
   "cell_type": "code",
   "execution_count": 221,
   "id": "4d1d2023-f78c-4abb-95a3-2d61d7fc2fac",
   "metadata": {},
   "outputs": [
    {
     "name": "stdout",
     "output_type": "stream",
     "text": [
      "[-0.03172273639767115, -0.021231290359070308, -0.021231290359070204, -0.018899759422762168, 0.03347596039882498, 0.03359476752865958, 0.03359476752865988, 0.03373693136607967, 0.03584132286716497, 0.038321435593226455]\n"
     ]
    },
    {
     "data": {
      "text/plain": [
       "array([-0.01889976, -0.02123129, -0.02123129, -0.03172274,  0.03347596,\n",
       "        0.03373693,  0.03584132,  0.03359477,  0.03359477,  0.03832144,\n",
       "        0.03967077,  0.03898731,  0.03898731,  0.04107077,  0.04107077,\n",
       "        0.04644247,  0.04522566,  0.04522566,  0.04522566,  0.04522566,\n",
       "       -0.07583035, -0.1063861 , -0.10086078, -0.10086078, -0.12777273,\n",
       "       -0.13114665, -0.13114665, -0.14366747, -0.14965497, -0.15626077,\n",
       "       -0.1537959 ,  0.1187823 , -0.1537959 ,  0.11988235,  0.11929919,\n",
       "        0.11929919,  0.12455996,  0.12649974,  0.12789823,  0.12823774,\n",
       "        0.12647573,  0.12647573,  0.12954231,  0.13636069,  0.13070782,\n",
       "        0.1307787 ,  0.13327722,  0.13166733,  0.12927867,  0.12927867,\n",
       "        0.12929014,  0.12929014,  0.13409731,  0.13409731,  0.13168724,\n",
       "        0.13168724,  0.15388739,  0.15498558,  0.15557428,  0.1535937 ,\n",
       "        0.1535937 ,  0.16812104,  0.16169446,  0.16169446,  0.17398296,\n",
       "        0.1754715 ,  0.17475789,  0.17477078,  0.1794619 ,  0.17718687,\n",
       "        0.17412835,  0.17412835,  0.17616194,  0.17616194,  0.17713913,\n",
       "        0.17713913, -0.27181351, -0.27289887, -0.27270406, -0.27270406,\n",
       "        0.20700844,  0.20890994, -0.30848125, -0.30346679, -0.30481524,\n",
       "       -0.30437107, -0.30413582,  0.20729547,  0.20729547, -0.30392345,\n",
       "       -0.30392345, -0.30408145, -0.30408145, -0.32029749, -0.32149469,\n",
       "       -0.32902322, -0.3292577 , -0.32925122, -0.32092775, -0.32092775,\n",
       "       -0.32061788, -0.32061788,  0.21719533,  0.21813242,  0.21847327,\n",
       "        0.22080206, -0.3292545 , -0.3292545 ,  0.21923646,  0.21923646,\n",
       "        0.22012354,  0.22012354,  0.23288784,  0.23458069,  0.23489698,\n",
       "        0.23722267,  0.2381923 ,  0.23164254,  0.23164254,  0.24430658,\n",
       "        0.24412146,  0.24042844,  0.24042844,  0.24430658,  0.2550582 ,\n",
       "        0.25641945,  0.25589085,  0.2628393 ,  0.26119969,  0.26129134,\n",
       "        0.25608759,  0.25608759,  0.2579561 ,  0.2579561 ,  0.26127279,\n",
       "        0.26127279,  0.27810987, -0.41835649, -0.41891738, -0.41815117,\n",
       "       -0.41815117,  0.29109007,  0.2835584 ,  0.2835584 ,  0.30229485,\n",
       "        0.29752434,  0.29752434,  0.305906  ,  0.31527363,  0.32050882,\n",
       "        0.32003444,  0.32003444,  0.32461833,  0.32535922,  0.32702578,\n",
       "        0.32855583,  0.33026277,  0.33558329,  0.33199072,  0.32676291,\n",
       "        0.32676291,  0.32822883,  0.32822883,  0.331843  ,  0.331843  ,\n",
       "        0.34660421,  0.34419548,  0.34419548,  0.35763268,  0.35842389,\n",
       "        0.36461128,  0.36506951,  0.36844177,  0.35824934,  0.35824934,\n",
       "        0.36273605,  0.36273605,  0.37610386,  0.37046125,  0.37046125,\n",
       "        0.38143835,  0.38434971,  0.38509074,  0.38392266,  0.38392266,\n",
       "        0.38907982,  0.38907982,  0.39937369,  0.40012334,  0.40333008,\n",
       "        0.39969132,  0.39969132,  0.41169064,  0.41425816,  0.42000608,\n",
       "        0.4153453 ,  0.4153453 ,  0.42218304,  0.42305322,  0.42305322])"
      ]
     },
     "execution_count": 221,
     "metadata": {},
     "output_type": "execute_result"
    }
   ],
   "source": [
    "lam_l = list(lam)\n",
    "lam_l.sort()\n",
    "print(lam_l[40:50])\n",
    "lam"
   ]
  },
  {
   "cell_type": "code",
   "execution_count": 39,
   "id": "06239b0e-3e52-4b93-96d2-3265ad1f1bff",
   "metadata": {},
   "outputs": [
    {
     "data": {
      "text/plain": [
       "(array([ 4.,  0., 20.,  4.,  0.,  0.,  8.,  3.,  1.,  4., 11.,  5., 10.,\n",
       "        22., 16., 20., 16., 21., 15., 20.]),\n",
       " array([-0.41891738, -0.37681885, -0.33472032, -0.29262179, -0.25052326,\n",
       "        -0.20842473, -0.1663262 , -0.12422767, -0.08212914, -0.04003061,\n",
       "         0.00206792,  0.04416645,  0.08626498,  0.12836351,  0.17046204,\n",
       "         0.21256057,  0.2546591 ,  0.29675763,  0.33885616,  0.38095469,\n",
       "         0.42305322]),\n",
       " <BarContainer object of 20 artists>)"
      ]
     },
     "execution_count": 39,
     "metadata": {},
     "output_type": "execute_result"
    },
    {
     "data": {
      "image/png": "[encoded data removed]",
      "text/plain": [
       "<Figure size 640x480 with 1 Axes>"
      ]
     },
     "metadata": {},
     "output_type": "display_data"
    }
   ],
   "source": [
    "plt.hist(lam,20)"
   ]
  },
  {
   "cell_type": "code",
   "execution_count": 74,
   "id": "62a403d3-6e89-48cb-94fb-fe7eb5ce43eb",
   "metadata": {},
   "outputs": [],
   "source": [
    "rxmax,rymax = 0.0,0.0\n",
    "rxmin,rymin = 0.0,0.0\n",
    "for i in range(N1*N2*Nd):\n",
    "    n1,n2,alpha = index2site(i,N1,N2)\n",
    "    r = n1*a1_dot+n2*a2_dot+D[alpha]\n",
    "    if r[0] > rxmax:\n",
    "        rxmax = r[0]\n",
    "    if r[0] < rxmin:\n",
    "        rxmin = r[0]\n",
    "    if r[1] > rymax:\n",
    "        rymax = r[1]\n",
    "    if r[1] < rymin:\n",
    "        rymin = r[1]\n",
    "canvas = np.zeros((int(rxmax-rxmin)+1,int(rymax-rymin)+1))\n",
    "for i in range(N1*N2*Nd*Norb):\n",
    "    n1,n2,alpha = index2site(i,N1,N2)\n",
    "    r = n1*a1_dot+n2*a2_dot+D[alpha%Nd]\n",
    "    if r[2] == 0.0:\n",
    "        #print(rxmin+r(0),rymin+r(1))\n",
    "        canvas[int(r[0]-rxmin),int(r[1]-rymin)] += abs(V[i,0])"
   ]
  },
  {
   "cell_type": "code",
   "execution_count": 75,
   "id": "f65248cb-6b05-4da1-ace1-7b5f1ff7435d",
   "metadata": {},
   "outputs": [
    {
     "data": {
      "text/plain": [
       "0.04107077405996914"
      ]
     },
     "execution_count": 75,
     "metadata": {},
     "output_type": "execute_result"
    }
   ],
   "source": [
    "lam[13]"
   ]
  },
  {
   "cell_type": "code",
   "execution_count": 76,
   "id": "3bb766db-7887-4b57-829c-6377a046bc9c",
   "metadata": {},
   "outputs": [
    {
     "data": {
      "image/png": "[encoded data removed]",
      "text/plain": [
       "<Figure size 640x480 with 2 Axes>"
      ]
     },
     "metadata": {},
     "output_type": "display_data"
    }
   ],
   "source": [
    "plt.pcolor(canvas.T,cmap='Blues')\n",
    "plt.colorbar()\n",
    "plt.xlabel('[superlattice unit cells]')\n",
    "plt.ylabel('[superlattice unit cells]');"
   ]
  },
  {
   "cell_type": "code",
   "execution_count": null,
   "id": "5a963ee3-9c0b-42a3-803a-26653f35e6ac",
   "metadata": {},
   "outputs": [],
   "source": [
    "def heisenberg(theta):\n",
    "    op = qi.Operator([[exp(1.0j*theta/4),0,0,0],\n",
    "                      [0,np.cos(theta/4)*np.exp(1.0j*theta/4),np.sin(theta/4),0],\n",
    "                      [0,np.sin(theta/4),np.cos(theta/4)*np.exp(-1.0j*theta/4),0],\n",
    "                      [0,0,0,exp(1.0j*theta/4)]])"
   ]
  },
  {
   "cell_type": "code",
   "execution_count": null,
   "id": "52dea706-5920-4e08-95c6-0ed613fd232f",
   "metadata": {},
   "outputs": [],
   "source": []
  },
  {
   "cell_type": "code",
   "execution_count": null,
   "id": "36206518-a44a-4ca2-8148-6281faa0f6cf",
   "metadata": {},
   "outputs": [],
   "source": []
  }
 ],
 "metadata": {
  "kernelspec": {
   "display_name": "Python 3 (ipykernel)",
   "language": "python",
   "name": "python3"
  },
  "language_info": {
   "codemirror_mode": {
    "name": "ipython",
    "version": 3
   },
   "file_extension": ".py",
   "mimetype": "text/x-python",
   "name": "python",
   "nbconvert_exporter": "python",
   "pygments_lexer": "ipython3",
   "version": "3.12.5"
  }
 },
 "nbformat": 4,
 "nbformat_minor": 5
}
